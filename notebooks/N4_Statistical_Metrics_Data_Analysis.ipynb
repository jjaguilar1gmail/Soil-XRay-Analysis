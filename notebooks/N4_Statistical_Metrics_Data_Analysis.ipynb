{
 "cells": [
  {
   "cell_type": "code",
   "execution_count": 1,
   "id": "056a7af7",
   "metadata": {},
   "outputs": [],
   "source": [
    "## Fundamental Libraries\n",
    "import pandas as pd\n",
    "import numpy as np\n",
    "from xray_stats import load_process as lp\n",
    "from xray_stats import df_plotting as dp\n",
    "from IPython.display import display\n",
    "import plotly.express as px\n",
    "import time\n",
    "\n",
    "## ML Libraries\n",
    "from sklearn.feature_selection import mutual_info_classif\n",
    "from sklearn.manifold import TSNE\n",
    "from sklearn.decomposition import PCA\n",
    "from statsmodels.formula.api import ols\n",
    "from statsmodels.stats.anova import anova_lm\n",
    "\n",
    "from sklearn.preprocessing import RobustScaler\n",
    "from sklearn.model_selection import train_test_split\n",
    "from sklearn.model_selection import StratifiedGroupKFold\n",
    "from sklearn.metrics import accuracy_score\n",
    "from sklearn.svm import SVC"
   ]
  },
  {
   "cell_type": "markdown",
   "id": "2e9349a1",
   "metadata": {},
   "source": [
    "## Data analysis of statistical soil metrics\n",
    "In this notebook, we begin to analyze the soil metrics computed in the previous notebook. We use the provided df_plotting library, which takes a Pandas dataframe and generates an interactive plotting widget to explore the data, allowing the user filter and plot by different dataframe columns, with 2d and 3d scatter as well as box plots available.\n",
    "\n",
    "The goal was to understand how these metrics were influenced by soil treatment. Below are three cells, one to plot metrics for individual horizontal slices, one to plot metrics averaged across all computed slices of a soil core, and one to plot metrics averaged by 4 depth bins.\n",
    "\n",
    "Keep in mind that three different sliding window sizes were calculated for these metrics (as per the provided precomputed csv's and their settings described in the previous notebook), so make sure to filter by window size (either 50, 100 or 150)."
   ]
  },
  {
   "cell_type": "code",
   "execution_count": 2,
   "id": "1ddd86b2",
   "metadata": {},
   "outputs": [
    {
     "data": {
      "application/vnd.jupyter.widget-view+json": {
       "model_id": "e43a7b59a92e4573847d5734d593d094",
       "version_major": 2,
       "version_minor": 0
      },
      "text/plain": [
       "VBox(children=(HBox(children=(VBox(children=(Dropdown(description='X-axis:', index=12, layout=Layout(width='90…"
      ]
     },
     "metadata": {},
     "output_type": "display_data"
    }
   ],
   "source": [
    "## Soil metrics for each computed horizontal slice\n",
    "df = pd.read_csv('../data/precomputed_soil_stats.csv')\n",
    "filter_cols = [\"stack_index\",\"tiff_index\",\"window_size\",\"tillage\",\"fertilizer\",\"tillage-fertilizer\",\"depth\"]\n",
    "default_cols = [\"skew_mean\",\"kurt_mean\",\"edge_mean\",\"tillage-fertilizer\",\"tiff_index\",\"stack_index\"]\n",
    "gui = dp.build_gui(df,filter_cols,default_cols)\n",
    "display(gui)"
   ]
  },
  {
   "cell_type": "code",
   "execution_count": 6,
   "id": "4df55b07",
   "metadata": {},
   "outputs": [
    {
     "data": {
      "application/vnd.jupyter.widget-view+json": {
       "model_id": "00716ffea7274ab5b35c8f2f8e2b7c1d",
       "version_major": 2,
       "version_minor": 0
      },
      "text/plain": [
       "VBox(children=(HBox(children=(VBox(children=(Dropdown(description='X-axis:', index=10, layout=Layout(width='90…"
      ]
     },
     "metadata": {},
     "output_type": "display_data"
    }
   ],
   "source": [
    "## Soil metrics averaged across all slices (depths) of each soil core x-rayed\n",
    "df = pd.read_csv('../data/precomputed_soil_stats_compiled.csv')\n",
    "filter_cols = [\"stack_index\",\"window_size\",\"tillage\",\"fertilizer\",\"tillage-fertilizer\"]\n",
    "default_cols = [\"skew_mean_mean\",\"kurt_mean_mean\",\"edge_mean_mean\",\"tillage-fertilizer\",\"stack_index\",\"tillage\"]\n",
    "gui = dp.build_gui(df,filter_cols,default_cols)\n",
    "display(gui)"
   ]
  },
  {
   "cell_type": "code",
   "execution_count": 3,
   "id": "ebc434e0",
   "metadata": {},
   "outputs": [
    {
     "data": {
      "application/vnd.jupyter.widget-view+json": {
       "model_id": "c48fcbcc166c4c9d90794d0d0480613f",
       "version_major": 2,
       "version_minor": 0
      },
      "text/plain": [
       "VBox(children=(HBox(children=(VBox(children=(Dropdown(description='X-axis:', index=10, layout=Layout(width='90…"
      ]
     },
     "metadata": {},
     "output_type": "display_data"
    }
   ],
   "source": [
    "## Soil metrics averaged within 4 depth bins for each soil core x-rayed\n",
    "df = pd.read_csv('../data/precomputed_soil_stats_depth_binned.csv')\n",
    "filter_cols = [\"stack_index\",\"tiff_index\",\"window_size\",\"tillage\",\"fertilizer\",\"tillage-fertilizer\",\"min_depth\",\"min_tiff_index\"]\n",
    "default_cols = [\"skew_mean_mean\",\"kurt_mean_mean\",\"edge_mean_mean\",\"tillage-fertilizer\",\"min_depth\",\"stack_index\"]\n",
    "gui = dp.build_gui(df,filter_cols,default_cols)\n",
    "display(gui)"
   ]
  },
  {
   "cell_type": "markdown",
   "id": "519c9a80",
   "metadata": {},
   "source": [
    "**Streamlit version:** These metrics (individual horizontal slices and depth-binned stats) are also viewable through a streamlit app. You can run that app by either running the below command here in the Jupyter cell, running the command (without !) in a commandline terminal (be sure to cd to the top level directory of this analysis package), or visit www... Be sure to have streamlit installed if running locally (pip install streamlit)."
   ]
  },
  {
   "cell_type": "code",
   "execution_count": null,
   "id": "ae0fa89b",
   "metadata": {},
   "outputs": [],
   "source": [
    "!streamlit run ../streamlit/full_data_heterogeneity_vis_1.py"
   ]
  },
  {
   "cell_type": "markdown",
   "id": "a8b2144a",
   "metadata": {},
   "source": [
    "### Initial Observations\n",
    "When plotting by **kurtosis, skewness and sobel edges**, there are some striking visual differences between the different treatments. Native praire is particularly distinct in this space from the other treatments. And high manure vs high fertilizer shows some significant visual seperation. Additionally, most data seems to fall on a curved surface, most evident when plotting all horizontal slices.\n",
    "\n",
    "*To get an intuition of what different regions of this 3D space look like, I wrote a script that interactively lets you select individual plotted points of horizontal slices and see the x-ray image of that slice. These select slices have been predecimated and saved as a part of this analysis package (so no need to access the entire raw x-ray dataset). This code is provided in the **N4b_Soil_Metrics_vs_XRay_Images notebook**.*\n",
    "\n",
    "## Influential Metrics and Feature Selection\n",
    "In this section, our objective is to identify the statistical metrics that most effectively differentiate soil treatments, including tillage and fertilizer applications. To achieve this, we perform feature engineering and prioritize the most informative metrics. Specifically, we focus on three key metrics: average kurtosis, skewness, and sobel edges, which exhibit noticeable visual differences among treatments.\n",
    "\n",
    "### Feature Engineering\n",
    "We begin by evaluating the impact of these three metrics on distinguishing between treatments. While there are numerous available metrics (which can be explored visually using the provided plotting tools), we use mutual information to quantify the relationship between these metrics and the treatments.\n",
    "\n",
    "**Mutual Information:** Mutual information measures the degree of information shared between two variables. In our context, it helps us understand how informative each metric is in classifying soil treatments. Higher mutual information values indicate stronger discrimination potential.\n",
    "\n",
    "### Data Preparation\n",
    "To apply mutual information, we need to structure our data appropriately. For this exercise, we choose the depth-bin-averaged dataset as the basis. We extract all available metrics, creating a feature for each combination of metric and depth (rather than using depth bin as a feature itself). This allows us to capture the nuances of how metrics vary with depth, which can be essential for accurate classification."
   ]
  },
  {
   "cell_type": "code",
   "execution_count": 115,
   "id": "c2c508ab",
   "metadata": {},
   "outputs": [],
   "source": [
    "def get_features(i):\n",
    "    if i in [0, 1, 2, 3]:\n",
    "        # Depth Binned Averages\n",
    "        df = pd.read_csv('../data/precomputed_soil_stats_depth_binned.csv')\n",
    "    elif i in [4, 5]:\n",
    "        # Individual Depths (Horizontal X-Ray Slices)\n",
    "        df = pd.read_csv('../data/precomputed_soil_stats.csv')\n",
    "        \n",
    "    # Common filtering conditions\n",
    "    common_conditions = (df['window_size'] == 50) & (df['denoise'] == True)\n",
    "    df = df[common_conditions]\n",
    "    \n",
    "    # Simple feature refactoring\n",
    "    if i in [0, 1, 4, 5]:\n",
    "        df.reset_index(inplace=True)\n",
    "        if i == 0:\n",
    "            X = df[[\"skew_mean_mean\",\"kurt_mean_mean\",\"edge_mean_mean\"]]\n",
    "        elif i == 1:\n",
    "            X = df[[\"skew_mean_mean\",\"kurt_mean_mean\",\"edge_mean_mean\",\"min_depth\"]]\n",
    "        elif i == 4:\n",
    "            X = df[[\"skew_mean\",\"kurt_mean\",\"edge_mean\"]]\n",
    "        elif i == 5:\n",
    "            X = df[[\"skew_mean\",\"kurt_mean\",\"edge_mean\",\"depth\"]]\n",
    "        y = df[\"tillage-fertilizer\"]\n",
    "        scan = df['stack_index']\n",
    "        \n",
    "    # Metric x Depth Bin Combination features\n",
    "    elif i in [2, 3]:\n",
    "        if i == 2:\n",
    "            X = df[[\"stack_index\",\"skew_mean_mean\",\"kurt_mean_mean\",\"edge_mean_mean\",\"min_depth\",\"tillage-fertilizer\"]]\n",
    "        elif i == 3:\n",
    "            X = df[['stack_index','tillage-fertilizer','skew_mean_mean', 'skew_mean_median', 'skew_mean_std', 'skew_median_mean', 'skew_median_median', 'skew_median_std', 'skew_std_mean', 'skew_std_median', 'skew_std_std', 'skew_p5_mean', 'skew_p5_median', 'skew_p5_std', 'skew_p95_mean', 'skew_p95_median', 'skew_p95_std', 'kurt_mean_mean', 'kurt_mean_median', 'kurt_mean_std', 'kurt_median_mean', 'kurt_median_median', 'kurt_median_std', 'kurt_std_mean', 'kurt_std_median', 'kurt_std_std', 'kurt_p5_mean', 'kurt_p5_median', 'kurt_p5_std', 'kurt_p95_mean', 'kurt_p95_median', 'kurt_p95_std', 'vari_mean_mean', 'vari_mean_median', 'vari_mean_std', 'vari_median_mean', 'vari_median_median', 'vari_median_std', 'vari_std_mean', 'vari_std_median', 'vari_std_std', 'vari_p5_mean', 'vari_p5_median', 'vari_p5_std', 'vari_p95_mean', 'vari_p95_median', 'vari_p95_std', 'edge_mean_mean', 'edge_mean_median', 'edge_mean_std', 'edge_median_mean', 'edge_median_median', 'edge_median_std', 'edge_std_mean', 'edge_std_median', 'edge_std_std', 'edge_p5_mean', 'edge_p5_median', 'edge_p5_std', 'edge_p95_mean', 'edge_p95_median', 'edge_p95_std', 'img_mean_mean', 'img_mean_median', 'img_mean_std', 'img_median_mean', 'img_median_median', 'img_median_std', 'img_std_mean', 'img_std_median', 'img_std_std', 'img_p5_mean', 'img_p5_median', 'img_p5_std', 'img_p95_mean', 'img_p95_median', 'img_p95_std', 'img_mean_norm (g/cm3)_mean', 'img_mean_norm (g/cm3)_median', 'img_mean_norm (g/cm3)_std', 'img_median_norm (g/cm3)_mean', 'img_median_norm (g/cm3)_median', 'img_median_norm (g/cm3)_std', 'img_std_norm (g/cm3)_mean', 'img_std_norm (g/cm3)_median', 'img_std_norm (g/cm3)_std', 'img_p5_norm (g/cm3)_mean', 'img_p5_norm (g/cm3)_median', 'img_p5_norm (g/cm3)_std', 'img_p95_norm (g/cm3)_mean', 'img_p95_norm (g/cm3)_median', 'img_p95_norm (g/cm3)_std', 'mean_depth', 'min_depth']]\n",
    "        X = X.pivot(index='stack_index', columns='min_depth')\n",
    "        X.columns = [f\"{col[0]}_{col[1]}\" for col in X.columns]\n",
    "        X.reset_index(inplace=True)\n",
    "        scan = X['stack_index']\n",
    "        X = X.drop('stack_index',axis=1)\n",
    "        X = X.drop(columns=[col for col in X.columns if col.startswith('tillage-fertilizer') and col != 'tillage-fertilizer_0.0'])\n",
    "        X = X.rename(columns={'tillage-fertilizer_0.0': 'tillage-fertilizer'})      \n",
    "        y = X['tillage-fertilizer']\n",
    "        X = X.drop('tillage-fertilizer',axis=1)\n",
    "\n",
    "    else:\n",
    "        raise ValueError(\"Invalid value of 'i'\")\n",
    "    \n",
    "    return X, y, scan"
   ]
  },
  {
   "cell_type": "code",
   "execution_count": 116,
   "id": "4a023db6",
   "metadata": {},
   "outputs": [
    {
     "data": {
      "application/vnd.plotly.v1+json": {
       "config": {
        "plotlyServerURL": "https://plot.ly"
       },
       "data": [
        {
         "alignmentgroup": "True",
         "hovertemplate": "Feature=%{x}<br>Mutual Information=%{y}<extra></extra>",
         "legendgroup": "",
         "marker": {
          "color": "#636efa",
          "pattern": {
           "shape": ""
          }
         },
         "name": "",
         "offsetgroup": "",
         "orientation": "v",
         "showlegend": false,
         "textposition": "auto",
         "type": "bar",
         "x": [
          "skew_p95_median_6.824999999999999",
          "kurt_p5_median_6.824999999999999",
          "edge_median_mean_0.0",
          "img_std_norm (g/cm3)_mean_6.824999999999999",
          "skew_p95_median_3.51",
          "skew_p95_mean_3.51",
          "skew_p95_mean_6.824999999999999",
          "img_std_norm (g/cm3)_median_6.824999999999999",
          "kurt_p95_median_6.824999999999999",
          "kurt_p95_mean_6.824999999999999",
          "edge_p95_mean_0.0",
          "edge_p95_median_3.51",
          "edge_std_mean_0.0",
          "edge_median_median_0.0",
          "kurt_p5_mean_6.824999999999999",
          "edge_mean_mean_0.0",
          "edge_mean_mean_6.824999999999999",
          "edge_median_std_0.0",
          "kurt_mean_median_6.824999999999999",
          "skew_mean_mean_6.824999999999999",
          "edge_p95_std_6.824999999999999",
          "img_mean_norm (g/cm3)_mean_0.0",
          "edge_p5_mean_0.0",
          "skew_mean_median_6.824999999999999",
          "skew_mean_mean_3.51",
          "edge_mean_median_0.0",
          "img_median_norm (g/cm3)_median_3.51",
          "edge_p95_mean_6.824999999999999",
          "edge_std_mean_3.51",
          "img_median_norm (g/cm3)_mean_0.0",
          "skew_median_mean_6.824999999999999",
          "edge_median_mean_3.51",
          "img_std_norm (g/cm3)_std_6.824999999999999",
          "kurt_p5_median_10.14",
          "kurt_mean_mean_6.824999999999999",
          "img_p5_mean_3.51",
          "edge_std_std_6.824999999999999",
          "kurt_median_median_6.824999999999999",
          "edge_std_median_3.51",
          "kurt_p5_mean_10.14",
          "img_p5_norm (g/cm3)_mean_3.51",
          "edge_p95_mean_3.51",
          "edge_p95_median_0.0",
          "kurt_median_mean_6.824999999999999",
          "edge_mean_median_3.51",
          "skew_mean_median_3.51",
          "skew_p5_median_6.824999999999999",
          "edge_mean_std_0.0",
          "kurt_median_median_0.0",
          "kurt_p5_median_3.51",
          "img_p5_std_0.0",
          "skew_p5_mean_6.824999999999999",
          "skew_median_median_0.0",
          "img_std_norm (g/cm3)_mean_3.51",
          "img_mean_norm (g/cm3)_mean_3.51",
          "img_p5_median_6.824999999999999",
          "edge_mean_median_6.824999999999999",
          "skew_median_mean_0.0",
          "edge_p5_median_6.824999999999999",
          "edge_median_median_3.51",
          "edge_median_mean_6.824999999999999",
          "skew_p95_median_10.14",
          "skew_p95_median_0.0",
          "skew_median_median_6.824999999999999",
          "img_std_norm (g/cm3)_median_3.51",
          "img_p5_median_3.51",
          "kurt_std_median_3.51",
          "skew_p95_mean_0.0",
          "mean_depth_10.14",
          "img_mean_norm (g/cm3)_median_3.51",
          "skew_std_mean_6.824999999999999",
          "img_p95_norm (g/cm3)_std_6.824999999999999",
          "edge_p5_std_10.14",
          "edge_std_median_0.0",
          "skew_std_median_6.824999999999999",
          "mean_depth_6.824999999999999",
          "kurt_p5_mean_3.51",
          "skew_p95_mean_10.14",
          "skew_median_mean_3.51",
          "edge_mean_mean_3.51",
          "img_p5_mean_6.824999999999999",
          "edge_p95_median_6.824999999999999",
          "img_p5_norm (g/cm3)_mean_6.824999999999999",
          "kurt_median_std_10.14",
          "img_mean_norm (g/cm3)_median_0.0",
          "img_p5_norm (g/cm3)_median_3.51",
          "edge_std_mean_6.824999999999999",
          "img_mean_norm (g/cm3)_median_6.824999999999999",
          "img_std_norm (g/cm3)_mean_10.14",
          "edge_p95_median_10.14",
          "img_p95_norm (g/cm3)_median_3.51",
          "img_p5_mean_10.14",
          "img_median_norm (g/cm3)_median_0.0",
          "kurt_p95_median_10.14",
          "skew_p5_median_10.14",
          "skew_mean_median_10.14",
          "skew_mean_mean_10.14",
          "skew_median_median_10.14",
          "edge_median_std_6.824999999999999",
          "img_p5_median_10.14",
          "kurt_median_mean_3.51",
          "kurt_mean_mean_3.51",
          "edge_mean_std_6.824999999999999",
          "skew_p5_mean_10.14",
          "kurt_median_mean_0.0",
          "skew_std_median_3.51",
          "skew_mean_mean_0.0",
          "edge_p5_mean_10.14",
          "edge_std_median_6.824999999999999",
          "kurt_median_std_0.0",
          "img_p5_norm (g/cm3)_mean_0.0",
          "kurt_mean_median_0.0",
          "skew_mean_median_0.0",
          "edge_p95_std_0.0",
          "edge_mean_median_10.14",
          "edge_p5_median_0.0",
          "img_median_norm (g/cm3)_mean_3.51",
          "kurt_median_median_3.51",
          "kurt_p5_std_3.51",
          "edge_p5_mean_6.824999999999999",
          "img_p5_norm (g/cm3)_median_6.824999999999999",
          "img_p5_median_0.0",
          "kurt_p95_mean_3.51",
          "skew_p5_mean_0.0",
          "img_median_norm (g/cm3)_median_6.824999999999999",
          "img_mean_norm (g/cm3)_median_10.14",
          "edge_median_median_10.14",
          "edge_median_median_6.824999999999999",
          "kurt_std_mean_3.51",
          "skew_median_median_3.51",
          "skew_median_mean_10.14",
          "img_std_norm (g/cm3)_median_0.0",
          "skew_std_mean_3.51",
          "edge_p5_std_0.0",
          "kurt_p95_median_3.51",
          "img_p95_norm (g/cm3)_mean_6.824999999999999",
          "edge_p5_std_6.824999999999999",
          "kurt_mean_mean_0.0",
          "img_std_norm (g/cm3)_median_10.14",
          "img_p5_norm (g/cm3)_std_6.824999999999999",
          "edge_mean_mean_10.14",
          "vari_p5_std_10.14",
          "img_mean_median_3.51",
          "vari_p5_median_3.51",
          "kurt_median_median_10.14",
          "vari_p95_std_6.824999999999999",
          "img_median_median_3.51",
          "img_p95_norm (g/cm3)_median_0.0",
          "kurt_mean_median_3.51",
          "edge_std_mean_10.14",
          "vari_p5_mean_6.824999999999999",
          "edge_std_std_0.0",
          "skew_p95_std_6.824999999999999",
          "vari_p5_mean_3.51",
          "img_std_std_6.824999999999999",
          "img_p95_median_10.14",
          "edge_median_mean_10.14",
          "kurt_p5_mean_0.0",
          "img_median_mean_3.51",
          "vari_p5_median_6.824999999999999",
          "img_p5_norm (g/cm3)_median_0.0",
          "edge_std_median_10.14",
          "kurt_mean_median_10.14",
          "img_mean_mean_10.14",
          "mean_depth_0.0",
          "img_mean_mean_3.51",
          "vari_median_std_3.51",
          "img_median_median_10.14",
          "edge_mean_std_10.14",
          "img_mean_median_10.14",
          "img_median_mean_10.14",
          "kurt_median_std_6.824999999999999",
          "img_median_norm (g/cm3)_median_10.14",
          "skew_std_median_0.0",
          "img_mean_norm (g/cm3)_std_6.824999999999999",
          "kurt_std_mean_0.0",
          "img_p5_std_6.824999999999999",
          "img_p95_mean_10.14",
          "img_p5_norm (g/cm3)_median_10.14",
          "img_mean_norm (g/cm3)_mean_6.824999999999999",
          "img_p5_norm (g/cm3)_std_0.0",
          "vari_p95_std_10.14",
          "kurt_p5_std_6.824999999999999",
          "vari_std_mean_6.824999999999999",
          "kurt_p5_std_0.0",
          "kurt_p95_mean_10.14",
          "edge_p5_mean_3.51",
          "img_p5_mean_0.0",
          "edge_std_std_10.14",
          "edge_p5_median_3.51",
          "kurt_mean_mean_10.14",
          "skew_p5_mean_3.51",
          "img_p95_mean_3.51",
          "edge_p95_mean_10.14",
          "img_mean_mean_6.824999999999999",
          "img_p95_norm (g/cm3)_std_3.51",
          "kurt_std_mean_6.824999999999999",
          "img_median_mean_6.824999999999999",
          "vari_mean_std_6.824999999999999",
          "img_p95_median_3.51",
          "mean_depth_3.51",
          "img_mean_median_6.824999999999999",
          "vari_mean_median_3.51",
          "img_std_mean_3.51",
          "edge_p95_std_10.14",
          "kurt_mean_std_10.14",
          "kurt_std_median_6.824999999999999",
          "skew_p5_median_3.51",
          "img_median_median_6.824999999999999",
          "img_std_norm (g/cm3)_std_3.51",
          "img_p95_norm (g/cm3)_mean_10.14",
          "vari_median_std_10.14",
          "vari_median_median_6.824999999999999",
          "kurt_p95_std_3.51",
          "img_std_norm (g/cm3)_mean_0.0",
          "img_mean_std_6.824999999999999",
          "edge_p5_std_3.51",
          "vari_mean_mean_3.51",
          "img_median_norm (g/cm3)_mean_6.824999999999999",
          "img_p5_norm (g/cm3)_mean_10.14",
          "vari_std_median_6.824999999999999",
          "img_std_median_3.51",
          "kurt_mean_std_6.824999999999999",
          "img_p95_std_6.824999999999999",
          "kurt_p5_median_0.0",
          "vari_p95_median_6.824999999999999",
          "edge_median_std_10.14",
          "kurt_median_mean_10.14",
          "skew_p5_median_0.0",
          "img_std_norm (g/cm3)_std_10.14",
          "skew_median_std_10.14",
          "img_mean_median_0.0",
          "img_mean_mean_0.0",
          "skew_p5_std_3.51",
          "vari_median_std_6.824999999999999",
          "skew_p5_std_6.824999999999999",
          "vari_median_mean_6.824999999999999",
          "kurt_std_std_0.0",
          "img_p95_norm (g/cm3)_mean_0.0",
          "img_p95_norm (g/cm3)_median_10.14",
          "vari_p5_std_6.824999999999999",
          "vari_p95_median_3.51",
          "img_mean_std_0.0",
          "img_mean_norm (g/cm3)_mean_10.14",
          "kurt_std_median_0.0",
          "edge_mean_std_3.51",
          "vari_mean_mean_6.824999999999999",
          "img_median_norm (g/cm3)_std_6.824999999999999",
          "img_p95_norm (g/cm3)_median_6.824999999999999",
          "img_median_norm (g/cm3)_mean_10.14",
          "img_p95_median_6.824999999999999",
          "skew_std_mean_0.0",
          "img_median_mean_0.0",
          "img_median_median_0.0",
          "img_p95_norm (g/cm3)_mean_3.51",
          "vari_p5_median_10.14",
          "img_p5_std_10.14",
          "kurt_mean_std_0.0",
          "img_p95_std_0.0",
          "img_std_std_0.0",
          "vari_p95_mean_6.824999999999999",
          "vari_median_mean_3.51",
          "kurt_std_std_3.51",
          "img_p95_median_0.0",
          "img_p95_mean_0.0",
          "img_std_median_6.824999999999999",
          "kurt_mean_std_3.51",
          "vari_p95_mean_3.51",
          "edge_std_std_3.51",
          "img_std_mean_10.14",
          "kurt_p95_std_0.0",
          "vari_p5_mean_10.14",
          "img_p95_mean_6.824999999999999",
          "img_std_median_10.14",
          "img_mean_std_3.51",
          "img_median_std_3.51",
          "vari_median_median_10.14",
          "skew_p95_std_10.14",
          "vari_mean_median_6.824999999999999",
          "vari_median_median_3.51",
          "img_median_std_6.824999999999999",
          "skew_std_median_10.14",
          "edge_median_std_3.51",
          "vari_median_mean_10.14",
          "kurt_std_median_10.14",
          "vari_std_median_10.14",
          "edge_p95_std_3.51",
          "kurt_p95_std_10.14",
          "vari_mean_std_3.51",
          "kurt_median_std_3.51",
          "img_std_median_0.0",
          "kurt_p95_median_0.0",
          "kurt_std_mean_10.14",
          "img_std_std_3.51",
          "img_p95_std_3.51",
          "img_p5_std_3.51",
          "vari_median_std_0.0",
          "skew_mean_std_3.51",
          "vari_std_mean_3.51",
          "edge_p5_median_10.14",
          "skew_mean_std_6.824999999999999",
          "img_median_norm (g/cm3)_std_3.51",
          "kurt_p95_std_6.824999999999999",
          "img_std_mean_6.824999999999999",
          "vari_mean_std_10.14",
          "skew_std_std_3.51",
          "img_median_std_10.14",
          "vari_std_median_0.0",
          "kurt_p95_mean_0.0",
          "skew_p95_std_3.51",
          "img_mean_std_10.14",
          "img_median_std_0.0",
          "vari_p95_mean_10.14",
          "vari_std_mean_0.0",
          "vari_p95_median_0.0",
          "vari_std_std_3.51",
          "vari_std_median_3.51",
          "img_p95_norm (g/cm3)_std_10.14",
          "img_std_std_10.14",
          "vari_p95_std_0.0",
          "vari_p95_std_3.51",
          "vari_std_mean_10.14",
          "img_std_norm (g/cm3)_std_0.0",
          "skew_std_mean_10.14",
          "vari_mean_std_0.0",
          "img_p5_norm (g/cm3)_std_3.51",
          "vari_std_std_10.14",
          "img_p95_std_10.14",
          "vari_mean_mean_10.14",
          "kurt_std_std_6.824999999999999",
          "vari_p95_mean_0.0",
          "img_p95_norm (g/cm3)_std_0.0",
          "img_mean_norm (g/cm3)_std_10.14",
          "img_mean_norm (g/cm3)_std_3.51",
          "vari_mean_mean_0.0",
          "skew_median_std_6.824999999999999",
          "skew_median_std_0.0",
          "skew_p5_std_0.0",
          "vari_mean_median_0.0",
          "vari_mean_median_10.14",
          "skew_p95_std_0.0",
          "skew_median_std_3.51",
          "kurt_std_std_10.14",
          "vari_median_mean_0.0",
          "vari_median_median_0.0",
          "img_p5_norm (g/cm3)_std_10.14",
          "img_median_norm (g/cm3)_std_10.14",
          "skew_p5_std_10.14",
          "vari_p5_mean_0.0",
          "img_std_mean_0.0",
          "skew_std_std_6.824999999999999",
          "skew_mean_std_0.0",
          "vari_p5_std_3.51",
          "vari_p5_std_0.0",
          "vari_p5_median_0.0",
          "vari_std_std_6.824999999999999",
          "vari_p95_median_10.14",
          "img_mean_norm (g/cm3)_std_0.0",
          "kurt_p5_std_10.14",
          "vari_std_std_0.0",
          "img_median_norm (g/cm3)_std_0.0",
          "skew_std_std_0.0",
          "skew_mean_std_10.14",
          "skew_std_std_10.14"
         ],
         "xaxis": "x",
         "y": [
          0.7707847592871748,
          0.7529063353088346,
          0.701727037067216,
          0.6858131185308818,
          0.6629047088220241,
          0.6624793219457932,
          0.6461907730691221,
          0.6365605836574346,
          0.6281177014495187,
          0.6065284275823664,
          0.5915472591018276,
          0.5823567415309192,
          0.5695753798984962,
          0.5662994804156409,
          0.5493009142580392,
          0.5453454849859964,
          0.5429561055542811,
          0.5399200302263423,
          0.5193054496263514,
          0.5191132684744719,
          0.5159064513206317,
          0.5093745091750703,
          0.5083907493199162,
          0.5082145535087177,
          0.5066595136981675,
          0.501954686405286,
          0.4972807181851646,
          0.4925982025214326,
          0.49238680005168955,
          0.4919704339182318,
          0.47964391055012756,
          0.4787101802292728,
          0.4756889049866322,
          0.474072955018098,
          0.4714731179169016,
          0.468793173914936,
          0.46417262885734,
          0.4614226100536096,
          0.4589385485511279,
          0.4584600969470358,
          0.4485978245909066,
          0.4476057475599067,
          0.44643095260914567,
          0.443268759629734,
          0.44298950259055125,
          0.44284721973478725,
          0.4408932754712631,
          0.4402288749614631,
          0.43787769899193574,
          0.4347177622944711,
          0.4345985748234442,
          0.4341553071882216,
          0.43131599875185156,
          0.4311604177989623,
          0.4278568719520628,
          0.4234102175664356,
          0.42286125699588917,
          0.4219921650003995,
          0.4205916098222553,
          0.41675732503718743,
          0.41356913766613346,
          0.4134602249208865,
          0.4132384647268674,
          0.41322867981082645,
          0.4127543114276029,
          0.41132717198321433,
          0.4031022975437968,
          0.4012941577840494,
          0.3997973260974095,
          0.39949551712202425,
          0.39923753796455763,
          0.3982724959980617,
          0.3933068334987526,
          0.39279992439764033,
          0.3915385972715755,
          0.3879819977086627,
          0.38780941263067836,
          0.38753978419786606,
          0.38649144437770167,
          0.3838186555400096,
          0.3728360461103448,
          0.3726052262821802,
          0.3695094484027144,
          0.3689147852913832,
          0.360120024986776,
          0.3600370868438785,
          0.35980824037507864,
          0.35654948468239533,
          0.3475214429958067,
          0.3471268677069719,
          0.3468106114063456,
          0.34543342873917204,
          0.3452711369993673,
          0.3406531527002863,
          0.339044899370482,
          0.33784615158829245,
          0.3365586479901719,
          0.3350552927978523,
          0.3327423178157005,
          0.3320890482744798,
          0.3311955656415235,
          0.32879431597817366,
          0.32842444725982656,
          0.32677796734612974,
          0.324565514521971,
          0.3228903855500498,
          0.3225998082165411,
          0.3219491245573445,
          0.32175566097734976,
          0.3209466909647025,
          0.31811856001651817,
          0.31738549460253296,
          0.3141236132377294,
          0.31069379639446826,
          0.307386183469299,
          0.3063128786082099,
          0.3052189514806045,
          0.30476902453450405,
          0.3040423756190389,
          0.302445435549199,
          0.3002840164491536,
          0.3002622690020367,
          0.2981822827363074,
          0.2980357736408301,
          0.2977352094307739,
          0.29698042797921387,
          0.29635502145962,
          0.29429364586774076,
          0.29394651278613937,
          0.29253130567119534,
          0.2923356039331044,
          0.2921771977314851,
          0.29083482794882176,
          0.2908328268477094,
          0.2890698858182561,
          0.2888511039798667,
          0.28750295252712066,
          0.28705902647840853,
          0.28705854835028877,
          0.28558278847537366,
          0.2845081704080883,
          0.2823764592225704,
          0.2814966355449777,
          0.28043936012569715,
          0.28011763137926327,
          0.2798903649055893,
          0.2793488891189928,
          0.2792778832869858,
          0.2783100832664389,
          0.2780496069438323,
          0.2779752169374117,
          0.2771335453160799,
          0.27538590097279814,
          0.27287044347956435,
          0.27163352048563283,
          0.2709148909465675,
          0.270453593328821,
          0.2700825156089728,
          0.26967316043839507,
          0.26960476424048574,
          0.2692111318237149,
          0.2663941880106808,
          0.26607769687953153,
          0.2639436206400405,
          0.2594651815008242,
          0.2573345359538246,
          0.25406639343461457,
          0.25284869755843564,
          0.25148214899691945,
          0.25104861085268926,
          0.25041132430212487,
          0.2503144631986123,
          0.247794042220149,
          0.24537422996274483,
          0.24520458150346602,
          0.2429138962446573,
          0.24226418947384243,
          0.2408755473715387,
          0.24041809112678703,
          0.24037447436635695,
          0.23917301404454783,
          0.23729236820780786,
          0.2369763641544118,
          0.23682629744382888,
          0.23582310620635294,
          0.23560022811440673,
          0.2346435627730643,
          0.23349311050106625,
          0.2329210700851223,
          0.2294250763972685,
          0.22839966099981845,
          0.2269450009241063,
          0.22624258926795493,
          0.22558849142063497,
          0.22217285085887495,
          0.22108126384539073,
          0.22096584103653738,
          0.22009705489888898,
          0.21842351096846402,
          0.21837687008148077,
          0.21669362915544355,
          0.21574877564317907,
          0.21535841708891157,
          0.21107735611714418,
          0.20977569284072262,
          0.2089702980820518,
          0.20803407020060494,
          0.20721238554732402,
          0.205978218632056,
          0.20494052420025133,
          0.20314239440942572,
          0.20140764212082374,
          0.20126763808421932,
          0.20065141339071646,
          0.1992869877795802,
          0.199128547474833,
          0.19660638630470162,
          0.1949145480027501,
          0.19434112037774742,
          0.194290113209155,
          0.19406890359317996,
          0.19356233160243486,
          0.19182503797484696,
          0.19067753751948047,
          0.19048981839984913,
          0.18469349771315935,
          0.18255035938855535,
          0.17984089212490595,
          0.1794944335313553,
          0.17905703087521685,
          0.17761625716458074,
          0.17396179382801868,
          0.17235236120472086,
          0.17108543714513402,
          0.17036071623952553,
          0.16906063555586037,
          0.16784657894379906,
          0.16760704580252295,
          0.16751247652985413,
          0.162631185815862,
          0.16120997205314191,
          0.16050871003351164,
          0.16020620020286813,
          0.16002735251862754,
          0.15983584107702642,
          0.15977946283893774,
          0.15910188227372002,
          0.15529328783739915,
          0.15504027572397794,
          0.1541410949031934,
          0.15143231607949081,
          0.15050709108146965,
          0.14840932610070778,
          0.14804305442903543,
          0.14801184173247206,
          0.14721392695430202,
          0.14714337344784445,
          0.14685896382615216,
          0.14540823535232894,
          0.1452569898970042,
          0.14370947922856336,
          0.14336883009012258,
          0.14196718393018282,
          0.1418392248632161,
          0.14089280102702073,
          0.140798709852608,
          0.14028009020450316,
          0.14014681887603198,
          0.13905072034522403,
          0.13634919685257696,
          0.13578118253221438,
          0.13489072586812778,
          0.12938983981425034,
          0.12241668596562061,
          0.12232578257547999,
          0.120705111223673,
          0.116863226925219,
          0.11222018758293695,
          0.1117171970366484,
          0.11116687353863863,
          0.10859555346844951,
          0.10809701544543993,
          0.10648979255764557,
          0.10441044690039414,
          0.10295116651188074,
          0.10289773633292043,
          0.10161574754120428,
          0.1010848541120346,
          0.09859412984536275,
          0.09640830331901995,
          0.08932923138319948,
          0.08463382900611327,
          0.0843408144253317,
          0.08400852101504563,
          0.08226139712998881,
          0.08131740482853367,
          0.07966464235654769,
          0.0711205042673666,
          0.06598985153253434,
          0.06552846086885733,
          0.061557050899407884,
          0.061450106554108874,
          0.05968414461084315,
          0.05853870512752746,
          0.05817004847916385,
          0.05647506234218014,
          0.05540856197486699,
          0.05533969839485664,
          0.054203193938043626,
          0.0499379904131545,
          0.0491402118026123,
          0.04724910251164083,
          0.0445443746503722,
          0.03980636407181315,
          0.03595431272179894,
          0.035501287038980145,
          0.03508992825191681,
          0.03162174868065115,
          0.030973481701148664,
          0.030878380530164673,
          0.028210542339062172,
          0.026571342729856173,
          0.026519526115223346,
          0.02314554315001116,
          0.02175325723309296,
          0.01990244374920369,
          0.012817796469288822,
          0.01219932198022633,
          0.010974017921536294,
          0.007937354292928855,
          0.007590384251244586,
          0.007539700868021804,
          0.0014154980094520653,
          0.0002044103091081162,
          0,
          0,
          0,
          0,
          0,
          0,
          0,
          0,
          0,
          0,
          0,
          0,
          0,
          0,
          0,
          0,
          0,
          0,
          0,
          0,
          0,
          0,
          0,
          0,
          0,
          0,
          0,
          0,
          0,
          0
         ],
         "yaxis": "y"
        }
       ],
       "layout": {
        "barmode": "relative",
        "height": 400,
        "legend": {
         "tracegroupgap": 0
        },
        "template": {
         "data": {
          "bar": [
           {
            "error_x": {
             "color": "#2a3f5f"
            },
            "error_y": {
             "color": "#2a3f5f"
            },
            "marker": {
             "line": {
              "color": "#E5ECF6",
              "width": 0.5
             },
             "pattern": {
              "fillmode": "overlay",
              "size": 10,
              "solidity": 0.2
             }
            },
            "type": "bar"
           }
          ],
          "barpolar": [
           {
            "marker": {
             "line": {
              "color": "#E5ECF6",
              "width": 0.5
             },
             "pattern": {
              "fillmode": "overlay",
              "size": 10,
              "solidity": 0.2
             }
            },
            "type": "barpolar"
           }
          ],
          "carpet": [
           {
            "aaxis": {
             "endlinecolor": "#2a3f5f",
             "gridcolor": "white",
             "linecolor": "white",
             "minorgridcolor": "white",
             "startlinecolor": "#2a3f5f"
            },
            "baxis": {
             "endlinecolor": "#2a3f5f",
             "gridcolor": "white",
             "linecolor": "white",
             "minorgridcolor": "white",
             "startlinecolor": "#2a3f5f"
            },
            "type": "carpet"
           }
          ],
          "choropleth": [
           {
            "colorbar": {
             "outlinewidth": 0,
             "ticks": ""
            },
            "type": "choropleth"
           }
          ],
          "contour": [
           {
            "colorbar": {
             "outlinewidth": 0,
             "ticks": ""
            },
            "colorscale": [
             [
              0,
              "#0d0887"
             ],
             [
              0.1111111111111111,
              "#46039f"
             ],
             [
              0.2222222222222222,
              "#7201a8"
             ],
             [
              0.3333333333333333,
              "#9c179e"
             ],
             [
              0.4444444444444444,
              "#bd3786"
             ],
             [
              0.5555555555555556,
              "#d8576b"
             ],
             [
              0.6666666666666666,
              "#ed7953"
             ],
             [
              0.7777777777777778,
              "#fb9f3a"
             ],
             [
              0.8888888888888888,
              "#fdca26"
             ],
             [
              1,
              "#f0f921"
             ]
            ],
            "type": "contour"
           }
          ],
          "contourcarpet": [
           {
            "colorbar": {
             "outlinewidth": 0,
             "ticks": ""
            },
            "type": "contourcarpet"
           }
          ],
          "heatmap": [
           {
            "colorbar": {
             "outlinewidth": 0,
             "ticks": ""
            },
            "colorscale": [
             [
              0,
              "#0d0887"
             ],
             [
              0.1111111111111111,
              "#46039f"
             ],
             [
              0.2222222222222222,
              "#7201a8"
             ],
             [
              0.3333333333333333,
              "#9c179e"
             ],
             [
              0.4444444444444444,
              "#bd3786"
             ],
             [
              0.5555555555555556,
              "#d8576b"
             ],
             [
              0.6666666666666666,
              "#ed7953"
             ],
             [
              0.7777777777777778,
              "#fb9f3a"
             ],
             [
              0.8888888888888888,
              "#fdca26"
             ],
             [
              1,
              "#f0f921"
             ]
            ],
            "type": "heatmap"
           }
          ],
          "heatmapgl": [
           {
            "colorbar": {
             "outlinewidth": 0,
             "ticks": ""
            },
            "colorscale": [
             [
              0,
              "#0d0887"
             ],
             [
              0.1111111111111111,
              "#46039f"
             ],
             [
              0.2222222222222222,
              "#7201a8"
             ],
             [
              0.3333333333333333,
              "#9c179e"
             ],
             [
              0.4444444444444444,
              "#bd3786"
             ],
             [
              0.5555555555555556,
              "#d8576b"
             ],
             [
              0.6666666666666666,
              "#ed7953"
             ],
             [
              0.7777777777777778,
              "#fb9f3a"
             ],
             [
              0.8888888888888888,
              "#fdca26"
             ],
             [
              1,
              "#f0f921"
             ]
            ],
            "type": "heatmapgl"
           }
          ],
          "histogram": [
           {
            "marker": {
             "pattern": {
              "fillmode": "overlay",
              "size": 10,
              "solidity": 0.2
             }
            },
            "type": "histogram"
           }
          ],
          "histogram2d": [
           {
            "colorbar": {
             "outlinewidth": 0,
             "ticks": ""
            },
            "colorscale": [
             [
              0,
              "#0d0887"
             ],
             [
              0.1111111111111111,
              "#46039f"
             ],
             [
              0.2222222222222222,
              "#7201a8"
             ],
             [
              0.3333333333333333,
              "#9c179e"
             ],
             [
              0.4444444444444444,
              "#bd3786"
             ],
             [
              0.5555555555555556,
              "#d8576b"
             ],
             [
              0.6666666666666666,
              "#ed7953"
             ],
             [
              0.7777777777777778,
              "#fb9f3a"
             ],
             [
              0.8888888888888888,
              "#fdca26"
             ],
             [
              1,
              "#f0f921"
             ]
            ],
            "type": "histogram2d"
           }
          ],
          "histogram2dcontour": [
           {
            "colorbar": {
             "outlinewidth": 0,
             "ticks": ""
            },
            "colorscale": [
             [
              0,
              "#0d0887"
             ],
             [
              0.1111111111111111,
              "#46039f"
             ],
             [
              0.2222222222222222,
              "#7201a8"
             ],
             [
              0.3333333333333333,
              "#9c179e"
             ],
             [
              0.4444444444444444,
              "#bd3786"
             ],
             [
              0.5555555555555556,
              "#d8576b"
             ],
             [
              0.6666666666666666,
              "#ed7953"
             ],
             [
              0.7777777777777778,
              "#fb9f3a"
             ],
             [
              0.8888888888888888,
              "#fdca26"
             ],
             [
              1,
              "#f0f921"
             ]
            ],
            "type": "histogram2dcontour"
           }
          ],
          "mesh3d": [
           {
            "colorbar": {
             "outlinewidth": 0,
             "ticks": ""
            },
            "type": "mesh3d"
           }
          ],
          "parcoords": [
           {
            "line": {
             "colorbar": {
              "outlinewidth": 0,
              "ticks": ""
             }
            },
            "type": "parcoords"
           }
          ],
          "pie": [
           {
            "automargin": true,
            "type": "pie"
           }
          ],
          "scatter": [
           {
            "fillpattern": {
             "fillmode": "overlay",
             "size": 10,
             "solidity": 0.2
            },
            "type": "scatter"
           }
          ],
          "scatter3d": [
           {
            "line": {
             "colorbar": {
              "outlinewidth": 0,
              "ticks": ""
             }
            },
            "marker": {
             "colorbar": {
              "outlinewidth": 0,
              "ticks": ""
             }
            },
            "type": "scatter3d"
           }
          ],
          "scattercarpet": [
           {
            "marker": {
             "colorbar": {
              "outlinewidth": 0,
              "ticks": ""
             }
            },
            "type": "scattercarpet"
           }
          ],
          "scattergeo": [
           {
            "marker": {
             "colorbar": {
              "outlinewidth": 0,
              "ticks": ""
             }
            },
            "type": "scattergeo"
           }
          ],
          "scattergl": [
           {
            "marker": {
             "colorbar": {
              "outlinewidth": 0,
              "ticks": ""
             }
            },
            "type": "scattergl"
           }
          ],
          "scattermapbox": [
           {
            "marker": {
             "colorbar": {
              "outlinewidth": 0,
              "ticks": ""
             }
            },
            "type": "scattermapbox"
           }
          ],
          "scatterpolar": [
           {
            "marker": {
             "colorbar": {
              "outlinewidth": 0,
              "ticks": ""
             }
            },
            "type": "scatterpolar"
           }
          ],
          "scatterpolargl": [
           {
            "marker": {
             "colorbar": {
              "outlinewidth": 0,
              "ticks": ""
             }
            },
            "type": "scatterpolargl"
           }
          ],
          "scatterternary": [
           {
            "marker": {
             "colorbar": {
              "outlinewidth": 0,
              "ticks": ""
             }
            },
            "type": "scatterternary"
           }
          ],
          "surface": [
           {
            "colorbar": {
             "outlinewidth": 0,
             "ticks": ""
            },
            "colorscale": [
             [
              0,
              "#0d0887"
             ],
             [
              0.1111111111111111,
              "#46039f"
             ],
             [
              0.2222222222222222,
              "#7201a8"
             ],
             [
              0.3333333333333333,
              "#9c179e"
             ],
             [
              0.4444444444444444,
              "#bd3786"
             ],
             [
              0.5555555555555556,
              "#d8576b"
             ],
             [
              0.6666666666666666,
              "#ed7953"
             ],
             [
              0.7777777777777778,
              "#fb9f3a"
             ],
             [
              0.8888888888888888,
              "#fdca26"
             ],
             [
              1,
              "#f0f921"
             ]
            ],
            "type": "surface"
           }
          ],
          "table": [
           {
            "cells": {
             "fill": {
              "color": "#EBF0F8"
             },
             "line": {
              "color": "white"
             }
            },
            "header": {
             "fill": {
              "color": "#C8D4E3"
             },
             "line": {
              "color": "white"
             }
            },
            "type": "table"
           }
          ]
         },
         "layout": {
          "annotationdefaults": {
           "arrowcolor": "#2a3f5f",
           "arrowhead": 0,
           "arrowwidth": 1
          },
          "autotypenumbers": "strict",
          "coloraxis": {
           "colorbar": {
            "outlinewidth": 0,
            "ticks": ""
           }
          },
          "colorscale": {
           "diverging": [
            [
             0,
             "#8e0152"
            ],
            [
             0.1,
             "#c51b7d"
            ],
            [
             0.2,
             "#de77ae"
            ],
            [
             0.3,
             "#f1b6da"
            ],
            [
             0.4,
             "#fde0ef"
            ],
            [
             0.5,
             "#f7f7f7"
            ],
            [
             0.6,
             "#e6f5d0"
            ],
            [
             0.7,
             "#b8e186"
            ],
            [
             0.8,
             "#7fbc41"
            ],
            [
             0.9,
             "#4d9221"
            ],
            [
             1,
             "#276419"
            ]
           ],
           "sequential": [
            [
             0,
             "#0d0887"
            ],
            [
             0.1111111111111111,
             "#46039f"
            ],
            [
             0.2222222222222222,
             "#7201a8"
            ],
            [
             0.3333333333333333,
             "#9c179e"
            ],
            [
             0.4444444444444444,
             "#bd3786"
            ],
            [
             0.5555555555555556,
             "#d8576b"
            ],
            [
             0.6666666666666666,
             "#ed7953"
            ],
            [
             0.7777777777777778,
             "#fb9f3a"
            ],
            [
             0.8888888888888888,
             "#fdca26"
            ],
            [
             1,
             "#f0f921"
            ]
           ],
           "sequentialminus": [
            [
             0,
             "#0d0887"
            ],
            [
             0.1111111111111111,
             "#46039f"
            ],
            [
             0.2222222222222222,
             "#7201a8"
            ],
            [
             0.3333333333333333,
             "#9c179e"
            ],
            [
             0.4444444444444444,
             "#bd3786"
            ],
            [
             0.5555555555555556,
             "#d8576b"
            ],
            [
             0.6666666666666666,
             "#ed7953"
            ],
            [
             0.7777777777777778,
             "#fb9f3a"
            ],
            [
             0.8888888888888888,
             "#fdca26"
            ],
            [
             1,
             "#f0f921"
            ]
           ]
          },
          "colorway": [
           "#636efa",
           "#EF553B",
           "#00cc96",
           "#ab63fa",
           "#FFA15A",
           "#19d3f3",
           "#FF6692",
           "#B6E880",
           "#FF97FF",
           "#FECB52"
          ],
          "font": {
           "color": "#2a3f5f"
          },
          "geo": {
           "bgcolor": "white",
           "lakecolor": "white",
           "landcolor": "#E5ECF6",
           "showlakes": true,
           "showland": true,
           "subunitcolor": "white"
          },
          "hoverlabel": {
           "align": "left"
          },
          "hovermode": "closest",
          "mapbox": {
           "style": "light"
          },
          "paper_bgcolor": "white",
          "plot_bgcolor": "#E5ECF6",
          "polar": {
           "angularaxis": {
            "gridcolor": "white",
            "linecolor": "white",
            "ticks": ""
           },
           "bgcolor": "#E5ECF6",
           "radialaxis": {
            "gridcolor": "white",
            "linecolor": "white",
            "ticks": ""
           }
          },
          "scene": {
           "xaxis": {
            "backgroundcolor": "#E5ECF6",
            "gridcolor": "white",
            "gridwidth": 2,
            "linecolor": "white",
            "showbackground": true,
            "ticks": "",
            "zerolinecolor": "white"
           },
           "yaxis": {
            "backgroundcolor": "#E5ECF6",
            "gridcolor": "white",
            "gridwidth": 2,
            "linecolor": "white",
            "showbackground": true,
            "ticks": "",
            "zerolinecolor": "white"
           },
           "zaxis": {
            "backgroundcolor": "#E5ECF6",
            "gridcolor": "white",
            "gridwidth": 2,
            "linecolor": "white",
            "showbackground": true,
            "ticks": "",
            "zerolinecolor": "white"
           }
          },
          "shapedefaults": {
           "line": {
            "color": "#2a3f5f"
           }
          },
          "ternary": {
           "aaxis": {
            "gridcolor": "white",
            "linecolor": "white",
            "ticks": ""
           },
           "baxis": {
            "gridcolor": "white",
            "linecolor": "white",
            "ticks": ""
           },
           "bgcolor": "#E5ECF6",
           "caxis": {
            "gridcolor": "white",
            "linecolor": "white",
            "ticks": ""
           }
          },
          "title": {
           "x": 0.05
          },
          "xaxis": {
           "automargin": true,
           "gridcolor": "white",
           "linecolor": "white",
           "ticks": "",
           "title": {
            "standoff": 15
           },
           "zerolinecolor": "white",
           "zerolinewidth": 2
          },
          "yaxis": {
           "automargin": true,
           "gridcolor": "white",
           "linecolor": "white",
           "ticks": "",
           "title": {
            "standoff": 15
           },
           "zerolinecolor": "white",
           "zerolinewidth": 2
          }
         }
        },
        "title": {
         "font": {
          "size": 14
         },
         "text": "Feature Importance based on Mutual Information"
        },
        "xaxis": {
         "anchor": "y",
         "domain": [
          0,
          1
         ],
         "tickangle": -45,
         "tickfont": {
          "size": 8
         },
         "title": {
          "font": {
           "size": 12
          },
          "text": "Feature"
         },
         "type": "category"
        },
        "yaxis": {
         "anchor": "x",
         "domain": [
          0,
          1
         ],
         "title": {
          "font": {
           "size": 12
          },
          "text": "Mutual Information"
         }
        }
       }
      },
      "text/html": [
       "<div>                            <div id=\"5d04c508-990a-464e-9f4f-1e7823f3c69b\" class=\"plotly-graph-div\" style=\"height:400px; width:100%;\"></div>            <script type=\"text/javascript\">                require([\"plotly\"], function(Plotly) {                    window.PLOTLYENV=window.PLOTLYENV || {};                                    if (document.getElementById(\"5d04c508-990a-464e-9f4f-1e7823f3c69b\")) {                    Plotly.newPlot(                        \"5d04c508-990a-464e-9f4f-1e7823f3c69b\",                        [{\"alignmentgroup\":\"True\",\"hovertemplate\":\"Feature=%{x}<br>Mutual Information=%{y}<extra></extra>\",\"legendgroup\":\"\",\"marker\":{\"color\":\"#636efa\",\"pattern\":{\"shape\":\"\"}},\"name\":\"\",\"offsetgroup\":\"\",\"orientation\":\"v\",\"showlegend\":false,\"textposition\":\"auto\",\"x\":[\"skew_p95_median_6.824999999999999\",\"kurt_p5_median_6.824999999999999\",\"edge_median_mean_0.0\",\"img_std_norm (g/cm3)_mean_6.824999999999999\",\"skew_p95_median_3.51\",\"skew_p95_mean_3.51\",\"skew_p95_mean_6.824999999999999\",\"img_std_norm (g/cm3)_median_6.824999999999999\",\"kurt_p95_median_6.824999999999999\",\"kurt_p95_mean_6.824999999999999\",\"edge_p95_mean_0.0\",\"edge_p95_median_3.51\",\"edge_std_mean_0.0\",\"edge_median_median_0.0\",\"kurt_p5_mean_6.824999999999999\",\"edge_mean_mean_0.0\",\"edge_mean_mean_6.824999999999999\",\"edge_median_std_0.0\",\"kurt_mean_median_6.824999999999999\",\"skew_mean_mean_6.824999999999999\",\"edge_p95_std_6.824999999999999\",\"img_mean_norm (g/cm3)_mean_0.0\",\"edge_p5_mean_0.0\",\"skew_mean_median_6.824999999999999\",\"skew_mean_mean_3.51\",\"edge_mean_median_0.0\",\"img_median_norm (g/cm3)_median_3.51\",\"edge_p95_mean_6.824999999999999\",\"edge_std_mean_3.51\",\"img_median_norm (g/cm3)_mean_0.0\",\"skew_median_mean_6.824999999999999\",\"edge_median_mean_3.51\",\"img_std_norm (g/cm3)_std_6.824999999999999\",\"kurt_p5_median_10.14\",\"kurt_mean_mean_6.824999999999999\",\"img_p5_mean_3.51\",\"edge_std_std_6.824999999999999\",\"kurt_median_median_6.824999999999999\",\"edge_std_median_3.51\",\"kurt_p5_mean_10.14\",\"img_p5_norm (g/cm3)_mean_3.51\",\"edge_p95_mean_3.51\",\"edge_p95_median_0.0\",\"kurt_median_mean_6.824999999999999\",\"edge_mean_median_3.51\",\"skew_mean_median_3.51\",\"skew_p5_median_6.824999999999999\",\"edge_mean_std_0.0\",\"kurt_median_median_0.0\",\"kurt_p5_median_3.51\",\"img_p5_std_0.0\",\"skew_p5_mean_6.824999999999999\",\"skew_median_median_0.0\",\"img_std_norm (g/cm3)_mean_3.51\",\"img_mean_norm (g/cm3)_mean_3.51\",\"img_p5_median_6.824999999999999\",\"edge_mean_median_6.824999999999999\",\"skew_median_mean_0.0\",\"edge_p5_median_6.824999999999999\",\"edge_median_median_3.51\",\"edge_median_mean_6.824999999999999\",\"skew_p95_median_10.14\",\"skew_p95_median_0.0\",\"skew_median_median_6.824999999999999\",\"img_std_norm (g/cm3)_median_3.51\",\"img_p5_median_3.51\",\"kurt_std_median_3.51\",\"skew_p95_mean_0.0\",\"mean_depth_10.14\",\"img_mean_norm (g/cm3)_median_3.51\",\"skew_std_mean_6.824999999999999\",\"img_p95_norm (g/cm3)_std_6.824999999999999\",\"edge_p5_std_10.14\",\"edge_std_median_0.0\",\"skew_std_median_6.824999999999999\",\"mean_depth_6.824999999999999\",\"kurt_p5_mean_3.51\",\"skew_p95_mean_10.14\",\"skew_median_mean_3.51\",\"edge_mean_mean_3.51\",\"img_p5_mean_6.824999999999999\",\"edge_p95_median_6.824999999999999\",\"img_p5_norm (g/cm3)_mean_6.824999999999999\",\"kurt_median_std_10.14\",\"img_mean_norm (g/cm3)_median_0.0\",\"img_p5_norm (g/cm3)_median_3.51\",\"edge_std_mean_6.824999999999999\",\"img_mean_norm (g/cm3)_median_6.824999999999999\",\"img_std_norm (g/cm3)_mean_10.14\",\"edge_p95_median_10.14\",\"img_p95_norm (g/cm3)_median_3.51\",\"img_p5_mean_10.14\",\"img_median_norm (g/cm3)_median_0.0\",\"kurt_p95_median_10.14\",\"skew_p5_median_10.14\",\"skew_mean_median_10.14\",\"skew_mean_mean_10.14\",\"skew_median_median_10.14\",\"edge_median_std_6.824999999999999\",\"img_p5_median_10.14\",\"kurt_median_mean_3.51\",\"kurt_mean_mean_3.51\",\"edge_mean_std_6.824999999999999\",\"skew_p5_mean_10.14\",\"kurt_median_mean_0.0\",\"skew_std_median_3.51\",\"skew_mean_mean_0.0\",\"edge_p5_mean_10.14\",\"edge_std_median_6.824999999999999\",\"kurt_median_std_0.0\",\"img_p5_norm (g/cm3)_mean_0.0\",\"kurt_mean_median_0.0\",\"skew_mean_median_0.0\",\"edge_p95_std_0.0\",\"edge_mean_median_10.14\",\"edge_p5_median_0.0\",\"img_median_norm (g/cm3)_mean_3.51\",\"kurt_median_median_3.51\",\"kurt_p5_std_3.51\",\"edge_p5_mean_6.824999999999999\",\"img_p5_norm (g/cm3)_median_6.824999999999999\",\"img_p5_median_0.0\",\"kurt_p95_mean_3.51\",\"skew_p5_mean_0.0\",\"img_median_norm (g/cm3)_median_6.824999999999999\",\"img_mean_norm (g/cm3)_median_10.14\",\"edge_median_median_10.14\",\"edge_median_median_6.824999999999999\",\"kurt_std_mean_3.51\",\"skew_median_median_3.51\",\"skew_median_mean_10.14\",\"img_std_norm (g/cm3)_median_0.0\",\"skew_std_mean_3.51\",\"edge_p5_std_0.0\",\"kurt_p95_median_3.51\",\"img_p95_norm (g/cm3)_mean_6.824999999999999\",\"edge_p5_std_6.824999999999999\",\"kurt_mean_mean_0.0\",\"img_std_norm (g/cm3)_median_10.14\",\"img_p5_norm (g/cm3)_std_6.824999999999999\",\"edge_mean_mean_10.14\",\"vari_p5_std_10.14\",\"img_mean_median_3.51\",\"vari_p5_median_3.51\",\"kurt_median_median_10.14\",\"vari_p95_std_6.824999999999999\",\"img_median_median_3.51\",\"img_p95_norm (g/cm3)_median_0.0\",\"kurt_mean_median_3.51\",\"edge_std_mean_10.14\",\"vari_p5_mean_6.824999999999999\",\"edge_std_std_0.0\",\"skew_p95_std_6.824999999999999\",\"vari_p5_mean_3.51\",\"img_std_std_6.824999999999999\",\"img_p95_median_10.14\",\"edge_median_mean_10.14\",\"kurt_p5_mean_0.0\",\"img_median_mean_3.51\",\"vari_p5_median_6.824999999999999\",\"img_p5_norm (g/cm3)_median_0.0\",\"edge_std_median_10.14\",\"kurt_mean_median_10.14\",\"img_mean_mean_10.14\",\"mean_depth_0.0\",\"img_mean_mean_3.51\",\"vari_median_std_3.51\",\"img_median_median_10.14\",\"edge_mean_std_10.14\",\"img_mean_median_10.14\",\"img_median_mean_10.14\",\"kurt_median_std_6.824999999999999\",\"img_median_norm (g/cm3)_median_10.14\",\"skew_std_median_0.0\",\"img_mean_norm (g/cm3)_std_6.824999999999999\",\"kurt_std_mean_0.0\",\"img_p5_std_6.824999999999999\",\"img_p95_mean_10.14\",\"img_p5_norm (g/cm3)_median_10.14\",\"img_mean_norm (g/cm3)_mean_6.824999999999999\",\"img_p5_norm (g/cm3)_std_0.0\",\"vari_p95_std_10.14\",\"kurt_p5_std_6.824999999999999\",\"vari_std_mean_6.824999999999999\",\"kurt_p5_std_0.0\",\"kurt_p95_mean_10.14\",\"edge_p5_mean_3.51\",\"img_p5_mean_0.0\",\"edge_std_std_10.14\",\"edge_p5_median_3.51\",\"kurt_mean_mean_10.14\",\"skew_p5_mean_3.51\",\"img_p95_mean_3.51\",\"edge_p95_mean_10.14\",\"img_mean_mean_6.824999999999999\",\"img_p95_norm (g/cm3)_std_3.51\",\"kurt_std_mean_6.824999999999999\",\"img_median_mean_6.824999999999999\",\"vari_mean_std_6.824999999999999\",\"img_p95_median_3.51\",\"mean_depth_3.51\",\"img_mean_median_6.824999999999999\",\"vari_mean_median_3.51\",\"img_std_mean_3.51\",\"edge_p95_std_10.14\",\"kurt_mean_std_10.14\",\"kurt_std_median_6.824999999999999\",\"skew_p5_median_3.51\",\"img_median_median_6.824999999999999\",\"img_std_norm (g/cm3)_std_3.51\",\"img_p95_norm (g/cm3)_mean_10.14\",\"vari_median_std_10.14\",\"vari_median_median_6.824999999999999\",\"kurt_p95_std_3.51\",\"img_std_norm (g/cm3)_mean_0.0\",\"img_mean_std_6.824999999999999\",\"edge_p5_std_3.51\",\"vari_mean_mean_3.51\",\"img_median_norm (g/cm3)_mean_6.824999999999999\",\"img_p5_norm (g/cm3)_mean_10.14\",\"vari_std_median_6.824999999999999\",\"img_std_median_3.51\",\"kurt_mean_std_6.824999999999999\",\"img_p95_std_6.824999999999999\",\"kurt_p5_median_0.0\",\"vari_p95_median_6.824999999999999\",\"edge_median_std_10.14\",\"kurt_median_mean_10.14\",\"skew_p5_median_0.0\",\"img_std_norm (g/cm3)_std_10.14\",\"skew_median_std_10.14\",\"img_mean_median_0.0\",\"img_mean_mean_0.0\",\"skew_p5_std_3.51\",\"vari_median_std_6.824999999999999\",\"skew_p5_std_6.824999999999999\",\"vari_median_mean_6.824999999999999\",\"kurt_std_std_0.0\",\"img_p95_norm (g/cm3)_mean_0.0\",\"img_p95_norm (g/cm3)_median_10.14\",\"vari_p5_std_6.824999999999999\",\"vari_p95_median_3.51\",\"img_mean_std_0.0\",\"img_mean_norm (g/cm3)_mean_10.14\",\"kurt_std_median_0.0\",\"edge_mean_std_3.51\",\"vari_mean_mean_6.824999999999999\",\"img_median_norm (g/cm3)_std_6.824999999999999\",\"img_p95_norm (g/cm3)_median_6.824999999999999\",\"img_median_norm (g/cm3)_mean_10.14\",\"img_p95_median_6.824999999999999\",\"skew_std_mean_0.0\",\"img_median_mean_0.0\",\"img_median_median_0.0\",\"img_p95_norm (g/cm3)_mean_3.51\",\"vari_p5_median_10.14\",\"img_p5_std_10.14\",\"kurt_mean_std_0.0\",\"img_p95_std_0.0\",\"img_std_std_0.0\",\"vari_p95_mean_6.824999999999999\",\"vari_median_mean_3.51\",\"kurt_std_std_3.51\",\"img_p95_median_0.0\",\"img_p95_mean_0.0\",\"img_std_median_6.824999999999999\",\"kurt_mean_std_3.51\",\"vari_p95_mean_3.51\",\"edge_std_std_3.51\",\"img_std_mean_10.14\",\"kurt_p95_std_0.0\",\"vari_p5_mean_10.14\",\"img_p95_mean_6.824999999999999\",\"img_std_median_10.14\",\"img_mean_std_3.51\",\"img_median_std_3.51\",\"vari_median_median_10.14\",\"skew_p95_std_10.14\",\"vari_mean_median_6.824999999999999\",\"vari_median_median_3.51\",\"img_median_std_6.824999999999999\",\"skew_std_median_10.14\",\"edge_median_std_3.51\",\"vari_median_mean_10.14\",\"kurt_std_median_10.14\",\"vari_std_median_10.14\",\"edge_p95_std_3.51\",\"kurt_p95_std_10.14\",\"vari_mean_std_3.51\",\"kurt_median_std_3.51\",\"img_std_median_0.0\",\"kurt_p95_median_0.0\",\"kurt_std_mean_10.14\",\"img_std_std_3.51\",\"img_p95_std_3.51\",\"img_p5_std_3.51\",\"vari_median_std_0.0\",\"skew_mean_std_3.51\",\"vari_std_mean_3.51\",\"edge_p5_median_10.14\",\"skew_mean_std_6.824999999999999\",\"img_median_norm (g/cm3)_std_3.51\",\"kurt_p95_std_6.824999999999999\",\"img_std_mean_6.824999999999999\",\"vari_mean_std_10.14\",\"skew_std_std_3.51\",\"img_median_std_10.14\",\"vari_std_median_0.0\",\"kurt_p95_mean_0.0\",\"skew_p95_std_3.51\",\"img_mean_std_10.14\",\"img_median_std_0.0\",\"vari_p95_mean_10.14\",\"vari_std_mean_0.0\",\"vari_p95_median_0.0\",\"vari_std_std_3.51\",\"vari_std_median_3.51\",\"img_p95_norm (g/cm3)_std_10.14\",\"img_std_std_10.14\",\"vari_p95_std_0.0\",\"vari_p95_std_3.51\",\"vari_std_mean_10.14\",\"img_std_norm (g/cm3)_std_0.0\",\"skew_std_mean_10.14\",\"vari_mean_std_0.0\",\"img_p5_norm (g/cm3)_std_3.51\",\"vari_std_std_10.14\",\"img_p95_std_10.14\",\"vari_mean_mean_10.14\",\"kurt_std_std_6.824999999999999\",\"vari_p95_mean_0.0\",\"img_p95_norm (g/cm3)_std_0.0\",\"img_mean_norm (g/cm3)_std_10.14\",\"img_mean_norm (g/cm3)_std_3.51\",\"vari_mean_mean_0.0\",\"skew_median_std_6.824999999999999\",\"skew_median_std_0.0\",\"skew_p5_std_0.0\",\"vari_mean_median_0.0\",\"vari_mean_median_10.14\",\"skew_p95_std_0.0\",\"skew_median_std_3.51\",\"kurt_std_std_10.14\",\"vari_median_mean_0.0\",\"vari_median_median_0.0\",\"img_p5_norm (g/cm3)_std_10.14\",\"img_median_norm (g/cm3)_std_10.14\",\"skew_p5_std_10.14\",\"vari_p5_mean_0.0\",\"img_std_mean_0.0\",\"skew_std_std_6.824999999999999\",\"skew_mean_std_0.0\",\"vari_p5_std_3.51\",\"vari_p5_std_0.0\",\"vari_p5_median_0.0\",\"vari_std_std_6.824999999999999\",\"vari_p95_median_10.14\",\"img_mean_norm (g/cm3)_std_0.0\",\"kurt_p5_std_10.14\",\"vari_std_std_0.0\",\"img_median_norm (g/cm3)_std_0.0\",\"skew_std_std_0.0\",\"skew_mean_std_10.14\",\"skew_std_std_10.14\"],\"xaxis\":\"x\",\"y\":[0.7707847592871748,0.7529063353088346,0.701727037067216,0.6858131185308818,0.6629047088220241,0.6624793219457932,0.6461907730691221,0.6365605836574346,0.6281177014495187,0.6065284275823664,0.5915472591018276,0.5823567415309192,0.5695753798984962,0.5662994804156409,0.5493009142580392,0.5453454849859964,0.5429561055542811,0.5399200302263423,0.5193054496263514,0.5191132684744719,0.5159064513206317,0.5093745091750703,0.5083907493199162,0.5082145535087177,0.5066595136981675,0.501954686405286,0.4972807181851646,0.4925982025214326,0.49238680005168955,0.4919704339182318,0.47964391055012756,0.4787101802292728,0.4756889049866322,0.474072955018098,0.4714731179169016,0.468793173914936,0.46417262885734,0.4614226100536096,0.4589385485511279,0.4584600969470358,0.4485978245909066,0.4476057475599067,0.44643095260914567,0.443268759629734,0.44298950259055125,0.44284721973478725,0.4408932754712631,0.4402288749614631,0.43787769899193574,0.4347177622944711,0.4345985748234442,0.4341553071882216,0.43131599875185156,0.4311604177989623,0.4278568719520628,0.4234102175664356,0.42286125699588917,0.4219921650003995,0.4205916098222553,0.41675732503718743,0.41356913766613346,0.4134602249208865,0.4132384647268674,0.41322867981082645,0.4127543114276029,0.41132717198321433,0.4031022975437968,0.4012941577840494,0.3997973260974095,0.39949551712202425,0.39923753796455763,0.3982724959980617,0.3933068334987526,0.39279992439764033,0.3915385972715755,0.3879819977086627,0.38780941263067836,0.38753978419786606,0.38649144437770167,0.3838186555400096,0.3728360461103448,0.3726052262821802,0.3695094484027144,0.3689147852913832,0.360120024986776,0.3600370868438785,0.35980824037507864,0.35654948468239533,0.3475214429958067,0.3471268677069719,0.3468106114063456,0.34543342873917204,0.3452711369993673,0.3406531527002863,0.339044899370482,0.33784615158829245,0.3365586479901719,0.3350552927978523,0.3327423178157005,0.3320890482744798,0.3311955656415235,0.32879431597817366,0.32842444725982656,0.32677796734612974,0.324565514521971,0.3228903855500498,0.3225998082165411,0.3219491245573445,0.32175566097734976,0.3209466909647025,0.31811856001651817,0.31738549460253296,0.3141236132377294,0.31069379639446826,0.307386183469299,0.3063128786082099,0.3052189514806045,0.30476902453450405,0.3040423756190389,0.302445435549199,0.3002840164491536,0.3002622690020367,0.2981822827363074,0.2980357736408301,0.2977352094307739,0.29698042797921387,0.29635502145962,0.29429364586774076,0.29394651278613937,0.29253130567119534,0.2923356039331044,0.2921771977314851,0.29083482794882176,0.2908328268477094,0.2890698858182561,0.2888511039798667,0.28750295252712066,0.28705902647840853,0.28705854835028877,0.28558278847537366,0.2845081704080883,0.2823764592225704,0.2814966355449777,0.28043936012569715,0.28011763137926327,0.2798903649055893,0.2793488891189928,0.2792778832869858,0.2783100832664389,0.2780496069438323,0.2779752169374117,0.2771335453160799,0.27538590097279814,0.27287044347956435,0.27163352048563283,0.2709148909465675,0.270453593328821,0.2700825156089728,0.26967316043839507,0.26960476424048574,0.2692111318237149,0.2663941880106808,0.26607769687953153,0.2639436206400405,0.2594651815008242,0.2573345359538246,0.25406639343461457,0.25284869755843564,0.25148214899691945,0.25104861085268926,0.25041132430212487,0.2503144631986123,0.247794042220149,0.24537422996274483,0.24520458150346602,0.2429138962446573,0.24226418947384243,0.2408755473715387,0.24041809112678703,0.24037447436635695,0.23917301404454783,0.23729236820780786,0.2369763641544118,0.23682629744382888,0.23582310620635294,0.23560022811440673,0.2346435627730643,0.23349311050106625,0.2329210700851223,0.2294250763972685,0.22839966099981845,0.2269450009241063,0.22624258926795493,0.22558849142063497,0.22217285085887495,0.22108126384539073,0.22096584103653738,0.22009705489888898,0.21842351096846402,0.21837687008148077,0.21669362915544355,0.21574877564317907,0.21535841708891157,0.21107735611714418,0.20977569284072262,0.2089702980820518,0.20803407020060494,0.20721238554732402,0.205978218632056,0.20494052420025133,0.20314239440942572,0.20140764212082374,0.20126763808421932,0.20065141339071646,0.1992869877795802,0.199128547474833,0.19660638630470162,0.1949145480027501,0.19434112037774742,0.194290113209155,0.19406890359317996,0.19356233160243486,0.19182503797484696,0.19067753751948047,0.19048981839984913,0.18469349771315935,0.18255035938855535,0.17984089212490595,0.1794944335313553,0.17905703087521685,0.17761625716458074,0.17396179382801868,0.17235236120472086,0.17108543714513402,0.17036071623952553,0.16906063555586037,0.16784657894379906,0.16760704580252295,0.16751247652985413,0.162631185815862,0.16120997205314191,0.16050871003351164,0.16020620020286813,0.16002735251862754,0.15983584107702642,0.15977946283893774,0.15910188227372002,0.15529328783739915,0.15504027572397794,0.1541410949031934,0.15143231607949081,0.15050709108146965,0.14840932610070778,0.14804305442903543,0.14801184173247206,0.14721392695430202,0.14714337344784445,0.14685896382615216,0.14540823535232894,0.1452569898970042,0.14370947922856336,0.14336883009012258,0.14196718393018282,0.1418392248632161,0.14089280102702073,0.140798709852608,0.14028009020450316,0.14014681887603198,0.13905072034522403,0.13634919685257696,0.13578118253221438,0.13489072586812778,0.12938983981425034,0.12241668596562061,0.12232578257547999,0.120705111223673,0.116863226925219,0.11222018758293695,0.1117171970366484,0.11116687353863863,0.10859555346844951,0.10809701544543993,0.10648979255764557,0.10441044690039414,0.10295116651188074,0.10289773633292043,0.10161574754120428,0.1010848541120346,0.09859412984536275,0.09640830331901995,0.08932923138319948,0.08463382900611327,0.0843408144253317,0.08400852101504563,0.08226139712998881,0.08131740482853367,0.07966464235654769,0.0711205042673666,0.06598985153253434,0.06552846086885733,0.061557050899407884,0.061450106554108874,0.05968414461084315,0.05853870512752746,0.05817004847916385,0.05647506234218014,0.05540856197486699,0.05533969839485664,0.054203193938043626,0.0499379904131545,0.0491402118026123,0.04724910251164083,0.0445443746503722,0.03980636407181315,0.03595431272179894,0.035501287038980145,0.03508992825191681,0.03162174868065115,0.030973481701148664,0.030878380530164673,0.028210542339062172,0.026571342729856173,0.026519526115223346,0.02314554315001116,0.02175325723309296,0.01990244374920369,0.012817796469288822,0.01219932198022633,0.010974017921536294,0.007937354292928855,0.007590384251244586,0.007539700868021804,0.0014154980094520653,0.0002044103091081162,0.0,0.0,0.0,0.0,0.0,0.0,0.0,0.0,0.0,0.0,0.0,0.0,0.0,0.0,0.0,0.0,0.0,0.0,0.0,0.0,0.0,0.0,0.0,0.0,0.0,0.0,0.0,0.0,0.0,0.0],\"yaxis\":\"y\",\"type\":\"bar\"}],                        {\"template\":{\"data\":{\"histogram2dcontour\":[{\"type\":\"histogram2dcontour\",\"colorbar\":{\"outlinewidth\":0,\"ticks\":\"\"},\"colorscale\":[[0.0,\"#0d0887\"],[0.1111111111111111,\"#46039f\"],[0.2222222222222222,\"#7201a8\"],[0.3333333333333333,\"#9c179e\"],[0.4444444444444444,\"#bd3786\"],[0.5555555555555556,\"#d8576b\"],[0.6666666666666666,\"#ed7953\"],[0.7777777777777778,\"#fb9f3a\"],[0.8888888888888888,\"#fdca26\"],[1.0,\"#f0f921\"]]}],\"choropleth\":[{\"type\":\"choropleth\",\"colorbar\":{\"outlinewidth\":0,\"ticks\":\"\"}}],\"histogram2d\":[{\"type\":\"histogram2d\",\"colorbar\":{\"outlinewidth\":0,\"ticks\":\"\"},\"colorscale\":[[0.0,\"#0d0887\"],[0.1111111111111111,\"#46039f\"],[0.2222222222222222,\"#7201a8\"],[0.3333333333333333,\"#9c179e\"],[0.4444444444444444,\"#bd3786\"],[0.5555555555555556,\"#d8576b\"],[0.6666666666666666,\"#ed7953\"],[0.7777777777777778,\"#fb9f3a\"],[0.8888888888888888,\"#fdca26\"],[1.0,\"#f0f921\"]]}],\"heatmap\":[{\"type\":\"heatmap\",\"colorbar\":{\"outlinewidth\":0,\"ticks\":\"\"},\"colorscale\":[[0.0,\"#0d0887\"],[0.1111111111111111,\"#46039f\"],[0.2222222222222222,\"#7201a8\"],[0.3333333333333333,\"#9c179e\"],[0.4444444444444444,\"#bd3786\"],[0.5555555555555556,\"#d8576b\"],[0.6666666666666666,\"#ed7953\"],[0.7777777777777778,\"#fb9f3a\"],[0.8888888888888888,\"#fdca26\"],[1.0,\"#f0f921\"]]}],\"heatmapgl\":[{\"type\":\"heatmapgl\",\"colorbar\":{\"outlinewidth\":0,\"ticks\":\"\"},\"colorscale\":[[0.0,\"#0d0887\"],[0.1111111111111111,\"#46039f\"],[0.2222222222222222,\"#7201a8\"],[0.3333333333333333,\"#9c179e\"],[0.4444444444444444,\"#bd3786\"],[0.5555555555555556,\"#d8576b\"],[0.6666666666666666,\"#ed7953\"],[0.7777777777777778,\"#fb9f3a\"],[0.8888888888888888,\"#fdca26\"],[1.0,\"#f0f921\"]]}],\"contourcarpet\":[{\"type\":\"contourcarpet\",\"colorbar\":{\"outlinewidth\":0,\"ticks\":\"\"}}],\"contour\":[{\"type\":\"contour\",\"colorbar\":{\"outlinewidth\":0,\"ticks\":\"\"},\"colorscale\":[[0.0,\"#0d0887\"],[0.1111111111111111,\"#46039f\"],[0.2222222222222222,\"#7201a8\"],[0.3333333333333333,\"#9c179e\"],[0.4444444444444444,\"#bd3786\"],[0.5555555555555556,\"#d8576b\"],[0.6666666666666666,\"#ed7953\"],[0.7777777777777778,\"#fb9f3a\"],[0.8888888888888888,\"#fdca26\"],[1.0,\"#f0f921\"]]}],\"surface\":[{\"type\":\"surface\",\"colorbar\":{\"outlinewidth\":0,\"ticks\":\"\"},\"colorscale\":[[0.0,\"#0d0887\"],[0.1111111111111111,\"#46039f\"],[0.2222222222222222,\"#7201a8\"],[0.3333333333333333,\"#9c179e\"],[0.4444444444444444,\"#bd3786\"],[0.5555555555555556,\"#d8576b\"],[0.6666666666666666,\"#ed7953\"],[0.7777777777777778,\"#fb9f3a\"],[0.8888888888888888,\"#fdca26\"],[1.0,\"#f0f921\"]]}],\"mesh3d\":[{\"type\":\"mesh3d\",\"colorbar\":{\"outlinewidth\":0,\"ticks\":\"\"}}],\"scatter\":[{\"fillpattern\":{\"fillmode\":\"overlay\",\"size\":10,\"solidity\":0.2},\"type\":\"scatter\"}],\"parcoords\":[{\"type\":\"parcoords\",\"line\":{\"colorbar\":{\"outlinewidth\":0,\"ticks\":\"\"}}}],\"scatterpolargl\":[{\"type\":\"scatterpolargl\",\"marker\":{\"colorbar\":{\"outlinewidth\":0,\"ticks\":\"\"}}}],\"bar\":[{\"error_x\":{\"color\":\"#2a3f5f\"},\"error_y\":{\"color\":\"#2a3f5f\"},\"marker\":{\"line\":{\"color\":\"#E5ECF6\",\"width\":0.5},\"pattern\":{\"fillmode\":\"overlay\",\"size\":10,\"solidity\":0.2}},\"type\":\"bar\"}],\"scattergeo\":[{\"type\":\"scattergeo\",\"marker\":{\"colorbar\":{\"outlinewidth\":0,\"ticks\":\"\"}}}],\"scatterpolar\":[{\"type\":\"scatterpolar\",\"marker\":{\"colorbar\":{\"outlinewidth\":0,\"ticks\":\"\"}}}],\"histogram\":[{\"marker\":{\"pattern\":{\"fillmode\":\"overlay\",\"size\":10,\"solidity\":0.2}},\"type\":\"histogram\"}],\"scattergl\":[{\"type\":\"scattergl\",\"marker\":{\"colorbar\":{\"outlinewidth\":0,\"ticks\":\"\"}}}],\"scatter3d\":[{\"type\":\"scatter3d\",\"line\":{\"colorbar\":{\"outlinewidth\":0,\"ticks\":\"\"}},\"marker\":{\"colorbar\":{\"outlinewidth\":0,\"ticks\":\"\"}}}],\"scattermapbox\":[{\"type\":\"scattermapbox\",\"marker\":{\"colorbar\":{\"outlinewidth\":0,\"ticks\":\"\"}}}],\"scatterternary\":[{\"type\":\"scatterternary\",\"marker\":{\"colorbar\":{\"outlinewidth\":0,\"ticks\":\"\"}}}],\"scattercarpet\":[{\"type\":\"scattercarpet\",\"marker\":{\"colorbar\":{\"outlinewidth\":0,\"ticks\":\"\"}}}],\"carpet\":[{\"aaxis\":{\"endlinecolor\":\"#2a3f5f\",\"gridcolor\":\"white\",\"linecolor\":\"white\",\"minorgridcolor\":\"white\",\"startlinecolor\":\"#2a3f5f\"},\"baxis\":{\"endlinecolor\":\"#2a3f5f\",\"gridcolor\":\"white\",\"linecolor\":\"white\",\"minorgridcolor\":\"white\",\"startlinecolor\":\"#2a3f5f\"},\"type\":\"carpet\"}],\"table\":[{\"cells\":{\"fill\":{\"color\":\"#EBF0F8\"},\"line\":{\"color\":\"white\"}},\"header\":{\"fill\":{\"color\":\"#C8D4E3\"},\"line\":{\"color\":\"white\"}},\"type\":\"table\"}],\"barpolar\":[{\"marker\":{\"line\":{\"color\":\"#E5ECF6\",\"width\":0.5},\"pattern\":{\"fillmode\":\"overlay\",\"size\":10,\"solidity\":0.2}},\"type\":\"barpolar\"}],\"pie\":[{\"automargin\":true,\"type\":\"pie\"}]},\"layout\":{\"autotypenumbers\":\"strict\",\"colorway\":[\"#636efa\",\"#EF553B\",\"#00cc96\",\"#ab63fa\",\"#FFA15A\",\"#19d3f3\",\"#FF6692\",\"#B6E880\",\"#FF97FF\",\"#FECB52\"],\"font\":{\"color\":\"#2a3f5f\"},\"hovermode\":\"closest\",\"hoverlabel\":{\"align\":\"left\"},\"paper_bgcolor\":\"white\",\"plot_bgcolor\":\"#E5ECF6\",\"polar\":{\"bgcolor\":\"#E5ECF6\",\"angularaxis\":{\"gridcolor\":\"white\",\"linecolor\":\"white\",\"ticks\":\"\"},\"radialaxis\":{\"gridcolor\":\"white\",\"linecolor\":\"white\",\"ticks\":\"\"}},\"ternary\":{\"bgcolor\":\"#E5ECF6\",\"aaxis\":{\"gridcolor\":\"white\",\"linecolor\":\"white\",\"ticks\":\"\"},\"baxis\":{\"gridcolor\":\"white\",\"linecolor\":\"white\",\"ticks\":\"\"},\"caxis\":{\"gridcolor\":\"white\",\"linecolor\":\"white\",\"ticks\":\"\"}},\"coloraxis\":{\"colorbar\":{\"outlinewidth\":0,\"ticks\":\"\"}},\"colorscale\":{\"sequential\":[[0.0,\"#0d0887\"],[0.1111111111111111,\"#46039f\"],[0.2222222222222222,\"#7201a8\"],[0.3333333333333333,\"#9c179e\"],[0.4444444444444444,\"#bd3786\"],[0.5555555555555556,\"#d8576b\"],[0.6666666666666666,\"#ed7953\"],[0.7777777777777778,\"#fb9f3a\"],[0.8888888888888888,\"#fdca26\"],[1.0,\"#f0f921\"]],\"sequentialminus\":[[0.0,\"#0d0887\"],[0.1111111111111111,\"#46039f\"],[0.2222222222222222,\"#7201a8\"],[0.3333333333333333,\"#9c179e\"],[0.4444444444444444,\"#bd3786\"],[0.5555555555555556,\"#d8576b\"],[0.6666666666666666,\"#ed7953\"],[0.7777777777777778,\"#fb9f3a\"],[0.8888888888888888,\"#fdca26\"],[1.0,\"#f0f921\"]],\"diverging\":[[0,\"#8e0152\"],[0.1,\"#c51b7d\"],[0.2,\"#de77ae\"],[0.3,\"#f1b6da\"],[0.4,\"#fde0ef\"],[0.5,\"#f7f7f7\"],[0.6,\"#e6f5d0\"],[0.7,\"#b8e186\"],[0.8,\"#7fbc41\"],[0.9,\"#4d9221\"],[1,\"#276419\"]]},\"xaxis\":{\"gridcolor\":\"white\",\"linecolor\":\"white\",\"ticks\":\"\",\"title\":{\"standoff\":15},\"zerolinecolor\":\"white\",\"automargin\":true,\"zerolinewidth\":2},\"yaxis\":{\"gridcolor\":\"white\",\"linecolor\":\"white\",\"ticks\":\"\",\"title\":{\"standoff\":15},\"zerolinecolor\":\"white\",\"automargin\":true,\"zerolinewidth\":2},\"scene\":{\"xaxis\":{\"backgroundcolor\":\"#E5ECF6\",\"gridcolor\":\"white\",\"linecolor\":\"white\",\"showbackground\":true,\"ticks\":\"\",\"zerolinecolor\":\"white\",\"gridwidth\":2},\"yaxis\":{\"backgroundcolor\":\"#E5ECF6\",\"gridcolor\":\"white\",\"linecolor\":\"white\",\"showbackground\":true,\"ticks\":\"\",\"zerolinecolor\":\"white\",\"gridwidth\":2},\"zaxis\":{\"backgroundcolor\":\"#E5ECF6\",\"gridcolor\":\"white\",\"linecolor\":\"white\",\"showbackground\":true,\"ticks\":\"\",\"zerolinecolor\":\"white\",\"gridwidth\":2}},\"shapedefaults\":{\"line\":{\"color\":\"#2a3f5f\"}},\"annotationdefaults\":{\"arrowcolor\":\"#2a3f5f\",\"arrowhead\":0,\"arrowwidth\":1},\"geo\":{\"bgcolor\":\"white\",\"landcolor\":\"#E5ECF6\",\"subunitcolor\":\"white\",\"showland\":true,\"showlakes\":true,\"lakecolor\":\"white\"},\"title\":{\"x\":0.05},\"mapbox\":{\"style\":\"light\"}}},\"xaxis\":{\"anchor\":\"y\",\"domain\":[0.0,1.0],\"title\":{\"text\":\"Feature\",\"font\":{\"size\":12}},\"tickfont\":{\"size\":8},\"tickangle\":-45,\"type\":\"category\"},\"yaxis\":{\"anchor\":\"x\",\"domain\":[0.0,1.0],\"title\":{\"text\":\"Mutual Information\",\"font\":{\"size\":12}}},\"legend\":{\"tracegroupgap\":0},\"title\":{\"text\":\"Feature Importance based on Mutual Information\",\"font\":{\"size\":14}},\"barmode\":\"relative\",\"height\":400},                        {\"responsive\": true}                    ).then(function(){\n",
       "                            \n",
       "var gd = document.getElementById('5d04c508-990a-464e-9f4f-1e7823f3c69b');\n",
       "var x = new MutationObserver(function (mutations, observer) {{\n",
       "        var display = window.getComputedStyle(gd).display;\n",
       "        if (!display || display === 'none') {{\n",
       "            console.log([gd, 'removed!']);\n",
       "            Plotly.purge(gd);\n",
       "            observer.disconnect();\n",
       "        }}\n",
       "}});\n",
       "\n",
       "// Listen for the removal of the full notebook cells\n",
       "var notebookContainer = gd.closest('#notebook-container');\n",
       "if (notebookContainer) {{\n",
       "    x.observe(notebookContainer, {childList: true});\n",
       "}}\n",
       "\n",
       "// Listen for the clearing of the current output cell\n",
       "var outputEl = gd.closest('.output');\n",
       "if (outputEl) {{\n",
       "    x.observe(outputEl, {childList: true});\n",
       "}}\n",
       "\n",
       "                        })                };                });            </script>        </div>"
      ]
     },
     "metadata": {},
     "output_type": "display_data"
    },
    {
     "name": "stdout",
     "output_type": "stream",
     "text": [
      "Percentile Ranking of Feature Importance (mutual information) for mean_mean features of skew, kurt and sobel edges\n",
      "skew_mean_mean_0.0:70.6043956043956\n",
      "skew_mean_mean_3.51:93.13186813186813\n",
      "skew_mean_mean_6.824999999999999:94.5054945054945\n",
      "skew_mean_mean_10.14:73.35164835164835\n",
      "kurt_mean_mean_0.0:62.08791208791209\n",
      "kurt_mean_mean_3.51:71.97802197802197\n",
      "kurt_mean_mean_6.824999999999999:90.38461538461539\n",
      "kurt_mean_mean_10.14:47.527472527472526\n",
      "edge_mean_mean_0.0:95.6043956043956\n",
      "edge_mean_mean_3.51:78.02197802197803\n",
      "edge_mean_mean_6.824999999999999:95.32967032967034\n",
      "edge_mean_mean_10.14:61.26373626373627\n"
     ]
    }
   ],
   "source": [
    "## Explore Mutual Information from all depth-binned features\n",
    "X,y,scan = get_features(3)\n",
    "\n",
    "# Ignore scan 30 since we are considering all metrics (including density which, has infs for scan 30)\n",
    "X = X[scan!=30]\n",
    "X.reset_index(inplace=True)\n",
    "\n",
    "y = y[scan!=30]\n",
    "\n",
    "# There are a few ways to split the soil classifications:\n",
    "# Either treat each tillage-fertilizer combination as its own target treatment (y)\n",
    "# Or evaluate each treatment type individually (yt and yf):\n",
    "y_split = y.str.split(\"-\", expand=True)\n",
    "\n",
    "# Create two separate arrays for tillage and fertilizer\n",
    "yt = y_split[0] # Tillage treatment\n",
    "yf = y_split[1] # Fertilizer treatment\n",
    "\n",
    "# For this exercise we will compute the Mutual Information scores for each feature using \n",
    "# each tillage-fertilizer combination as its own target treatment (y)\n",
    "mi_scores = mutual_info_classif(X, y)\n",
    "\n",
    "# Create a DataFrame to display the results\n",
    "feature_importance = pd.DataFrame({'Feature': X.columns, 'Mutual_Information': mi_scores})\n",
    "feature_importance = feature_importance.sort_values(by='Mutual_Information', ascending=False)\n",
    "feature_importance.reset_index(inplace=True)\n",
    "feature_importance = feature_importance.drop('index',axis=1)\n",
    "feature_importance = feature_importance[1:]\n",
    "# Plot the feature importance using Plotly Express\n",
    "fig = px.bar(feature_importance, x='Feature', y='Mutual_Information',\n",
    "             labels={'Feature': 'Feature', 'Mutual_Information': 'Mutual Information'},\n",
    "             title='Feature Importance based on Mutual Information',\n",
    "             height=400)\n",
    "\n",
    "fig.update_layout(xaxis_tickangle=-45, xaxis=dict(type='category', tickfont=dict(size=8)),\n",
    "                  xaxis_title_font=dict(size=12), yaxis_title_font=dict(size=12),\n",
    "                  title_font=dict(size=14))\n",
    "\n",
    "fig.show()\n",
    "\n",
    "# Evaluate metrics of interest\n",
    "depths = ['0.0','3.51','6.824999999999999','10.14']\n",
    "metrics = ['skew','kurt','edge']\n",
    "feats = []\n",
    "totfeats = len(feature_importance)\n",
    "print(\"Percentile Ranking of Feature Importance (mutual information) for mean_mean features of skew, kurt and sobel edges\")\n",
    "for metric in metrics:\n",
    "    for depth in depths:\n",
    "        feats.append(metric+'_mean_mean_'+depth)\n",
    "        feature = metric+'_mean_mean_'+depth\n",
    "        ranking = str((totfeats-feature_importance[feature_importance['Feature'] == feature].index[0])/totfeats*100)\n",
    "        print(feature + \":\" + ranking)\n"
   ]
  },
  {
   "cell_type": "markdown",
   "id": "4b781666",
   "metadata": {},
   "source": [
    "Most mean_mean features of skew kurt and edge (8 of 12) were above the 70th percentile in ranking of feature importance based on mutual information. As reminder, mean_mean indicates that the metric (like skew or kurt) was averaged across the entire soil core image of that horizontal slice, and that average was averaged across a particular depth bin for a particular x-ray soil sample scan. There are many other options that performed similarly, and some that had particularly high mutual information, such as *skew_p95_median_6.825* (or the median value for the 95th percentile skewness for horizontal slices within the 3 deepest depth bin of each scan - which ranges between about 6.8 and 10 cm deep).\n",
    "\n",
    "For the purposes for the following analyses, we will continue using mean_mean metrics of skew kurt and edge for each of the four depth bins.\n",
    "\n",
    "## Differentiating treatments by select features\n",
    "Now that we've taken a preliminary look how informative individual features may be at classifying soil treatments, we will now evaluate how effective select features are for classification. We will use two techniques: dimensionality reduction (t-SNE) and modelling (SVM).\n",
    "\n",
    "### Dimensionality reduction\n",
    "Here we look at how our 12-feature data set (4 depth bins x 3 metrics) can be reduced to two dimensions and how the different treatments cluster. Principal Component Analysis (PCA) is great for data that has mostly linear relationships. However, our data is rather complex; even for a single depth bin, the points lie on a curved 3D manifold rather than a cluster that resembles a line or plane. I instead used **t-distributed stochastic neighbor embedding (t-SNE)**, a non-linear dimensionality reduction technique, to map data from 12 features to 2 components. The goal was to understand how the soil-types seperate and characterize those differences."
   ]
  },
  {
   "cell_type": "code",
   "execution_count": 117,
   "id": "16d05457",
   "metadata": {},
   "outputs": [
    {
     "name": "stderr",
     "output_type": "stream",
     "text": [
      "/opt/miniconda3/lib/python3.7/site-packages/sklearn/manifold/_t_sne.py:783: FutureWarning:\n",
      "\n",
      "The default initialization in TSNE will change from 'random' to 'pca' in 1.2.\n",
      "\n"
     ]
    },
    {
     "name": "stdout",
     "output_type": "stream",
     "text": [
      "Kullback-Leibler (KL) divergence: 0.0020751922857016325\n"
     ]
    },
    {
     "data": {
      "application/vnd.plotly.v1+json": {
       "config": {
        "plotlyServerURL": "https://plot.ly"
       },
       "data": [
        {
         "hovertemplate": "color=NP<br>symbol=NP<br>x=%{x}<br>y=%{y}<br>size=%{marker.size}<extra></extra>",
         "legendgroup": "NP, NP",
         "marker": {
          "color": "#636efa",
          "line": {
           "width": 1
          },
          "opacity": 1,
          "size": [
           1,
           1,
           1,
           1,
           1,
           1
          ],
          "sizemode": "area",
          "sizeref": 0.0044444444444444444,
          "symbol": "circle"
         },
         "mode": "markers",
         "name": "NP, NP",
         "orientation": "v",
         "showlegend": true,
         "type": "scatter",
         "x": [
          -6.5923004150390625,
          -6.67868709564209,
          -6.587976455688477,
          -6.6782073974609375,
          -6.625369548797607,
          -6.365993022918701
         ],
         "xaxis": "x",
         "y": [
          -2.8753550052642822,
          -2.690901041030884,
          -2.6039793491363525,
          -3.013059377670288,
          -2.6919105052948,
          -3.027583599090576
         ],
         "yaxis": "y"
        },
        {
         "hovertemplate": "color=NT<br>symbol=HM<br>x=%{x}<br>y=%{y}<br>size=%{marker.size}<extra></extra>",
         "legendgroup": "NT, HM",
         "marker": {
          "color": "#EF553B",
          "line": {
           "width": 1
          },
          "opacity": 1,
          "size": [
           1,
           1,
           1,
           1,
           1,
           1,
           1,
           1,
           1,
           1,
           1,
           1
          ],
          "sizemode": "area",
          "sizeref": 0.0044444444444444444,
          "symbol": "square"
         },
         "mode": "markers",
         "name": "NT, HM",
         "orientation": "v",
         "showlegend": true,
         "type": "scatter",
         "x": [
          -6.699044227600098,
          -6.47907018661499,
          -6.527710437774658,
          -6.756462097167969,
          -6.685413360595703,
          -6.522671699523926,
          -6.66750431060791,
          -6.64695930480957,
          -6.680256366729736,
          -6.597024917602539,
          -6.809449672698975,
          -6.820526599884033
         ],
         "xaxis": "x",
         "y": [
          -1.4698007106781006,
          -1.6745336055755615,
          -1.6337743997573853,
          -1.4889554977416992,
          -1.6882907152175903,
          -1.5092393159866333,
          -1.3996373414993286,
          -1.5606577396392822,
          -1.7678637504577637,
          -1.7212146520614624,
          -1.6605722904205322,
          -1.35561203956604
         ],
         "yaxis": "y"
        },
        {
         "hovertemplate": "color=NT<br>symbol=HF<br>x=%{x}<br>y=%{y}<br>size=%{marker.size}<extra></extra>",
         "legendgroup": "NT, HF",
         "marker": {
          "color": "#EF553B",
          "line": {
           "width": 1
          },
          "opacity": 1,
          "size": [
           1,
           1,
           1,
           1,
           1,
           1,
           1,
           1,
           1,
           1,
           1,
           1
          ],
          "sizemode": "area",
          "sizeref": 0.0044444444444444444,
          "symbol": "cross"
         },
         "mode": "markers",
         "name": "NT, HF",
         "orientation": "v",
         "showlegend": true,
         "type": "scatter",
         "x": [
          -7.002138614654541,
          -7.2143144607543945,
          -7.006993770599365,
          -6.984395503997803,
          -6.928371906280518,
          -7.232357501983643,
          -7.243572235107422,
          -7.383333683013916,
          -7.320475101470947,
          -7.35711669921875,
          -7.171300411224365,
          -6.894198894500732
         ],
         "xaxis": "x",
         "y": [
          -2.035304307937622,
          -1.7120320796966553,
          -2.3343822956085205,
          -1.5827937126159668,
          -1.5145301818847656,
          -1.6497987508773804,
          -2.682750701904297,
          -2.0495402812957764,
          -2.100268602371216,
          -1.9755098819732666,
          -1.6889022588729858,
          -1.2721564769744873
         ],
         "yaxis": "y"
        },
        {
         "hovertemplate": "color=T<br>symbol=HM<br>x=%{x}<br>y=%{y}<br>size=%{marker.size}<extra></extra>",
         "legendgroup": "T, HM",
         "marker": {
          "color": "#00cc96",
          "line": {
           "width": 1
          },
          "opacity": 1,
          "size": [
           1,
           1,
           1,
           1,
           1,
           1,
           1,
           1,
           1,
           1,
           1,
           1
          ],
          "sizemode": "area",
          "sizeref": 0.0044444444444444444,
          "symbol": "square"
         },
         "mode": "markers",
         "name": "T, HM",
         "orientation": "v",
         "showlegend": true,
         "type": "scatter",
         "x": [
          -7.066650390625,
          -6.684884548187256,
          -6.741936683654785,
          -6.642420768737793,
          -6.791266441345215,
          -6.982151985168457,
          -6.774840354919434,
          -6.431575775146484,
          -6.634448051452637,
          -6.988372325897217,
          -6.7550482749938965,
          -6.707942008972168
         ],
         "xaxis": "x",
         "y": [
          -1.6576299667358398,
          -2.1091201305389404,
          -1.9526118040084839,
          -2.3357107639312744,
          -2.29573917388916,
          -1.795514464378357,
          -2.2167186737060547,
          -2.499530792236328,
          -2.2977423667907715,
          -2.025416135787964,
          -2.1964271068573,
          -1.7595449686050415
         ],
         "yaxis": "y"
        },
        {
         "hovertemplate": "color=T<br>symbol=HF<br>x=%{x}<br>y=%{y}<br>size=%{marker.size}<extra></extra>",
         "legendgroup": "T, HF",
         "marker": {
          "color": "#00cc96",
          "line": {
           "width": 1
          },
          "opacity": 1,
          "size": [
           1,
           1,
           1,
           1,
           1,
           1,
           1,
           1,
           1,
           1,
           1,
           1
          ],
          "sizemode": "area",
          "sizeref": 0.0044444444444444444,
          "symbol": "cross"
         },
         "mode": "markers",
         "name": "T, HF",
         "orientation": "v",
         "showlegend": true,
         "type": "scatter",
         "x": [
          -7.166669845581055,
          -7.282742977142334,
          -7.189880847930908,
          -7.395407199859619,
          -7.329858303070068,
          -7.25527286529541,
          -6.953167915344238,
          -7.10527229309082,
          -7.087726593017578,
          -7.2180681228637695,
          -6.744359016418457,
          -6.897900581359863
         ],
         "xaxis": "x",
         "y": [
          -2.209258556365967,
          -1.9278919696807861,
          -2.491062879562378,
          -2.3524556159973145,
          -2.407384157180786,
          -1.8752896785736084,
          -2.9586658477783203,
          -2.678851366043091,
          -2.0620357990264893,
          -2.0645663738250732,
          -1.7982983589172363,
          -2.9957029819488525
         ],
         "yaxis": "y"
        }
       ],
       "layout": {
        "legend": {
         "itemsizing": "constant",
         "title": {
          "text": "color, symbol"
         },
         "tracegroupgap": 0
        },
        "margin": {
         "t": 60
        },
        "plot_bgcolor": "white",
        "template": {
         "data": {
          "bar": [
           {
            "error_x": {
             "color": "#2a3f5f"
            },
            "error_y": {
             "color": "#2a3f5f"
            },
            "marker": {
             "line": {
              "color": "#E5ECF6",
              "width": 0.5
             },
             "pattern": {
              "fillmode": "overlay",
              "size": 10,
              "solidity": 0.2
             }
            },
            "type": "bar"
           }
          ],
          "barpolar": [
           {
            "marker": {
             "line": {
              "color": "#E5ECF6",
              "width": 0.5
             },
             "pattern": {
              "fillmode": "overlay",
              "size": 10,
              "solidity": 0.2
             }
            },
            "type": "barpolar"
           }
          ],
          "carpet": [
           {
            "aaxis": {
             "endlinecolor": "#2a3f5f",
             "gridcolor": "white",
             "linecolor": "white",
             "minorgridcolor": "white",
             "startlinecolor": "#2a3f5f"
            },
            "baxis": {
             "endlinecolor": "#2a3f5f",
             "gridcolor": "white",
             "linecolor": "white",
             "minorgridcolor": "white",
             "startlinecolor": "#2a3f5f"
            },
            "type": "carpet"
           }
          ],
          "choropleth": [
           {
            "colorbar": {
             "outlinewidth": 0,
             "ticks": ""
            },
            "type": "choropleth"
           }
          ],
          "contour": [
           {
            "colorbar": {
             "outlinewidth": 0,
             "ticks": ""
            },
            "colorscale": [
             [
              0,
              "#0d0887"
             ],
             [
              0.1111111111111111,
              "#46039f"
             ],
             [
              0.2222222222222222,
              "#7201a8"
             ],
             [
              0.3333333333333333,
              "#9c179e"
             ],
             [
              0.4444444444444444,
              "#bd3786"
             ],
             [
              0.5555555555555556,
              "#d8576b"
             ],
             [
              0.6666666666666666,
              "#ed7953"
             ],
             [
              0.7777777777777778,
              "#fb9f3a"
             ],
             [
              0.8888888888888888,
              "#fdca26"
             ],
             [
              1,
              "#f0f921"
             ]
            ],
            "type": "contour"
           }
          ],
          "contourcarpet": [
           {
            "colorbar": {
             "outlinewidth": 0,
             "ticks": ""
            },
            "type": "contourcarpet"
           }
          ],
          "heatmap": [
           {
            "colorbar": {
             "outlinewidth": 0,
             "ticks": ""
            },
            "colorscale": [
             [
              0,
              "#0d0887"
             ],
             [
              0.1111111111111111,
              "#46039f"
             ],
             [
              0.2222222222222222,
              "#7201a8"
             ],
             [
              0.3333333333333333,
              "#9c179e"
             ],
             [
              0.4444444444444444,
              "#bd3786"
             ],
             [
              0.5555555555555556,
              "#d8576b"
             ],
             [
              0.6666666666666666,
              "#ed7953"
             ],
             [
              0.7777777777777778,
              "#fb9f3a"
             ],
             [
              0.8888888888888888,
              "#fdca26"
             ],
             [
              1,
              "#f0f921"
             ]
            ],
            "type": "heatmap"
           }
          ],
          "heatmapgl": [
           {
            "colorbar": {
             "outlinewidth": 0,
             "ticks": ""
            },
            "colorscale": [
             [
              0,
              "#0d0887"
             ],
             [
              0.1111111111111111,
              "#46039f"
             ],
             [
              0.2222222222222222,
              "#7201a8"
             ],
             [
              0.3333333333333333,
              "#9c179e"
             ],
             [
              0.4444444444444444,
              "#bd3786"
             ],
             [
              0.5555555555555556,
              "#d8576b"
             ],
             [
              0.6666666666666666,
              "#ed7953"
             ],
             [
              0.7777777777777778,
              "#fb9f3a"
             ],
             [
              0.8888888888888888,
              "#fdca26"
             ],
             [
              1,
              "#f0f921"
             ]
            ],
            "type": "heatmapgl"
           }
          ],
          "histogram": [
           {
            "marker": {
             "pattern": {
              "fillmode": "overlay",
              "size": 10,
              "solidity": 0.2
             }
            },
            "type": "histogram"
           }
          ],
          "histogram2d": [
           {
            "colorbar": {
             "outlinewidth": 0,
             "ticks": ""
            },
            "colorscale": [
             [
              0,
              "#0d0887"
             ],
             [
              0.1111111111111111,
              "#46039f"
             ],
             [
              0.2222222222222222,
              "#7201a8"
             ],
             [
              0.3333333333333333,
              "#9c179e"
             ],
             [
              0.4444444444444444,
              "#bd3786"
             ],
             [
              0.5555555555555556,
              "#d8576b"
             ],
             [
              0.6666666666666666,
              "#ed7953"
             ],
             [
              0.7777777777777778,
              "#fb9f3a"
             ],
             [
              0.8888888888888888,
              "#fdca26"
             ],
             [
              1,
              "#f0f921"
             ]
            ],
            "type": "histogram2d"
           }
          ],
          "histogram2dcontour": [
           {
            "colorbar": {
             "outlinewidth": 0,
             "ticks": ""
            },
            "colorscale": [
             [
              0,
              "#0d0887"
             ],
             [
              0.1111111111111111,
              "#46039f"
             ],
             [
              0.2222222222222222,
              "#7201a8"
             ],
             [
              0.3333333333333333,
              "#9c179e"
             ],
             [
              0.4444444444444444,
              "#bd3786"
             ],
             [
              0.5555555555555556,
              "#d8576b"
             ],
             [
              0.6666666666666666,
              "#ed7953"
             ],
             [
              0.7777777777777778,
              "#fb9f3a"
             ],
             [
              0.8888888888888888,
              "#fdca26"
             ],
             [
              1,
              "#f0f921"
             ]
            ],
            "type": "histogram2dcontour"
           }
          ],
          "mesh3d": [
           {
            "colorbar": {
             "outlinewidth": 0,
             "ticks": ""
            },
            "type": "mesh3d"
           }
          ],
          "parcoords": [
           {
            "line": {
             "colorbar": {
              "outlinewidth": 0,
              "ticks": ""
             }
            },
            "type": "parcoords"
           }
          ],
          "pie": [
           {
            "automargin": true,
            "type": "pie"
           }
          ],
          "scatter": [
           {
            "fillpattern": {
             "fillmode": "overlay",
             "size": 10,
             "solidity": 0.2
            },
            "type": "scatter"
           }
          ],
          "scatter3d": [
           {
            "line": {
             "colorbar": {
              "outlinewidth": 0,
              "ticks": ""
             }
            },
            "marker": {
             "colorbar": {
              "outlinewidth": 0,
              "ticks": ""
             }
            },
            "type": "scatter3d"
           }
          ],
          "scattercarpet": [
           {
            "marker": {
             "colorbar": {
              "outlinewidth": 0,
              "ticks": ""
             }
            },
            "type": "scattercarpet"
           }
          ],
          "scattergeo": [
           {
            "marker": {
             "colorbar": {
              "outlinewidth": 0,
              "ticks": ""
             }
            },
            "type": "scattergeo"
           }
          ],
          "scattergl": [
           {
            "marker": {
             "colorbar": {
              "outlinewidth": 0,
              "ticks": ""
             }
            },
            "type": "scattergl"
           }
          ],
          "scattermapbox": [
           {
            "marker": {
             "colorbar": {
              "outlinewidth": 0,
              "ticks": ""
             }
            },
            "type": "scattermapbox"
           }
          ],
          "scatterpolar": [
           {
            "marker": {
             "colorbar": {
              "outlinewidth": 0,
              "ticks": ""
             }
            },
            "type": "scatterpolar"
           }
          ],
          "scatterpolargl": [
           {
            "marker": {
             "colorbar": {
              "outlinewidth": 0,
              "ticks": ""
             }
            },
            "type": "scatterpolargl"
           }
          ],
          "scatterternary": [
           {
            "marker": {
             "colorbar": {
              "outlinewidth": 0,
              "ticks": ""
             }
            },
            "type": "scatterternary"
           }
          ],
          "surface": [
           {
            "colorbar": {
             "outlinewidth": 0,
             "ticks": ""
            },
            "colorscale": [
             [
              0,
              "#0d0887"
             ],
             [
              0.1111111111111111,
              "#46039f"
             ],
             [
              0.2222222222222222,
              "#7201a8"
             ],
             [
              0.3333333333333333,
              "#9c179e"
             ],
             [
              0.4444444444444444,
              "#bd3786"
             ],
             [
              0.5555555555555556,
              "#d8576b"
             ],
             [
              0.6666666666666666,
              "#ed7953"
             ],
             [
              0.7777777777777778,
              "#fb9f3a"
             ],
             [
              0.8888888888888888,
              "#fdca26"
             ],
             [
              1,
              "#f0f921"
             ]
            ],
            "type": "surface"
           }
          ],
          "table": [
           {
            "cells": {
             "fill": {
              "color": "#EBF0F8"
             },
             "line": {
              "color": "white"
             }
            },
            "header": {
             "fill": {
              "color": "#C8D4E3"
             },
             "line": {
              "color": "white"
             }
            },
            "type": "table"
           }
          ]
         },
         "layout": {
          "annotationdefaults": {
           "arrowcolor": "#2a3f5f",
           "arrowhead": 0,
           "arrowwidth": 1
          },
          "autotypenumbers": "strict",
          "coloraxis": {
           "colorbar": {
            "outlinewidth": 0,
            "ticks": ""
           }
          },
          "colorscale": {
           "diverging": [
            [
             0,
             "#8e0152"
            ],
            [
             0.1,
             "#c51b7d"
            ],
            [
             0.2,
             "#de77ae"
            ],
            [
             0.3,
             "#f1b6da"
            ],
            [
             0.4,
             "#fde0ef"
            ],
            [
             0.5,
             "#f7f7f7"
            ],
            [
             0.6,
             "#e6f5d0"
            ],
            [
             0.7,
             "#b8e186"
            ],
            [
             0.8,
             "#7fbc41"
            ],
            [
             0.9,
             "#4d9221"
            ],
            [
             1,
             "#276419"
            ]
           ],
           "sequential": [
            [
             0,
             "#0d0887"
            ],
            [
             0.1111111111111111,
             "#46039f"
            ],
            [
             0.2222222222222222,
             "#7201a8"
            ],
            [
             0.3333333333333333,
             "#9c179e"
            ],
            [
             0.4444444444444444,
             "#bd3786"
            ],
            [
             0.5555555555555556,
             "#d8576b"
            ],
            [
             0.6666666666666666,
             "#ed7953"
            ],
            [
             0.7777777777777778,
             "#fb9f3a"
            ],
            [
             0.8888888888888888,
             "#fdca26"
            ],
            [
             1,
             "#f0f921"
            ]
           ],
           "sequentialminus": [
            [
             0,
             "#0d0887"
            ],
            [
             0.1111111111111111,
             "#46039f"
            ],
            [
             0.2222222222222222,
             "#7201a8"
            ],
            [
             0.3333333333333333,
             "#9c179e"
            ],
            [
             0.4444444444444444,
             "#bd3786"
            ],
            [
             0.5555555555555556,
             "#d8576b"
            ],
            [
             0.6666666666666666,
             "#ed7953"
            ],
            [
             0.7777777777777778,
             "#fb9f3a"
            ],
            [
             0.8888888888888888,
             "#fdca26"
            ],
            [
             1,
             "#f0f921"
            ]
           ]
          },
          "colorway": [
           "#636efa",
           "#EF553B",
           "#00cc96",
           "#ab63fa",
           "#FFA15A",
           "#19d3f3",
           "#FF6692",
           "#B6E880",
           "#FF97FF",
           "#FECB52"
          ],
          "font": {
           "color": "#2a3f5f"
          },
          "geo": {
           "bgcolor": "white",
           "lakecolor": "white",
           "landcolor": "#E5ECF6",
           "showlakes": true,
           "showland": true,
           "subunitcolor": "white"
          },
          "hoverlabel": {
           "align": "left"
          },
          "hovermode": "closest",
          "mapbox": {
           "style": "light"
          },
          "paper_bgcolor": "white",
          "plot_bgcolor": "#E5ECF6",
          "polar": {
           "angularaxis": {
            "gridcolor": "white",
            "linecolor": "white",
            "ticks": ""
           },
           "bgcolor": "#E5ECF6",
           "radialaxis": {
            "gridcolor": "white",
            "linecolor": "white",
            "ticks": ""
           }
          },
          "scene": {
           "xaxis": {
            "backgroundcolor": "#E5ECF6",
            "gridcolor": "white",
            "gridwidth": 2,
            "linecolor": "white",
            "showbackground": true,
            "ticks": "",
            "zerolinecolor": "white"
           },
           "yaxis": {
            "backgroundcolor": "#E5ECF6",
            "gridcolor": "white",
            "gridwidth": 2,
            "linecolor": "white",
            "showbackground": true,
            "ticks": "",
            "zerolinecolor": "white"
           },
           "zaxis": {
            "backgroundcolor": "#E5ECF6",
            "gridcolor": "white",
            "gridwidth": 2,
            "linecolor": "white",
            "showbackground": true,
            "ticks": "",
            "zerolinecolor": "white"
           }
          },
          "shapedefaults": {
           "line": {
            "color": "#2a3f5f"
           }
          },
          "ternary": {
           "aaxis": {
            "gridcolor": "white",
            "linecolor": "white",
            "ticks": ""
           },
           "baxis": {
            "gridcolor": "white",
            "linecolor": "white",
            "ticks": ""
           },
           "bgcolor": "#E5ECF6",
           "caxis": {
            "gridcolor": "white",
            "linecolor": "white",
            "ticks": ""
           }
          },
          "title": {
           "x": 0.05
          },
          "xaxis": {
           "automargin": true,
           "gridcolor": "white",
           "linecolor": "white",
           "ticks": "",
           "title": {
            "standoff": 15
           },
           "zerolinecolor": "white",
           "zerolinewidth": 2
          },
          "yaxis": {
           "automargin": true,
           "gridcolor": "white",
           "linecolor": "white",
           "ticks": "",
           "title": {
            "standoff": 15
           },
           "zerolinecolor": "white",
           "zerolinewidth": 2
          }
         }
        },
        "title": {
         "text": "t-SNE visualization of x-ray stats by tillage and fertilizer"
        },
        "xaxis": {
         "anchor": "y",
         "domain": [
          0,
          1
         ],
         "gridcolor": "lightgray",
         "showgrid": true,
         "title": {
          "text": "First t-SNE"
         }
        },
        "yaxis": {
         "anchor": "x",
         "domain": [
          0,
          1
         ],
         "gridcolor": "lightgray",
         "showgrid": true,
         "title": {
          "text": "Second t-SNE"
         }
        }
       }
      },
      "text/html": [
       "<div>                            <div id=\"ce1979a7-a72c-44c6-89cd-45177b6b9ec0\" class=\"plotly-graph-div\" style=\"height:525px; width:100%;\"></div>            <script type=\"text/javascript\">                require([\"plotly\"], function(Plotly) {                    window.PLOTLYENV=window.PLOTLYENV || {};                                    if (document.getElementById(\"ce1979a7-a72c-44c6-89cd-45177b6b9ec0\")) {                    Plotly.newPlot(                        \"ce1979a7-a72c-44c6-89cd-45177b6b9ec0\",                        [{\"hovertemplate\":\"color=NP<br>symbol=NP<br>x=%{x}<br>y=%{y}<br>size=%{marker.size}<extra></extra>\",\"legendgroup\":\"NP, NP\",\"marker\":{\"color\":\"#636efa\",\"size\":[1,1,1,1,1,1],\"sizemode\":\"area\",\"sizeref\":0.0044444444444444444,\"symbol\":\"circle\",\"line\":{\"width\":1},\"opacity\":1},\"mode\":\"markers\",\"name\":\"NP, NP\",\"orientation\":\"v\",\"showlegend\":true,\"x\":[-6.5923004150390625,-6.67868709564209,-6.587976455688477,-6.6782073974609375,-6.625369548797607,-6.365993022918701],\"xaxis\":\"x\",\"y\":[-2.8753550052642822,-2.690901041030884,-2.6039793491363525,-3.013059377670288,-2.6919105052948,-3.027583599090576],\"yaxis\":\"y\",\"type\":\"scatter\"},{\"hovertemplate\":\"color=NT<br>symbol=HM<br>x=%{x}<br>y=%{y}<br>size=%{marker.size}<extra></extra>\",\"legendgroup\":\"NT, HM\",\"marker\":{\"color\":\"#EF553B\",\"size\":[1,1,1,1,1,1,1,1,1,1,1,1],\"sizemode\":\"area\",\"sizeref\":0.0044444444444444444,\"symbol\":\"square\",\"line\":{\"width\":1},\"opacity\":1},\"mode\":\"markers\",\"name\":\"NT, HM\",\"orientation\":\"v\",\"showlegend\":true,\"x\":[-6.699044227600098,-6.47907018661499,-6.527710437774658,-6.756462097167969,-6.685413360595703,-6.522671699523926,-6.66750431060791,-6.64695930480957,-6.680256366729736,-6.597024917602539,-6.809449672698975,-6.820526599884033],\"xaxis\":\"x\",\"y\":[-1.4698007106781006,-1.6745336055755615,-1.6337743997573853,-1.4889554977416992,-1.6882907152175903,-1.5092393159866333,-1.3996373414993286,-1.5606577396392822,-1.7678637504577637,-1.7212146520614624,-1.6605722904205322,-1.35561203956604],\"yaxis\":\"y\",\"type\":\"scatter\"},{\"hovertemplate\":\"color=NT<br>symbol=HF<br>x=%{x}<br>y=%{y}<br>size=%{marker.size}<extra></extra>\",\"legendgroup\":\"NT, HF\",\"marker\":{\"color\":\"#EF553B\",\"size\":[1,1,1,1,1,1,1,1,1,1,1,1],\"sizemode\":\"area\",\"sizeref\":0.0044444444444444444,\"symbol\":\"cross\",\"line\":{\"width\":1},\"opacity\":1},\"mode\":\"markers\",\"name\":\"NT, HF\",\"orientation\":\"v\",\"showlegend\":true,\"x\":[-7.002138614654541,-7.2143144607543945,-7.006993770599365,-6.984395503997803,-6.928371906280518,-7.232357501983643,-7.243572235107422,-7.383333683013916,-7.320475101470947,-7.35711669921875,-7.171300411224365,-6.894198894500732],\"xaxis\":\"x\",\"y\":[-2.035304307937622,-1.7120320796966553,-2.3343822956085205,-1.5827937126159668,-1.5145301818847656,-1.6497987508773804,-2.682750701904297,-2.0495402812957764,-2.100268602371216,-1.9755098819732666,-1.6889022588729858,-1.2721564769744873],\"yaxis\":\"y\",\"type\":\"scatter\"},{\"hovertemplate\":\"color=T<br>symbol=HM<br>x=%{x}<br>y=%{y}<br>size=%{marker.size}<extra></extra>\",\"legendgroup\":\"T, HM\",\"marker\":{\"color\":\"#00cc96\",\"size\":[1,1,1,1,1,1,1,1,1,1,1,1],\"sizemode\":\"area\",\"sizeref\":0.0044444444444444444,\"symbol\":\"square\",\"line\":{\"width\":1},\"opacity\":1},\"mode\":\"markers\",\"name\":\"T, HM\",\"orientation\":\"v\",\"showlegend\":true,\"x\":[-7.066650390625,-6.684884548187256,-6.741936683654785,-6.642420768737793,-6.791266441345215,-6.982151985168457,-6.774840354919434,-6.431575775146484,-6.634448051452637,-6.988372325897217,-6.7550482749938965,-6.707942008972168],\"xaxis\":\"x\",\"y\":[-1.6576299667358398,-2.1091201305389404,-1.9526118040084839,-2.3357107639312744,-2.29573917388916,-1.795514464378357,-2.2167186737060547,-2.499530792236328,-2.2977423667907715,-2.025416135787964,-2.1964271068573,-1.7595449686050415],\"yaxis\":\"y\",\"type\":\"scatter\"},{\"hovertemplate\":\"color=T<br>symbol=HF<br>x=%{x}<br>y=%{y}<br>size=%{marker.size}<extra></extra>\",\"legendgroup\":\"T, HF\",\"marker\":{\"color\":\"#00cc96\",\"size\":[1,1,1,1,1,1,1,1,1,1,1,1],\"sizemode\":\"area\",\"sizeref\":0.0044444444444444444,\"symbol\":\"cross\",\"line\":{\"width\":1},\"opacity\":1},\"mode\":\"markers\",\"name\":\"T, HF\",\"orientation\":\"v\",\"showlegend\":true,\"x\":[-7.166669845581055,-7.282742977142334,-7.189880847930908,-7.395407199859619,-7.329858303070068,-7.25527286529541,-6.953167915344238,-7.10527229309082,-7.087726593017578,-7.2180681228637695,-6.744359016418457,-6.897900581359863],\"xaxis\":\"x\",\"y\":[-2.209258556365967,-1.9278919696807861,-2.491062879562378,-2.3524556159973145,-2.407384157180786,-1.8752896785736084,-2.9586658477783203,-2.678851366043091,-2.0620357990264893,-2.0645663738250732,-1.7982983589172363,-2.9957029819488525],\"yaxis\":\"y\",\"type\":\"scatter\"}],                        {\"template\":{\"data\":{\"histogram2dcontour\":[{\"type\":\"histogram2dcontour\",\"colorbar\":{\"outlinewidth\":0,\"ticks\":\"\"},\"colorscale\":[[0.0,\"#0d0887\"],[0.1111111111111111,\"#46039f\"],[0.2222222222222222,\"#7201a8\"],[0.3333333333333333,\"#9c179e\"],[0.4444444444444444,\"#bd3786\"],[0.5555555555555556,\"#d8576b\"],[0.6666666666666666,\"#ed7953\"],[0.7777777777777778,\"#fb9f3a\"],[0.8888888888888888,\"#fdca26\"],[1.0,\"#f0f921\"]]}],\"choropleth\":[{\"type\":\"choropleth\",\"colorbar\":{\"outlinewidth\":0,\"ticks\":\"\"}}],\"histogram2d\":[{\"type\":\"histogram2d\",\"colorbar\":{\"outlinewidth\":0,\"ticks\":\"\"},\"colorscale\":[[0.0,\"#0d0887\"],[0.1111111111111111,\"#46039f\"],[0.2222222222222222,\"#7201a8\"],[0.3333333333333333,\"#9c179e\"],[0.4444444444444444,\"#bd3786\"],[0.5555555555555556,\"#d8576b\"],[0.6666666666666666,\"#ed7953\"],[0.7777777777777778,\"#fb9f3a\"],[0.8888888888888888,\"#fdca26\"],[1.0,\"#f0f921\"]]}],\"heatmap\":[{\"type\":\"heatmap\",\"colorbar\":{\"outlinewidth\":0,\"ticks\":\"\"},\"colorscale\":[[0.0,\"#0d0887\"],[0.1111111111111111,\"#46039f\"],[0.2222222222222222,\"#7201a8\"],[0.3333333333333333,\"#9c179e\"],[0.4444444444444444,\"#bd3786\"],[0.5555555555555556,\"#d8576b\"],[0.6666666666666666,\"#ed7953\"],[0.7777777777777778,\"#fb9f3a\"],[0.8888888888888888,\"#fdca26\"],[1.0,\"#f0f921\"]]}],\"heatmapgl\":[{\"type\":\"heatmapgl\",\"colorbar\":{\"outlinewidth\":0,\"ticks\":\"\"},\"colorscale\":[[0.0,\"#0d0887\"],[0.1111111111111111,\"#46039f\"],[0.2222222222222222,\"#7201a8\"],[0.3333333333333333,\"#9c179e\"],[0.4444444444444444,\"#bd3786\"],[0.5555555555555556,\"#d8576b\"],[0.6666666666666666,\"#ed7953\"],[0.7777777777777778,\"#fb9f3a\"],[0.8888888888888888,\"#fdca26\"],[1.0,\"#f0f921\"]]}],\"contourcarpet\":[{\"type\":\"contourcarpet\",\"colorbar\":{\"outlinewidth\":0,\"ticks\":\"\"}}],\"contour\":[{\"type\":\"contour\",\"colorbar\":{\"outlinewidth\":0,\"ticks\":\"\"},\"colorscale\":[[0.0,\"#0d0887\"],[0.1111111111111111,\"#46039f\"],[0.2222222222222222,\"#7201a8\"],[0.3333333333333333,\"#9c179e\"],[0.4444444444444444,\"#bd3786\"],[0.5555555555555556,\"#d8576b\"],[0.6666666666666666,\"#ed7953\"],[0.7777777777777778,\"#fb9f3a\"],[0.8888888888888888,\"#fdca26\"],[1.0,\"#f0f921\"]]}],\"surface\":[{\"type\":\"surface\",\"colorbar\":{\"outlinewidth\":0,\"ticks\":\"\"},\"colorscale\":[[0.0,\"#0d0887\"],[0.1111111111111111,\"#46039f\"],[0.2222222222222222,\"#7201a8\"],[0.3333333333333333,\"#9c179e\"],[0.4444444444444444,\"#bd3786\"],[0.5555555555555556,\"#d8576b\"],[0.6666666666666666,\"#ed7953\"],[0.7777777777777778,\"#fb9f3a\"],[0.8888888888888888,\"#fdca26\"],[1.0,\"#f0f921\"]]}],\"mesh3d\":[{\"type\":\"mesh3d\",\"colorbar\":{\"outlinewidth\":0,\"ticks\":\"\"}}],\"scatter\":[{\"fillpattern\":{\"fillmode\":\"overlay\",\"size\":10,\"solidity\":0.2},\"type\":\"scatter\"}],\"parcoords\":[{\"type\":\"parcoords\",\"line\":{\"colorbar\":{\"outlinewidth\":0,\"ticks\":\"\"}}}],\"scatterpolargl\":[{\"type\":\"scatterpolargl\",\"marker\":{\"colorbar\":{\"outlinewidth\":0,\"ticks\":\"\"}}}],\"bar\":[{\"error_x\":{\"color\":\"#2a3f5f\"},\"error_y\":{\"color\":\"#2a3f5f\"},\"marker\":{\"line\":{\"color\":\"#E5ECF6\",\"width\":0.5},\"pattern\":{\"fillmode\":\"overlay\",\"size\":10,\"solidity\":0.2}},\"type\":\"bar\"}],\"scattergeo\":[{\"type\":\"scattergeo\",\"marker\":{\"colorbar\":{\"outlinewidth\":0,\"ticks\":\"\"}}}],\"scatterpolar\":[{\"type\":\"scatterpolar\",\"marker\":{\"colorbar\":{\"outlinewidth\":0,\"ticks\":\"\"}}}],\"histogram\":[{\"marker\":{\"pattern\":{\"fillmode\":\"overlay\",\"size\":10,\"solidity\":0.2}},\"type\":\"histogram\"}],\"scattergl\":[{\"type\":\"scattergl\",\"marker\":{\"colorbar\":{\"outlinewidth\":0,\"ticks\":\"\"}}}],\"scatter3d\":[{\"type\":\"scatter3d\",\"line\":{\"colorbar\":{\"outlinewidth\":0,\"ticks\":\"\"}},\"marker\":{\"colorbar\":{\"outlinewidth\":0,\"ticks\":\"\"}}}],\"scattermapbox\":[{\"type\":\"scattermapbox\",\"marker\":{\"colorbar\":{\"outlinewidth\":0,\"ticks\":\"\"}}}],\"scatterternary\":[{\"type\":\"scatterternary\",\"marker\":{\"colorbar\":{\"outlinewidth\":0,\"ticks\":\"\"}}}],\"scattercarpet\":[{\"type\":\"scattercarpet\",\"marker\":{\"colorbar\":{\"outlinewidth\":0,\"ticks\":\"\"}}}],\"carpet\":[{\"aaxis\":{\"endlinecolor\":\"#2a3f5f\",\"gridcolor\":\"white\",\"linecolor\":\"white\",\"minorgridcolor\":\"white\",\"startlinecolor\":\"#2a3f5f\"},\"baxis\":{\"endlinecolor\":\"#2a3f5f\",\"gridcolor\":\"white\",\"linecolor\":\"white\",\"minorgridcolor\":\"white\",\"startlinecolor\":\"#2a3f5f\"},\"type\":\"carpet\"}],\"table\":[{\"cells\":{\"fill\":{\"color\":\"#EBF0F8\"},\"line\":{\"color\":\"white\"}},\"header\":{\"fill\":{\"color\":\"#C8D4E3\"},\"line\":{\"color\":\"white\"}},\"type\":\"table\"}],\"barpolar\":[{\"marker\":{\"line\":{\"color\":\"#E5ECF6\",\"width\":0.5},\"pattern\":{\"fillmode\":\"overlay\",\"size\":10,\"solidity\":0.2}},\"type\":\"barpolar\"}],\"pie\":[{\"automargin\":true,\"type\":\"pie\"}]},\"layout\":{\"autotypenumbers\":\"strict\",\"colorway\":[\"#636efa\",\"#EF553B\",\"#00cc96\",\"#ab63fa\",\"#FFA15A\",\"#19d3f3\",\"#FF6692\",\"#B6E880\",\"#FF97FF\",\"#FECB52\"],\"font\":{\"color\":\"#2a3f5f\"},\"hovermode\":\"closest\",\"hoverlabel\":{\"align\":\"left\"},\"paper_bgcolor\":\"white\",\"plot_bgcolor\":\"#E5ECF6\",\"polar\":{\"bgcolor\":\"#E5ECF6\",\"angularaxis\":{\"gridcolor\":\"white\",\"linecolor\":\"white\",\"ticks\":\"\"},\"radialaxis\":{\"gridcolor\":\"white\",\"linecolor\":\"white\",\"ticks\":\"\"}},\"ternary\":{\"bgcolor\":\"#E5ECF6\",\"aaxis\":{\"gridcolor\":\"white\",\"linecolor\":\"white\",\"ticks\":\"\"},\"baxis\":{\"gridcolor\":\"white\",\"linecolor\":\"white\",\"ticks\":\"\"},\"caxis\":{\"gridcolor\":\"white\",\"linecolor\":\"white\",\"ticks\":\"\"}},\"coloraxis\":{\"colorbar\":{\"outlinewidth\":0,\"ticks\":\"\"}},\"colorscale\":{\"sequential\":[[0.0,\"#0d0887\"],[0.1111111111111111,\"#46039f\"],[0.2222222222222222,\"#7201a8\"],[0.3333333333333333,\"#9c179e\"],[0.4444444444444444,\"#bd3786\"],[0.5555555555555556,\"#d8576b\"],[0.6666666666666666,\"#ed7953\"],[0.7777777777777778,\"#fb9f3a\"],[0.8888888888888888,\"#fdca26\"],[1.0,\"#f0f921\"]],\"sequentialminus\":[[0.0,\"#0d0887\"],[0.1111111111111111,\"#46039f\"],[0.2222222222222222,\"#7201a8\"],[0.3333333333333333,\"#9c179e\"],[0.4444444444444444,\"#bd3786\"],[0.5555555555555556,\"#d8576b\"],[0.6666666666666666,\"#ed7953\"],[0.7777777777777778,\"#fb9f3a\"],[0.8888888888888888,\"#fdca26\"],[1.0,\"#f0f921\"]],\"diverging\":[[0,\"#8e0152\"],[0.1,\"#c51b7d\"],[0.2,\"#de77ae\"],[0.3,\"#f1b6da\"],[0.4,\"#fde0ef\"],[0.5,\"#f7f7f7\"],[0.6,\"#e6f5d0\"],[0.7,\"#b8e186\"],[0.8,\"#7fbc41\"],[0.9,\"#4d9221\"],[1,\"#276419\"]]},\"xaxis\":{\"gridcolor\":\"white\",\"linecolor\":\"white\",\"ticks\":\"\",\"title\":{\"standoff\":15},\"zerolinecolor\":\"white\",\"automargin\":true,\"zerolinewidth\":2},\"yaxis\":{\"gridcolor\":\"white\",\"linecolor\":\"white\",\"ticks\":\"\",\"title\":{\"standoff\":15},\"zerolinecolor\":\"white\",\"automargin\":true,\"zerolinewidth\":2},\"scene\":{\"xaxis\":{\"backgroundcolor\":\"#E5ECF6\",\"gridcolor\":\"white\",\"linecolor\":\"white\",\"showbackground\":true,\"ticks\":\"\",\"zerolinecolor\":\"white\",\"gridwidth\":2},\"yaxis\":{\"backgroundcolor\":\"#E5ECF6\",\"gridcolor\":\"white\",\"linecolor\":\"white\",\"showbackground\":true,\"ticks\":\"\",\"zerolinecolor\":\"white\",\"gridwidth\":2},\"zaxis\":{\"backgroundcolor\":\"#E5ECF6\",\"gridcolor\":\"white\",\"linecolor\":\"white\",\"showbackground\":true,\"ticks\":\"\",\"zerolinecolor\":\"white\",\"gridwidth\":2}},\"shapedefaults\":{\"line\":{\"color\":\"#2a3f5f\"}},\"annotationdefaults\":{\"arrowcolor\":\"#2a3f5f\",\"arrowhead\":0,\"arrowwidth\":1},\"geo\":{\"bgcolor\":\"white\",\"landcolor\":\"#E5ECF6\",\"subunitcolor\":\"white\",\"showland\":true,\"showlakes\":true,\"lakecolor\":\"white\"},\"title\":{\"x\":0.05},\"mapbox\":{\"style\":\"light\"}}},\"xaxis\":{\"anchor\":\"y\",\"domain\":[0.0,1.0],\"title\":{\"text\":\"First t-SNE\"},\"showgrid\":true,\"gridcolor\":\"lightgray\"},\"yaxis\":{\"anchor\":\"x\",\"domain\":[0.0,1.0],\"title\":{\"text\":\"Second t-SNE\"},\"showgrid\":true,\"gridcolor\":\"lightgray\"},\"legend\":{\"title\":{\"text\":\"color, symbol\"},\"tracegroupgap\":0,\"itemsizing\":\"constant\"},\"margin\":{\"t\":60},\"title\":{\"text\":\"t-SNE visualization of x-ray stats by tillage and fertilizer\"},\"plot_bgcolor\":\"white\"},                        {\"responsive\": true}                    ).then(function(){\n",
       "                            \n",
       "var gd = document.getElementById('ce1979a7-a72c-44c6-89cd-45177b6b9ec0');\n",
       "var x = new MutationObserver(function (mutations, observer) {{\n",
       "        var display = window.getComputedStyle(gd).display;\n",
       "        if (!display || display === 'none') {{\n",
       "            console.log([gd, 'removed!']);\n",
       "            Plotly.purge(gd);\n",
       "            observer.disconnect();\n",
       "        }}\n",
       "}});\n",
       "\n",
       "// Listen for the removal of the full notebook cells\n",
       "var notebookContainer = gd.closest('#notebook-container');\n",
       "if (notebookContainer) {{\n",
       "    x.observe(notebookContainer, {childList: true});\n",
       "}}\n",
       "\n",
       "// Listen for the clearing of the current output cell\n",
       "var outputEl = gd.closest('.output');\n",
       "if (outputEl) {{\n",
       "    x.observe(outputEl, {childList: true});\n",
       "}}\n",
       "\n",
       "                        })                };                });            </script>        </div>"
      ]
     },
     "metadata": {},
     "output_type": "display_data"
    },
    {
     "name": "stdout",
     "output_type": "stream",
     "text": [
      "ANOVA ON FIRST TSNE\n",
      "                            df    sum_sq   mean_sq          F        PR(>F)\n",
      "C(fertilizer)              2.0  2.807664  1.403832  54.116403  3.930940e-13\n",
      "C(tillage)                 2.0  0.033339  0.016670   0.642598  5.302983e-01\n",
      "C(fertilizer):C(tillage)   4.0  0.074524  0.018631   0.718211  5.835906e-01\n",
      "Residual                  49.0  1.271108  0.025941        NaN           NaN\n",
      "ANOVA ON SECOND TSNE\n",
      "                            df    sum_sq   mean_sq          F        PR(>F)\n",
      "C(fertilizer)              2.0  4.679725  2.339863  25.070679  3.173656e-08\n",
      "C(tillage)                 2.0  2.769315  1.384658  14.836045  9.166363e-06\n",
      "C(fertilizer):C(tillage)   4.0  0.052038  0.013009   0.139391  9.668077e-01\n",
      "Residual                  49.0  4.573202  0.093331        NaN           NaN\n"
     ]
    }
   ],
   "source": [
    "# Collect features\n",
    "X,y,scan = get_features(2)\n",
    "y_split = y.str.split(\"-\", expand=True)\n",
    "yt = y_split[0]\n",
    "yf = y_split[1]\n",
    "\n",
    "# Perform TSNE transformation - better results are indicated by a lower Kullback-Leibler (KL) divergence\n",
    "tsne = TSNE(n_components=2, perplexity = 50, learning_rate = 'auto', n_iter = 10000, random_state=42)\n",
    "X_tsne = tsne.fit_transform(X)\n",
    "print(f\"Kullback-Leibler (KL) divergence: {tsne.kl_divergence_}\")\n",
    "\n",
    "# Plot TSNE variables colored and markered by soil treatement\n",
    "custom_symbols = ['circle', 'square', 'cross']\n",
    "fig = px.scatter(x=X_tsne[:, 0], y=X_tsne[:, 1], color=yt, size=np.full(len(X_tsne), 1),size_max=15,symbol=yf,symbol_sequence=custom_symbols)\n",
    "fig.update_layout(\n",
    "    title=\"t-SNE visualization of x-ray stats by tillage and fertilizer\",\n",
    "    xaxis_title=\"First t-SNE\",\n",
    "    yaxis_title=\"Second t-SNE\",\n",
    "    xaxis=dict(showgrid=True, gridcolor='lightgray'),  # Customize x-axis grid lines\n",
    "    yaxis=dict(showgrid=True, gridcolor='lightgray'),  # Customize y-axis grid lines\n",
    "    plot_bgcolor='white'  # Set the background color to white \n",
    ")\n",
    "fig.update_traces(marker=dict(opacity=1, line=dict(width=1)))\n",
    "fig.show()\n",
    "\n",
    "# Influence of fertilizer and tillage on both tsne variables\n",
    "df = pd.DataFrame({'x': X_tsne[:, 0],\n",
    "                   'y': X_tsne[:, 1], \n",
    "                   'fertilizer': yf,\n",
    "                   'tillage': yt})\n",
    "modelx = ols('x ~ C(fertilizer) + C(tillage) + C(fertilizer):C(tillage)', data=df).fit()\n",
    "modely = ols('y ~ C(fertilizer) + C(tillage) + C(fertilizer):C(tillage)', data=df).fit()\n",
    "\n",
    "# Perform ANOVA test\n",
    "anovax = anova_lm(modelx)\n",
    "anovay = anova_lm(modely)\n",
    "print('ANOVA ON FIRST TSNE')\n",
    "print(anovax)\n",
    "print('ANOVA ON SECOND TSNE')\n",
    "print(anovay)"
   ]
  },
  {
   "cell_type": "markdown",
   "id": "5cca9727",
   "metadata": {},
   "source": [
    "These results differ slightly from those presented in the accompanying slides due to inclusion here of scan 30, but the conclusions are the same: **t-SNE components illustrate strongly separated clusters by soil treatment.**\n",
    "\n",
    "ANOVA: \n",
    "- Significant differences in t-SNE_1 by fertilizer (P ~ 1E-13)\n",
    "- Significant differences in t-SNE_2 by both fertilizer (P ~ 1E-8), and tillage (P ~ 1.8E-6)\n",
    "\n",
    "\n",
    "While t-SNE is excellent for visualizing clusters, a downside is no direct or deterministic mapping between original features and t-SNE components, which can make it tricky to draw to many conclusions beyond the visualizations of clusters one can make with t-SNE outputs. But we can still observe strong correlations for different components:\n",
    "\n",
    "- t-SNE_1 - strongly correlated with skew and kurtosis (which seem negatively correlated with each other).\n",
    "- t-SNE_2 - strongly (negatively) correlated with sobel edge features.\n",
    "\n",
    "See the correlation coefficients below."
   ]
  },
  {
   "cell_type": "code",
   "execution_count": 118,
   "id": "0043f5a3",
   "metadata": {},
   "outputs": [
    {
     "name": "stdout",
     "output_type": "stream",
     "text": [
      "Most influential variables for tsne_1:\n",
      "tsne_1                              1.000000\n",
      "skew_mean_mean_3.51                 0.860489\n",
      "skew_mean_mean_0.0                  0.820958\n",
      "skew_mean_mean_6.824999999999999    0.802489\n",
      "skew_mean_mean_10.14                0.640786\n",
      "edge_mean_mean_3.51                 0.205635\n",
      "edge_mean_mean_6.824999999999999    0.133382\n",
      "edge_mean_mean_10.14               -0.020322\n",
      "tsne_2                             -0.024127\n",
      "edge_mean_mean_0.0                 -0.564315\n",
      "kurt_mean_mean_0.0                 -0.576362\n",
      "kurt_mean_mean_3.51                -0.717262\n",
      "kurt_mean_mean_10.14               -0.799254\n",
      "kurt_mean_mean_6.824999999999999   -0.805760\n",
      "Name: tsne_1, dtype: float64\n",
      "\n",
      "Most influential variables for tsne_2:\n",
      "tsne_2                              1.000000\n",
      "kurt_mean_mean_3.51                 0.566635\n",
      "kurt_mean_mean_6.824999999999999    0.457974\n",
      "kurt_mean_mean_0.0                  0.422908\n",
      "skew_mean_mean_10.14                0.327605\n",
      "skew_mean_mean_6.824999999999999    0.271990\n",
      "kurt_mean_mean_10.14                0.058009\n",
      "tsne_1                             -0.024127\n",
      "skew_mean_mean_3.51                -0.168373\n",
      "skew_mean_mean_0.0                 -0.188297\n",
      "edge_mean_mean_10.14               -0.650524\n",
      "edge_mean_mean_0.0                 -0.741332\n",
      "edge_mean_mean_6.824999999999999   -0.874419\n",
      "edge_mean_mean_3.51                -0.942370\n",
      "Name: tsne_2, dtype: float64\n"
     ]
    },
    {
     "data": {
      "application/vnd.plotly.v1+json": {
       "config": {
        "plotlyServerURL": "https://plot.ly"
       },
       "data": [
        {
         "hovertemplate": "color=NP<br>symbol=NP<br>x=%{x}<br>y=%{y}<br>size=%{marker.size}<extra></extra>",
         "legendgroup": "NP, NP",
         "marker": {
          "color": "#636efa",
          "line": {
           "width": 1
          },
          "opacity": 1,
          "size": [
           1,
           1,
           1,
           1,
           1,
           1
          ],
          "sizemode": "area",
          "sizeref": 0.0044444444444444444,
          "symbol": "circle"
         },
         "mode": "markers",
         "name": "NP, NP",
         "orientation": "v",
         "showlegend": true,
         "type": "scatter",
         "x": [
          18.17005830682979,
          16.31788806250804,
          17.489126336445914,
          20.537633523061427,
          16.84118737408684,
          16.916694791744213
         ],
         "xaxis": "x",
         "y": [
          2.855954896585642,
          2.967132717196341,
          3.798034897624696,
          1.973395749428236,
          3.181838326848733,
          1.8209638534465888
         ],
         "yaxis": "y"
        },
        {
         "hovertemplate": "color=NT<br>symbol=HM<br>x=%{x}<br>y=%{y}<br>size=%{marker.size}<extra></extra>",
         "legendgroup": "NT, HM",
         "marker": {
          "color": "#EF553B",
          "line": {
           "width": 1
          },
          "opacity": 1,
          "size": [
           1,
           1,
           1,
           1,
           1,
           1,
           1,
           1,
           1,
           1,
           1,
           1
          ],
          "sizemode": "area",
          "sizeref": 0.0044444444444444444,
          "symbol": "square"
         },
         "mode": "markers",
         "name": "NT, HM",
         "orientation": "v",
         "showlegend": true,
         "type": "scatter",
         "x": [
          4.646809295464993,
          7.83224031267798,
          7.440768032026444,
          5.796425258651475,
          5.110260684210282,
          5.792628795176716,
          4.41331174169904,
          6.425396390796055,
          6.304621054083441,
          6.930303406413865,
          6.497392698327629,
          3.6873725346615855
         ],
         "xaxis": "x",
         "y": [
          5.04900161098262,
          4.4303348176729695,
          4.680442485124439,
          5.710691829608961,
          4.144087475488568,
          4.190320075179706,
          5.256291565272872,
          4.77921305735646,
          4.611013602080067,
          4.489053922619657,
          6.207333218334068,
          5.605716100650108
         ],
         "yaxis": "y"
        },
        {
         "hovertemplate": "color=NT<br>symbol=HF<br>x=%{x}<br>y=%{y}<br>size=%{marker.size}<extra></extra>",
         "legendgroup": "NT, HF",
         "marker": {
          "color": "#EF553B",
          "line": {
           "width": 1
          },
          "opacity": 1,
          "size": [
           1,
           1,
           1,
           1,
           1,
           1,
           1,
           1,
           1,
           1,
           1,
           1
          ],
          "sizemode": "area",
          "sizeref": 0.0044444444444444444,
          "symbol": "cross"
         },
         "mode": "markers",
         "name": "NT, HF",
         "orientation": "v",
         "showlegend": true,
         "type": "scatter",
         "x": [
          8.822778241149397,
          7.795105873772377,
          10.448713340159808,
          5.405401405392766,
          4.96153464620705,
          6.656737291586464,
          12.003950142088897,
          6.552684994924547,
          7.339016990344366,
          7.516226096886164,
          6.071304860925122,
          2.9867691341429183
         ],
         "xaxis": "x",
         "y": [
          5.427067046090637,
          9.303456181243195,
          5.41475813303898,
          6.8081477268356245,
          6.627209344188722,
          9.121753841549024,
          5.965016784605641,
          7.579348674648424,
          7.357730876079886,
          8.900224456038396,
          7.929802676399554,
          7.334970639733619
         ],
         "yaxis": "y"
        },
        {
         "hovertemplate": "color=T<br>symbol=HM<br>x=%{x}<br>y=%{y}<br>size=%{marker.size}<extra></extra>",
         "legendgroup": "T, HM",
         "marker": {
          "color": "#00cc96",
          "line": {
           "width": 1
          },
          "opacity": 1,
          "size": [
           1,
           1,
           1,
           1,
           1,
           1,
           1,
           1,
           1,
           1,
           1,
           1
          ],
          "sizemode": "area",
          "sizeref": 0.0044444444444444444,
          "symbol": "square"
         },
         "mode": "markers",
         "name": "T, HM",
         "orientation": "v",
         "showlegend": true,
         "type": "scatter",
         "x": [
          5.577747174078956,
          10.755409184089878,
          7.502490867885093,
          11.73338867432988,
          10.488203781543795,
          6.245934518692245,
          11.079330649585357,
          12.165359484892004,
          12.27363747510362,
          7.406690027011428,
          10.70940090501338,
          5.865682994508769
         ],
         "xaxis": "x",
         "y": [
          6.849898202114501,
          3.9837770850147023,
          3.9401839736652295,
          2.5370724288164146,
          3.360070376819296,
          5.535629193653174,
          4.289585095771732,
          0.7421345807952597,
          3.3729220542218017,
          4.639706978915388,
          4.46224298914793,
          3.963980828911836
         ],
         "yaxis": "y"
        },
        {
         "hovertemplate": "color=T<br>symbol=HF<br>x=%{x}<br>y=%{y}<br>size=%{marker.size}<extra></extra>",
         "legendgroup": "T, HF",
         "marker": {
          "color": "#00cc96",
          "line": {
           "width": 1
          },
          "opacity": 1,
          "size": [
           1,
           1,
           1,
           1,
           1,
           1,
           1,
           1,
           1,
           1,
           1,
           1
          ],
          "sizemode": "area",
          "sizeref": 0.0044444444444444444,
          "symbol": "cross"
         },
         "mode": "markers",
         "name": "T, HF",
         "orientation": "v",
         "showlegend": true,
         "type": "scatter",
         "x": [
          8.466256265926694,
          6.478732639429537,
          12.61045573496034,
          10.6381439171107,
          9.991939143454456,
          6.079395530994184,
          19.76856052735762,
          14.06065248902099,
          7.751583089405373,
          8.906137880360928,
          7.138037929103729,
          21.52340292886592
         ],
         "xaxis": "x",
         "y": [
          5.786518599092659,
          5.651721925511639,
          6.362465838029025,
          7.407528754401093,
          6.889847900397274,
          5.724590941186552,
          4.497468132115809,
          5.872477191056107,
          5.60102093995374,
          8.223715306027353,
          5.098399251133136,
          3.847820366874598
         ],
         "yaxis": "y"
        }
       ],
       "layout": {
        "legend": {
         "itemsizing": "constant",
         "title": {
          "text": "color, symbol"
         },
         "tracegroupgap": 0
        },
        "margin": {
         "t": 60
        },
        "plot_bgcolor": "white",
        "template": {
         "data": {
          "bar": [
           {
            "error_x": {
             "color": "#2a3f5f"
            },
            "error_y": {
             "color": "#2a3f5f"
            },
            "marker": {
             "line": {
              "color": "#E5ECF6",
              "width": 0.5
             },
             "pattern": {
              "fillmode": "overlay",
              "size": 10,
              "solidity": 0.2
             }
            },
            "type": "bar"
           }
          ],
          "barpolar": [
           {
            "marker": {
             "line": {
              "color": "#E5ECF6",
              "width": 0.5
             },
             "pattern": {
              "fillmode": "overlay",
              "size": 10,
              "solidity": 0.2
             }
            },
            "type": "barpolar"
           }
          ],
          "carpet": [
           {
            "aaxis": {
             "endlinecolor": "#2a3f5f",
             "gridcolor": "white",
             "linecolor": "white",
             "minorgridcolor": "white",
             "startlinecolor": "#2a3f5f"
            },
            "baxis": {
             "endlinecolor": "#2a3f5f",
             "gridcolor": "white",
             "linecolor": "white",
             "minorgridcolor": "white",
             "startlinecolor": "#2a3f5f"
            },
            "type": "carpet"
           }
          ],
          "choropleth": [
           {
            "colorbar": {
             "outlinewidth": 0,
             "ticks": ""
            },
            "type": "choropleth"
           }
          ],
          "contour": [
           {
            "colorbar": {
             "outlinewidth": 0,
             "ticks": ""
            },
            "colorscale": [
             [
              0,
              "#0d0887"
             ],
             [
              0.1111111111111111,
              "#46039f"
             ],
             [
              0.2222222222222222,
              "#7201a8"
             ],
             [
              0.3333333333333333,
              "#9c179e"
             ],
             [
              0.4444444444444444,
              "#bd3786"
             ],
             [
              0.5555555555555556,
              "#d8576b"
             ],
             [
              0.6666666666666666,
              "#ed7953"
             ],
             [
              0.7777777777777778,
              "#fb9f3a"
             ],
             [
              0.8888888888888888,
              "#fdca26"
             ],
             [
              1,
              "#f0f921"
             ]
            ],
            "type": "contour"
           }
          ],
          "contourcarpet": [
           {
            "colorbar": {
             "outlinewidth": 0,
             "ticks": ""
            },
            "type": "contourcarpet"
           }
          ],
          "heatmap": [
           {
            "colorbar": {
             "outlinewidth": 0,
             "ticks": ""
            },
            "colorscale": [
             [
              0,
              "#0d0887"
             ],
             [
              0.1111111111111111,
              "#46039f"
             ],
             [
              0.2222222222222222,
              "#7201a8"
             ],
             [
              0.3333333333333333,
              "#9c179e"
             ],
             [
              0.4444444444444444,
              "#bd3786"
             ],
             [
              0.5555555555555556,
              "#d8576b"
             ],
             [
              0.6666666666666666,
              "#ed7953"
             ],
             [
              0.7777777777777778,
              "#fb9f3a"
             ],
             [
              0.8888888888888888,
              "#fdca26"
             ],
             [
              1,
              "#f0f921"
             ]
            ],
            "type": "heatmap"
           }
          ],
          "heatmapgl": [
           {
            "colorbar": {
             "outlinewidth": 0,
             "ticks": ""
            },
            "colorscale": [
             [
              0,
              "#0d0887"
             ],
             [
              0.1111111111111111,
              "#46039f"
             ],
             [
              0.2222222222222222,
              "#7201a8"
             ],
             [
              0.3333333333333333,
              "#9c179e"
             ],
             [
              0.4444444444444444,
              "#bd3786"
             ],
             [
              0.5555555555555556,
              "#d8576b"
             ],
             [
              0.6666666666666666,
              "#ed7953"
             ],
             [
              0.7777777777777778,
              "#fb9f3a"
             ],
             [
              0.8888888888888888,
              "#fdca26"
             ],
             [
              1,
              "#f0f921"
             ]
            ],
            "type": "heatmapgl"
           }
          ],
          "histogram": [
           {
            "marker": {
             "pattern": {
              "fillmode": "overlay",
              "size": 10,
              "solidity": 0.2
             }
            },
            "type": "histogram"
           }
          ],
          "histogram2d": [
           {
            "colorbar": {
             "outlinewidth": 0,
             "ticks": ""
            },
            "colorscale": [
             [
              0,
              "#0d0887"
             ],
             [
              0.1111111111111111,
              "#46039f"
             ],
             [
              0.2222222222222222,
              "#7201a8"
             ],
             [
              0.3333333333333333,
              "#9c179e"
             ],
             [
              0.4444444444444444,
              "#bd3786"
             ],
             [
              0.5555555555555556,
              "#d8576b"
             ],
             [
              0.6666666666666666,
              "#ed7953"
             ],
             [
              0.7777777777777778,
              "#fb9f3a"
             ],
             [
              0.8888888888888888,
              "#fdca26"
             ],
             [
              1,
              "#f0f921"
             ]
            ],
            "type": "histogram2d"
           }
          ],
          "histogram2dcontour": [
           {
            "colorbar": {
             "outlinewidth": 0,
             "ticks": ""
            },
            "colorscale": [
             [
              0,
              "#0d0887"
             ],
             [
              0.1111111111111111,
              "#46039f"
             ],
             [
              0.2222222222222222,
              "#7201a8"
             ],
             [
              0.3333333333333333,
              "#9c179e"
             ],
             [
              0.4444444444444444,
              "#bd3786"
             ],
             [
              0.5555555555555556,
              "#d8576b"
             ],
             [
              0.6666666666666666,
              "#ed7953"
             ],
             [
              0.7777777777777778,
              "#fb9f3a"
             ],
             [
              0.8888888888888888,
              "#fdca26"
             ],
             [
              1,
              "#f0f921"
             ]
            ],
            "type": "histogram2dcontour"
           }
          ],
          "mesh3d": [
           {
            "colorbar": {
             "outlinewidth": 0,
             "ticks": ""
            },
            "type": "mesh3d"
           }
          ],
          "parcoords": [
           {
            "line": {
             "colorbar": {
              "outlinewidth": 0,
              "ticks": ""
             }
            },
            "type": "parcoords"
           }
          ],
          "pie": [
           {
            "automargin": true,
            "type": "pie"
           }
          ],
          "scatter": [
           {
            "fillpattern": {
             "fillmode": "overlay",
             "size": 10,
             "solidity": 0.2
            },
            "type": "scatter"
           }
          ],
          "scatter3d": [
           {
            "line": {
             "colorbar": {
              "outlinewidth": 0,
              "ticks": ""
             }
            },
            "marker": {
             "colorbar": {
              "outlinewidth": 0,
              "ticks": ""
             }
            },
            "type": "scatter3d"
           }
          ],
          "scattercarpet": [
           {
            "marker": {
             "colorbar": {
              "outlinewidth": 0,
              "ticks": ""
             }
            },
            "type": "scattercarpet"
           }
          ],
          "scattergeo": [
           {
            "marker": {
             "colorbar": {
              "outlinewidth": 0,
              "ticks": ""
             }
            },
            "type": "scattergeo"
           }
          ],
          "scattergl": [
           {
            "marker": {
             "colorbar": {
              "outlinewidth": 0,
              "ticks": ""
             }
            },
            "type": "scattergl"
           }
          ],
          "scattermapbox": [
           {
            "marker": {
             "colorbar": {
              "outlinewidth": 0,
              "ticks": ""
             }
            },
            "type": "scattermapbox"
           }
          ],
          "scatterpolar": [
           {
            "marker": {
             "colorbar": {
              "outlinewidth": 0,
              "ticks": ""
             }
            },
            "type": "scatterpolar"
           }
          ],
          "scatterpolargl": [
           {
            "marker": {
             "colorbar": {
              "outlinewidth": 0,
              "ticks": ""
             }
            },
            "type": "scatterpolargl"
           }
          ],
          "scatterternary": [
           {
            "marker": {
             "colorbar": {
              "outlinewidth": 0,
              "ticks": ""
             }
            },
            "type": "scatterternary"
           }
          ],
          "surface": [
           {
            "colorbar": {
             "outlinewidth": 0,
             "ticks": ""
            },
            "colorscale": [
             [
              0,
              "#0d0887"
             ],
             [
              0.1111111111111111,
              "#46039f"
             ],
             [
              0.2222222222222222,
              "#7201a8"
             ],
             [
              0.3333333333333333,
              "#9c179e"
             ],
             [
              0.4444444444444444,
              "#bd3786"
             ],
             [
              0.5555555555555556,
              "#d8576b"
             ],
             [
              0.6666666666666666,
              "#ed7953"
             ],
             [
              0.7777777777777778,
              "#fb9f3a"
             ],
             [
              0.8888888888888888,
              "#fdca26"
             ],
             [
              1,
              "#f0f921"
             ]
            ],
            "type": "surface"
           }
          ],
          "table": [
           {
            "cells": {
             "fill": {
              "color": "#EBF0F8"
             },
             "line": {
              "color": "white"
             }
            },
            "header": {
             "fill": {
              "color": "#C8D4E3"
             },
             "line": {
              "color": "white"
             }
            },
            "type": "table"
           }
          ]
         },
         "layout": {
          "annotationdefaults": {
           "arrowcolor": "#2a3f5f",
           "arrowhead": 0,
           "arrowwidth": 1
          },
          "autotypenumbers": "strict",
          "coloraxis": {
           "colorbar": {
            "outlinewidth": 0,
            "ticks": ""
           }
          },
          "colorscale": {
           "diverging": [
            [
             0,
             "#8e0152"
            ],
            [
             0.1,
             "#c51b7d"
            ],
            [
             0.2,
             "#de77ae"
            ],
            [
             0.3,
             "#f1b6da"
            ],
            [
             0.4,
             "#fde0ef"
            ],
            [
             0.5,
             "#f7f7f7"
            ],
            [
             0.6,
             "#e6f5d0"
            ],
            [
             0.7,
             "#b8e186"
            ],
            [
             0.8,
             "#7fbc41"
            ],
            [
             0.9,
             "#4d9221"
            ],
            [
             1,
             "#276419"
            ]
           ],
           "sequential": [
            [
             0,
             "#0d0887"
            ],
            [
             0.1111111111111111,
             "#46039f"
            ],
            [
             0.2222222222222222,
             "#7201a8"
            ],
            [
             0.3333333333333333,
             "#9c179e"
            ],
            [
             0.4444444444444444,
             "#bd3786"
            ],
            [
             0.5555555555555556,
             "#d8576b"
            ],
            [
             0.6666666666666666,
             "#ed7953"
            ],
            [
             0.7777777777777778,
             "#fb9f3a"
            ],
            [
             0.8888888888888888,
             "#fdca26"
            ],
            [
             1,
             "#f0f921"
            ]
           ],
           "sequentialminus": [
            [
             0,
             "#0d0887"
            ],
            [
             0.1111111111111111,
             "#46039f"
            ],
            [
             0.2222222222222222,
             "#7201a8"
            ],
            [
             0.3333333333333333,
             "#9c179e"
            ],
            [
             0.4444444444444444,
             "#bd3786"
            ],
            [
             0.5555555555555556,
             "#d8576b"
            ],
            [
             0.6666666666666666,
             "#ed7953"
            ],
            [
             0.7777777777777778,
             "#fb9f3a"
            ],
            [
             0.8888888888888888,
             "#fdca26"
            ],
            [
             1,
             "#f0f921"
            ]
           ]
          },
          "colorway": [
           "#636efa",
           "#EF553B",
           "#00cc96",
           "#ab63fa",
           "#FFA15A",
           "#19d3f3",
           "#FF6692",
           "#B6E880",
           "#FF97FF",
           "#FECB52"
          ],
          "font": {
           "color": "#2a3f5f"
          },
          "geo": {
           "bgcolor": "white",
           "lakecolor": "white",
           "landcolor": "#E5ECF6",
           "showlakes": true,
           "showland": true,
           "subunitcolor": "white"
          },
          "hoverlabel": {
           "align": "left"
          },
          "hovermode": "closest",
          "mapbox": {
           "style": "light"
          },
          "paper_bgcolor": "white",
          "plot_bgcolor": "#E5ECF6",
          "polar": {
           "angularaxis": {
            "gridcolor": "white",
            "linecolor": "white",
            "ticks": ""
           },
           "bgcolor": "#E5ECF6",
           "radialaxis": {
            "gridcolor": "white",
            "linecolor": "white",
            "ticks": ""
           }
          },
          "scene": {
           "xaxis": {
            "backgroundcolor": "#E5ECF6",
            "gridcolor": "white",
            "gridwidth": 2,
            "linecolor": "white",
            "showbackground": true,
            "ticks": "",
            "zerolinecolor": "white"
           },
           "yaxis": {
            "backgroundcolor": "#E5ECF6",
            "gridcolor": "white",
            "gridwidth": 2,
            "linecolor": "white",
            "showbackground": true,
            "ticks": "",
            "zerolinecolor": "white"
           },
           "zaxis": {
            "backgroundcolor": "#E5ECF6",
            "gridcolor": "white",
            "gridwidth": 2,
            "linecolor": "white",
            "showbackground": true,
            "ticks": "",
            "zerolinecolor": "white"
           }
          },
          "shapedefaults": {
           "line": {
            "color": "#2a3f5f"
           }
          },
          "ternary": {
           "aaxis": {
            "gridcolor": "white",
            "linecolor": "white",
            "ticks": ""
           },
           "baxis": {
            "gridcolor": "white",
            "linecolor": "white",
            "ticks": ""
           },
           "bgcolor": "#E5ECF6",
           "caxis": {
            "gridcolor": "white",
            "linecolor": "white",
            "ticks": ""
           }
          },
          "title": {
           "x": 0.05
          },
          "xaxis": {
           "automargin": true,
           "gridcolor": "white",
           "linecolor": "white",
           "ticks": "",
           "title": {
            "standoff": 15
           },
           "zerolinecolor": "white",
           "zerolinewidth": 2
          },
          "yaxis": {
           "automargin": true,
           "gridcolor": "white",
           "linecolor": "white",
           "ticks": "",
           "title": {
            "standoff": 15
           },
           "zerolinecolor": "white",
           "zerolinewidth": 2
          }
         }
        },
        "title": {
         "text": "Sample features"
        },
        "xaxis": {
         "anchor": "y",
         "domain": [
          0,
          1
         ],
         "gridcolor": "lightgray",
         "showgrid": true,
         "title": {
          "text": "mean-mean sobel edges 3.51-6.83 cm depth"
         }
        },
        "yaxis": {
         "anchor": "x",
         "domain": [
          0,
          1
         ],
         "gridcolor": "lightgray",
         "showgrid": true,
         "title": {
          "text": "mean-mean kurtosis 6.83-10.14 cm depth"
         }
        }
       }
      },
      "text/html": [
       "<div>                            <div id=\"eda70c3b-b9b0-48eb-ac56-6b3b4a0783b2\" class=\"plotly-graph-div\" style=\"height:525px; width:100%;\"></div>            <script type=\"text/javascript\">                require([\"plotly\"], function(Plotly) {                    window.PLOTLYENV=window.PLOTLYENV || {};                                    if (document.getElementById(\"eda70c3b-b9b0-48eb-ac56-6b3b4a0783b2\")) {                    Plotly.newPlot(                        \"eda70c3b-b9b0-48eb-ac56-6b3b4a0783b2\",                        [{\"hovertemplate\":\"color=NP<br>symbol=NP<br>x=%{x}<br>y=%{y}<br>size=%{marker.size}<extra></extra>\",\"legendgroup\":\"NP, NP\",\"marker\":{\"color\":\"#636efa\",\"size\":[1,1,1,1,1,1],\"sizemode\":\"area\",\"sizeref\":0.0044444444444444444,\"symbol\":\"circle\",\"line\":{\"width\":1},\"opacity\":1},\"mode\":\"markers\",\"name\":\"NP, NP\",\"orientation\":\"v\",\"showlegend\":true,\"x\":[18.17005830682979,16.31788806250804,17.489126336445914,20.537633523061427,16.84118737408684,16.916694791744213],\"xaxis\":\"x\",\"y\":[2.855954896585642,2.967132717196341,3.798034897624696,1.973395749428236,3.181838326848733,1.8209638534465888],\"yaxis\":\"y\",\"type\":\"scatter\"},{\"hovertemplate\":\"color=NT<br>symbol=HM<br>x=%{x}<br>y=%{y}<br>size=%{marker.size}<extra></extra>\",\"legendgroup\":\"NT, HM\",\"marker\":{\"color\":\"#EF553B\",\"size\":[1,1,1,1,1,1,1,1,1,1,1,1],\"sizemode\":\"area\",\"sizeref\":0.0044444444444444444,\"symbol\":\"square\",\"line\":{\"width\":1},\"opacity\":1},\"mode\":\"markers\",\"name\":\"NT, HM\",\"orientation\":\"v\",\"showlegend\":true,\"x\":[4.646809295464993,7.83224031267798,7.440768032026444,5.796425258651475,5.110260684210282,5.792628795176716,4.41331174169904,6.425396390796055,6.304621054083441,6.930303406413865,6.497392698327629,3.6873725346615855],\"xaxis\":\"x\",\"y\":[5.04900161098262,4.4303348176729695,4.680442485124439,5.710691829608961,4.144087475488568,4.190320075179706,5.256291565272872,4.77921305735646,4.611013602080067,4.489053922619657,6.207333218334068,5.605716100650108],\"yaxis\":\"y\",\"type\":\"scatter\"},{\"hovertemplate\":\"color=NT<br>symbol=HF<br>x=%{x}<br>y=%{y}<br>size=%{marker.size}<extra></extra>\",\"legendgroup\":\"NT, HF\",\"marker\":{\"color\":\"#EF553B\",\"size\":[1,1,1,1,1,1,1,1,1,1,1,1],\"sizemode\":\"area\",\"sizeref\":0.0044444444444444444,\"symbol\":\"cross\",\"line\":{\"width\":1},\"opacity\":1},\"mode\":\"markers\",\"name\":\"NT, HF\",\"orientation\":\"v\",\"showlegend\":true,\"x\":[8.822778241149397,7.795105873772377,10.448713340159808,5.405401405392766,4.96153464620705,6.656737291586464,12.003950142088897,6.552684994924547,7.339016990344366,7.516226096886164,6.071304860925122,2.9867691341429183],\"xaxis\":\"x\",\"y\":[5.427067046090637,9.303456181243195,5.41475813303898,6.8081477268356245,6.627209344188722,9.121753841549024,5.965016784605641,7.579348674648424,7.357730876079886,8.900224456038396,7.929802676399554,7.334970639733619],\"yaxis\":\"y\",\"type\":\"scatter\"},{\"hovertemplate\":\"color=T<br>symbol=HM<br>x=%{x}<br>y=%{y}<br>size=%{marker.size}<extra></extra>\",\"legendgroup\":\"T, HM\",\"marker\":{\"color\":\"#00cc96\",\"size\":[1,1,1,1,1,1,1,1,1,1,1,1],\"sizemode\":\"area\",\"sizeref\":0.0044444444444444444,\"symbol\":\"square\",\"line\":{\"width\":1},\"opacity\":1},\"mode\":\"markers\",\"name\":\"T, HM\",\"orientation\":\"v\",\"showlegend\":true,\"x\":[5.577747174078956,10.755409184089878,7.502490867885093,11.73338867432988,10.488203781543795,6.245934518692245,11.079330649585357,12.165359484892004,12.27363747510362,7.406690027011428,10.70940090501338,5.865682994508769],\"xaxis\":\"x\",\"y\":[6.849898202114501,3.9837770850147023,3.9401839736652295,2.5370724288164146,3.360070376819296,5.535629193653174,4.289585095771732,0.7421345807952597,3.3729220542218017,4.639706978915388,4.46224298914793,3.963980828911836],\"yaxis\":\"y\",\"type\":\"scatter\"},{\"hovertemplate\":\"color=T<br>symbol=HF<br>x=%{x}<br>y=%{y}<br>size=%{marker.size}<extra></extra>\",\"legendgroup\":\"T, HF\",\"marker\":{\"color\":\"#00cc96\",\"size\":[1,1,1,1,1,1,1,1,1,1,1,1],\"sizemode\":\"area\",\"sizeref\":0.0044444444444444444,\"symbol\":\"cross\",\"line\":{\"width\":1},\"opacity\":1},\"mode\":\"markers\",\"name\":\"T, HF\",\"orientation\":\"v\",\"showlegend\":true,\"x\":[8.466256265926694,6.478732639429537,12.61045573496034,10.6381439171107,9.991939143454456,6.079395530994184,19.76856052735762,14.06065248902099,7.751583089405373,8.906137880360928,7.138037929103729,21.52340292886592],\"xaxis\":\"x\",\"y\":[5.786518599092659,5.651721925511639,6.362465838029025,7.407528754401093,6.889847900397274,5.724590941186552,4.497468132115809,5.872477191056107,5.60102093995374,8.223715306027353,5.098399251133136,3.847820366874598],\"yaxis\":\"y\",\"type\":\"scatter\"}],                        {\"template\":{\"data\":{\"histogram2dcontour\":[{\"type\":\"histogram2dcontour\",\"colorbar\":{\"outlinewidth\":0,\"ticks\":\"\"},\"colorscale\":[[0.0,\"#0d0887\"],[0.1111111111111111,\"#46039f\"],[0.2222222222222222,\"#7201a8\"],[0.3333333333333333,\"#9c179e\"],[0.4444444444444444,\"#bd3786\"],[0.5555555555555556,\"#d8576b\"],[0.6666666666666666,\"#ed7953\"],[0.7777777777777778,\"#fb9f3a\"],[0.8888888888888888,\"#fdca26\"],[1.0,\"#f0f921\"]]}],\"choropleth\":[{\"type\":\"choropleth\",\"colorbar\":{\"outlinewidth\":0,\"ticks\":\"\"}}],\"histogram2d\":[{\"type\":\"histogram2d\",\"colorbar\":{\"outlinewidth\":0,\"ticks\":\"\"},\"colorscale\":[[0.0,\"#0d0887\"],[0.1111111111111111,\"#46039f\"],[0.2222222222222222,\"#7201a8\"],[0.3333333333333333,\"#9c179e\"],[0.4444444444444444,\"#bd3786\"],[0.5555555555555556,\"#d8576b\"],[0.6666666666666666,\"#ed7953\"],[0.7777777777777778,\"#fb9f3a\"],[0.8888888888888888,\"#fdca26\"],[1.0,\"#f0f921\"]]}],\"heatmap\":[{\"type\":\"heatmap\",\"colorbar\":{\"outlinewidth\":0,\"ticks\":\"\"},\"colorscale\":[[0.0,\"#0d0887\"],[0.1111111111111111,\"#46039f\"],[0.2222222222222222,\"#7201a8\"],[0.3333333333333333,\"#9c179e\"],[0.4444444444444444,\"#bd3786\"],[0.5555555555555556,\"#d8576b\"],[0.6666666666666666,\"#ed7953\"],[0.7777777777777778,\"#fb9f3a\"],[0.8888888888888888,\"#fdca26\"],[1.0,\"#f0f921\"]]}],\"heatmapgl\":[{\"type\":\"heatmapgl\",\"colorbar\":{\"outlinewidth\":0,\"ticks\":\"\"},\"colorscale\":[[0.0,\"#0d0887\"],[0.1111111111111111,\"#46039f\"],[0.2222222222222222,\"#7201a8\"],[0.3333333333333333,\"#9c179e\"],[0.4444444444444444,\"#bd3786\"],[0.5555555555555556,\"#d8576b\"],[0.6666666666666666,\"#ed7953\"],[0.7777777777777778,\"#fb9f3a\"],[0.8888888888888888,\"#fdca26\"],[1.0,\"#f0f921\"]]}],\"contourcarpet\":[{\"type\":\"contourcarpet\",\"colorbar\":{\"outlinewidth\":0,\"ticks\":\"\"}}],\"contour\":[{\"type\":\"contour\",\"colorbar\":{\"outlinewidth\":0,\"ticks\":\"\"},\"colorscale\":[[0.0,\"#0d0887\"],[0.1111111111111111,\"#46039f\"],[0.2222222222222222,\"#7201a8\"],[0.3333333333333333,\"#9c179e\"],[0.4444444444444444,\"#bd3786\"],[0.5555555555555556,\"#d8576b\"],[0.6666666666666666,\"#ed7953\"],[0.7777777777777778,\"#fb9f3a\"],[0.8888888888888888,\"#fdca26\"],[1.0,\"#f0f921\"]]}],\"surface\":[{\"type\":\"surface\",\"colorbar\":{\"outlinewidth\":0,\"ticks\":\"\"},\"colorscale\":[[0.0,\"#0d0887\"],[0.1111111111111111,\"#46039f\"],[0.2222222222222222,\"#7201a8\"],[0.3333333333333333,\"#9c179e\"],[0.4444444444444444,\"#bd3786\"],[0.5555555555555556,\"#d8576b\"],[0.6666666666666666,\"#ed7953\"],[0.7777777777777778,\"#fb9f3a\"],[0.8888888888888888,\"#fdca26\"],[1.0,\"#f0f921\"]]}],\"mesh3d\":[{\"type\":\"mesh3d\",\"colorbar\":{\"outlinewidth\":0,\"ticks\":\"\"}}],\"scatter\":[{\"fillpattern\":{\"fillmode\":\"overlay\",\"size\":10,\"solidity\":0.2},\"type\":\"scatter\"}],\"parcoords\":[{\"type\":\"parcoords\",\"line\":{\"colorbar\":{\"outlinewidth\":0,\"ticks\":\"\"}}}],\"scatterpolargl\":[{\"type\":\"scatterpolargl\",\"marker\":{\"colorbar\":{\"outlinewidth\":0,\"ticks\":\"\"}}}],\"bar\":[{\"error_x\":{\"color\":\"#2a3f5f\"},\"error_y\":{\"color\":\"#2a3f5f\"},\"marker\":{\"line\":{\"color\":\"#E5ECF6\",\"width\":0.5},\"pattern\":{\"fillmode\":\"overlay\",\"size\":10,\"solidity\":0.2}},\"type\":\"bar\"}],\"scattergeo\":[{\"type\":\"scattergeo\",\"marker\":{\"colorbar\":{\"outlinewidth\":0,\"ticks\":\"\"}}}],\"scatterpolar\":[{\"type\":\"scatterpolar\",\"marker\":{\"colorbar\":{\"outlinewidth\":0,\"ticks\":\"\"}}}],\"histogram\":[{\"marker\":{\"pattern\":{\"fillmode\":\"overlay\",\"size\":10,\"solidity\":0.2}},\"type\":\"histogram\"}],\"scattergl\":[{\"type\":\"scattergl\",\"marker\":{\"colorbar\":{\"outlinewidth\":0,\"ticks\":\"\"}}}],\"scatter3d\":[{\"type\":\"scatter3d\",\"line\":{\"colorbar\":{\"outlinewidth\":0,\"ticks\":\"\"}},\"marker\":{\"colorbar\":{\"outlinewidth\":0,\"ticks\":\"\"}}}],\"scattermapbox\":[{\"type\":\"scattermapbox\",\"marker\":{\"colorbar\":{\"outlinewidth\":0,\"ticks\":\"\"}}}],\"scatterternary\":[{\"type\":\"scatterternary\",\"marker\":{\"colorbar\":{\"outlinewidth\":0,\"ticks\":\"\"}}}],\"scattercarpet\":[{\"type\":\"scattercarpet\",\"marker\":{\"colorbar\":{\"outlinewidth\":0,\"ticks\":\"\"}}}],\"carpet\":[{\"aaxis\":{\"endlinecolor\":\"#2a3f5f\",\"gridcolor\":\"white\",\"linecolor\":\"white\",\"minorgridcolor\":\"white\",\"startlinecolor\":\"#2a3f5f\"},\"baxis\":{\"endlinecolor\":\"#2a3f5f\",\"gridcolor\":\"white\",\"linecolor\":\"white\",\"minorgridcolor\":\"white\",\"startlinecolor\":\"#2a3f5f\"},\"type\":\"carpet\"}],\"table\":[{\"cells\":{\"fill\":{\"color\":\"#EBF0F8\"},\"line\":{\"color\":\"white\"}},\"header\":{\"fill\":{\"color\":\"#C8D4E3\"},\"line\":{\"color\":\"white\"}},\"type\":\"table\"}],\"barpolar\":[{\"marker\":{\"line\":{\"color\":\"#E5ECF6\",\"width\":0.5},\"pattern\":{\"fillmode\":\"overlay\",\"size\":10,\"solidity\":0.2}},\"type\":\"barpolar\"}],\"pie\":[{\"automargin\":true,\"type\":\"pie\"}]},\"layout\":{\"autotypenumbers\":\"strict\",\"colorway\":[\"#636efa\",\"#EF553B\",\"#00cc96\",\"#ab63fa\",\"#FFA15A\",\"#19d3f3\",\"#FF6692\",\"#B6E880\",\"#FF97FF\",\"#FECB52\"],\"font\":{\"color\":\"#2a3f5f\"},\"hovermode\":\"closest\",\"hoverlabel\":{\"align\":\"left\"},\"paper_bgcolor\":\"white\",\"plot_bgcolor\":\"#E5ECF6\",\"polar\":{\"bgcolor\":\"#E5ECF6\",\"angularaxis\":{\"gridcolor\":\"white\",\"linecolor\":\"white\",\"ticks\":\"\"},\"radialaxis\":{\"gridcolor\":\"white\",\"linecolor\":\"white\",\"ticks\":\"\"}},\"ternary\":{\"bgcolor\":\"#E5ECF6\",\"aaxis\":{\"gridcolor\":\"white\",\"linecolor\":\"white\",\"ticks\":\"\"},\"baxis\":{\"gridcolor\":\"white\",\"linecolor\":\"white\",\"ticks\":\"\"},\"caxis\":{\"gridcolor\":\"white\",\"linecolor\":\"white\",\"ticks\":\"\"}},\"coloraxis\":{\"colorbar\":{\"outlinewidth\":0,\"ticks\":\"\"}},\"colorscale\":{\"sequential\":[[0.0,\"#0d0887\"],[0.1111111111111111,\"#46039f\"],[0.2222222222222222,\"#7201a8\"],[0.3333333333333333,\"#9c179e\"],[0.4444444444444444,\"#bd3786\"],[0.5555555555555556,\"#d8576b\"],[0.6666666666666666,\"#ed7953\"],[0.7777777777777778,\"#fb9f3a\"],[0.8888888888888888,\"#fdca26\"],[1.0,\"#f0f921\"]],\"sequentialminus\":[[0.0,\"#0d0887\"],[0.1111111111111111,\"#46039f\"],[0.2222222222222222,\"#7201a8\"],[0.3333333333333333,\"#9c179e\"],[0.4444444444444444,\"#bd3786\"],[0.5555555555555556,\"#d8576b\"],[0.6666666666666666,\"#ed7953\"],[0.7777777777777778,\"#fb9f3a\"],[0.8888888888888888,\"#fdca26\"],[1.0,\"#f0f921\"]],\"diverging\":[[0,\"#8e0152\"],[0.1,\"#c51b7d\"],[0.2,\"#de77ae\"],[0.3,\"#f1b6da\"],[0.4,\"#fde0ef\"],[0.5,\"#f7f7f7\"],[0.6,\"#e6f5d0\"],[0.7,\"#b8e186\"],[0.8,\"#7fbc41\"],[0.9,\"#4d9221\"],[1,\"#276419\"]]},\"xaxis\":{\"gridcolor\":\"white\",\"linecolor\":\"white\",\"ticks\":\"\",\"title\":{\"standoff\":15},\"zerolinecolor\":\"white\",\"automargin\":true,\"zerolinewidth\":2},\"yaxis\":{\"gridcolor\":\"white\",\"linecolor\":\"white\",\"ticks\":\"\",\"title\":{\"standoff\":15},\"zerolinecolor\":\"white\",\"automargin\":true,\"zerolinewidth\":2},\"scene\":{\"xaxis\":{\"backgroundcolor\":\"#E5ECF6\",\"gridcolor\":\"white\",\"linecolor\":\"white\",\"showbackground\":true,\"ticks\":\"\",\"zerolinecolor\":\"white\",\"gridwidth\":2},\"yaxis\":{\"backgroundcolor\":\"#E5ECF6\",\"gridcolor\":\"white\",\"linecolor\":\"white\",\"showbackground\":true,\"ticks\":\"\",\"zerolinecolor\":\"white\",\"gridwidth\":2},\"zaxis\":{\"backgroundcolor\":\"#E5ECF6\",\"gridcolor\":\"white\",\"linecolor\":\"white\",\"showbackground\":true,\"ticks\":\"\",\"zerolinecolor\":\"white\",\"gridwidth\":2}},\"shapedefaults\":{\"line\":{\"color\":\"#2a3f5f\"}},\"annotationdefaults\":{\"arrowcolor\":\"#2a3f5f\",\"arrowhead\":0,\"arrowwidth\":1},\"geo\":{\"bgcolor\":\"white\",\"landcolor\":\"#E5ECF6\",\"subunitcolor\":\"white\",\"showland\":true,\"showlakes\":true,\"lakecolor\":\"white\"},\"title\":{\"x\":0.05},\"mapbox\":{\"style\":\"light\"}}},\"xaxis\":{\"anchor\":\"y\",\"domain\":[0.0,1.0],\"title\":{\"text\":\"mean-mean sobel edges 3.51-6.83 cm depth\"},\"showgrid\":true,\"gridcolor\":\"lightgray\"},\"yaxis\":{\"anchor\":\"x\",\"domain\":[0.0,1.0],\"title\":{\"text\":\"mean-mean kurtosis 6.83-10.14 cm depth\"},\"showgrid\":true,\"gridcolor\":\"lightgray\"},\"legend\":{\"title\":{\"text\":\"color, symbol\"},\"tracegroupgap\":0,\"itemsizing\":\"constant\"},\"margin\":{\"t\":60},\"title\":{\"text\":\"Sample features\"},\"plot_bgcolor\":\"white\"},                        {\"responsive\": true}                    ).then(function(){\n",
       "                            \n",
       "var gd = document.getElementById('eda70c3b-b9b0-48eb-ac56-6b3b4a0783b2');\n",
       "var x = new MutationObserver(function (mutations, observer) {{\n",
       "        var display = window.getComputedStyle(gd).display;\n",
       "        if (!display || display === 'none') {{\n",
       "            console.log([gd, 'removed!']);\n",
       "            Plotly.purge(gd);\n",
       "            observer.disconnect();\n",
       "        }}\n",
       "}});\n",
       "\n",
       "// Listen for the removal of the full notebook cells\n",
       "var notebookContainer = gd.closest('#notebook-container');\n",
       "if (notebookContainer) {{\n",
       "    x.observe(notebookContainer, {childList: true});\n",
       "}}\n",
       "\n",
       "// Listen for the clearing of the current output cell\n",
       "var outputEl = gd.closest('.output');\n",
       "if (outputEl) {{\n",
       "    x.observe(outputEl, {childList: true});\n",
       "}}\n",
       "\n",
       "                        })                };                });            </script>        </div>"
      ]
     },
     "metadata": {},
     "output_type": "display_data"
    }
   ],
   "source": [
    "Xall = X.copy();\n",
    "Xall['tsne_1'] = X_tsne[:, 0]\n",
    "Xall['tsne_2'] = X_tsne[:, 1]\n",
    "correlation_matrix = Xall.corr()\n",
    "\n",
    "# Sort the correlations in descending order to find the most influential variables for tsne_1\n",
    "sorted_correlation_tsne_1 = correlation_matrix['tsne_1'].sort_values(ascending=False)\n",
    "\n",
    "# Sort the correlations in descending order to find the most influential variables for tsne_2\n",
    "sorted_correlation_tsne_2 = correlation_matrix['tsne_2'].sort_values(ascending=False)\n",
    "\n",
    "# Print the sorted correlations\n",
    "print(\"Most influential variables for tsne_1:\")\n",
    "print(sorted_correlation_tsne_1)\n",
    "\n",
    "print(\"\\nMost influential variables for tsne_2:\")\n",
    "print(sorted_correlation_tsne_2)\n",
    "\n",
    "# Plot sample features \n",
    "fig = px.scatter(x=X['edge_mean_mean_3.51'], y=X['kurt_mean_mean_6.824999999999999'], color=yt, size=np.full(len(X_tsne), 1),size_max=15,symbol=yf,symbol_sequence=custom_symbols)\n",
    "fig.update_layout(\n",
    "    title=\"Sample features\",\n",
    "    xaxis_title=\"mean-mean sobel edges 3.51-6.83 cm depth\",\n",
    "    yaxis_title=\"mean-mean kurtosis 6.83-10.14 cm depth\",\n",
    "    xaxis=dict(showgrid=True, gridcolor='lightgray'),  # Customize x-axis grid lines\n",
    "    yaxis=dict(showgrid=True, gridcolor='lightgray'),  # Customize y-axis grid lines\n",
    "    plot_bgcolor='white'  # Set the background color to white \n",
    ")\n",
    "fig.update_traces(marker=dict(opacity=1, line=dict(width=1)))\n",
    "fig.show()"
   ]
  },
  {
   "cell_type": "markdown",
   "id": "1c6c6f8f",
   "metadata": {},
   "source": [
    "**PCA:** While the t-SNE was chosen over PCA given the slight non-linearity of the data, PCA can produce similar clustering on decomposition:"
   ]
  },
  {
   "cell_type": "code",
   "execution_count": 52,
   "id": "824b636c",
   "metadata": {},
   "outputs": [
    {
     "data": {
      "application/vnd.plotly.v1+json": {
       "config": {
        "plotlyServerURL": "https://plot.ly"
       },
       "data": [
        {
         "hovertemplate": "color=NP<br>symbol=NP<br>x=%{x}<br>y=%{y}<br>size=%{marker.size}<extra></extra>",
         "legendgroup": "NP, NP",
         "marker": {
          "color": "#636efa",
          "line": {
           "width": 1
          },
          "opacity": 1,
          "size": [
           1,
           1,
           1,
           1,
           1,
           1
          ],
          "sizemode": "area",
          "sizeref": 0.0044444444444444444,
          "symbol": "circle"
         },
         "mode": "markers",
         "name": "NP, NP",
         "orientation": "v",
         "showlegend": true,
         "type": "scatter",
         "x": [
          3.31897370340076,
          2.660342560118444,
          2.1622482918196004,
          4.278916430836446,
          2.3748509094019763,
          4.876120633059187
         ],
         "xaxis": "x",
         "y": [
          -1.566303638050752,
          -0.7955337306620843,
          -0.2562874446764096,
          -1.8626540313934998,
          -0.9457662551877024,
          -1.9525652923307726
         ],
         "yaxis": "y"
        },
        {
         "hovertemplate": "color=NT<br>symbol=HM<br>x=%{x}<br>y=%{y}<br>size=%{marker.size}<extra></extra>",
         "legendgroup": "NT, HM",
         "marker": {
          "color": "#EF553B",
          "line": {
           "width": 1
          },
          "opacity": 1,
          "size": [
           1,
           1,
           1,
           1,
           1,
           1,
           1,
           1,
           1,
           1,
           1,
           1
          ],
          "sizemode": "area",
          "sizeref": 0.0044444444444444444,
          "symbol": "square"
         },
         "mode": "markers",
         "name": "NT, HM",
         "orientation": "v",
         "showlegend": true,
         "type": "scatter",
         "x": [
          -0.41628240104275727,
          0.8537996605257339,
          0.28639816335267687,
          -0.858940243727458,
          0.46100022694053877,
          0.3932602966697759,
          -0.521154136190461,
          -0.0655723670195868,
          0.16295216023669182,
          0.2318330185981956,
          -0.19957991677895492,
          -1.5411695656690065
         ],
         "xaxis": "x",
         "y": [
          2.6287021908703867,
          2.6826394183840074,
          2.2936046569173727,
          1.6880493880201612,
          2.038768352599457,
          2.968478306812332,
          2.655538818114114,
          2.459156127259042,
          1.1201534182294488,
          1.8404381123783888,
          2.113144482016848,
          1.8835365011138696
         ],
         "yaxis": "y"
        },
        {
         "hovertemplate": "color=NT<br>symbol=HF<br>x=%{x}<br>y=%{y}<br>size=%{marker.size}<extra></extra>",
         "legendgroup": "NT, HF",
         "marker": {
          "color": "#EF553B",
          "line": {
           "width": 1
          },
          "opacity": 1,
          "size": [
           1,
           1,
           1,
           1,
           1,
           1,
           1,
           1,
           1,
           1,
           1,
           1
          ],
          "sizemode": "area",
          "sizeref": 0.0044444444444444444,
          "symbol": "cross"
         },
         "mode": "markers",
         "name": "NT, HF",
         "orientation": "v",
         "showlegend": true,
         "type": "scatter",
         "x": [
          -0.6585953313418268,
          -2.3889084355281027,
          0.28514649467729253,
          -1.3040736564672066,
          -1.178511869102714,
          -3.251320863546531,
          0.2088452879589673,
          -2.118732930481488,
          -1.7394309693579806,
          -2.083422187786773,
          -2.4706806851474488,
          -2.409826762473993
         ],
         "xaxis": "x",
         "y": [
          -0.28219368798371924,
          -1.4715928260880924,
          -0.6529178954514724,
          0.45917168593972907,
          0.5760135894948712,
          -1.2554078549233796,
          -2.5453803458863145,
          -1.6376222898022177,
          -2.0770557353517383,
          -2.0397986354870437,
          -0.5832268089580137,
          1.2916635919527777
         ],
         "yaxis": "y"
        },
        {
         "hovertemplate": "color=T<br>symbol=HM<br>x=%{x}<br>y=%{y}<br>size=%{marker.size}<extra></extra>",
         "legendgroup": "T, HM",
         "marker": {
          "color": "#00cc96",
          "line": {
           "width": 1
          },
          "opacity": 1,
          "size": [
           1,
           1,
           1,
           1,
           1,
           1,
           1,
           1,
           1,
           1,
           1,
           1
          ],
          "sizemode": "area",
          "sizeref": 0.0044444444444444444,
          "symbol": "square"
         },
         "mode": "markers",
         "name": "T, HM",
         "orientation": "v",
         "showlegend": true,
         "type": "scatter",
         "x": [
          -1.8567427810673927,
          0.570675479829627,
          0.193512378993747,
          2.325840297974436,
          1.4503367187283027,
          -0.6912237111911466,
          0.46054081777016004,
          4.058082688798694,
          1.6183988376268155,
          -0.13506309182719678,
          0.8363841257142592,
          0.07613491648753302
         ],
         "xaxis": "x",
         "y": [
          -0.05612340033136259,
          0.8378138678738428,
          0.7865522537718567,
          1.0821201505040505,
          0.446678809249171,
          0.9543201454066512,
          -0.48768800639893406,
          0.6125712731307822,
          0.173523153961982,
          0.06708953554989912,
          0.3149213705999385,
          1.6189238918677593
         ],
         "yaxis": "y"
        },
        {
         "hovertemplate": "color=T<br>symbol=HF<br>x=%{x}<br>y=%{y}<br>size=%{marker.size}<extra></extra>",
         "legendgroup": "T, HF",
         "marker": {
          "color": "#00cc96",
          "line": {
           "width": 1
          },
          "opacity": 1,
          "size": [
           1,
           1,
           1,
           1,
           1,
           1,
           1,
           1,
           1,
           1,
           1,
           1
          ],
          "sizemode": "area",
          "sizeref": 0.0044444444444444444,
          "symbol": "cross"
         },
         "mode": "markers",
         "name": "T, HF",
         "orientation": "v",
         "showlegend": true,
         "type": "scatter",
         "x": [
          -0.3711890447134967,
          -1.1051850140443904,
          -0.6235546675221557,
          -2.6980004711186143,
          -1.5435202949843636,
          -1.9582798671907427,
          1.9256203519208555,
          -0.028467416900788828,
          -0.833406435383834,
          -2.143565667082288,
          -0.95838674048097,
          2.082573073728956
         ],
         "xaxis": "x",
         "y": [
          -0.19164692827141372,
          0.5322815645880417,
          -1.3497404719349093,
          -2.1781428756171186,
          -2.182087770796595,
          -1.513989952178817,
          -2.2995441278738538,
          -2.5205867271889564,
          -0.8004715471964259,
          -1.3694272911430396,
          0.46822847601988454,
          -1.7203275614620288
         ],
         "yaxis": "y"
        }
       ],
       "layout": {
        "legend": {
         "itemsizing": "constant",
         "title": {
          "text": "color, symbol"
         },
         "tracegroupgap": 0
        },
        "margin": {
         "t": 60
        },
        "plot_bgcolor": "white",
        "template": {
         "data": {
          "bar": [
           {
            "error_x": {
             "color": "#2a3f5f"
            },
            "error_y": {
             "color": "#2a3f5f"
            },
            "marker": {
             "line": {
              "color": "#E5ECF6",
              "width": 0.5
             },
             "pattern": {
              "fillmode": "overlay",
              "size": 10,
              "solidity": 0.2
             }
            },
            "type": "bar"
           }
          ],
          "barpolar": [
           {
            "marker": {
             "line": {
              "color": "#E5ECF6",
              "width": 0.5
             },
             "pattern": {
              "fillmode": "overlay",
              "size": 10,
              "solidity": 0.2
             }
            },
            "type": "barpolar"
           }
          ],
          "carpet": [
           {
            "aaxis": {
             "endlinecolor": "#2a3f5f",
             "gridcolor": "white",
             "linecolor": "white",
             "minorgridcolor": "white",
             "startlinecolor": "#2a3f5f"
            },
            "baxis": {
             "endlinecolor": "#2a3f5f",
             "gridcolor": "white",
             "linecolor": "white",
             "minorgridcolor": "white",
             "startlinecolor": "#2a3f5f"
            },
            "type": "carpet"
           }
          ],
          "choropleth": [
           {
            "colorbar": {
             "outlinewidth": 0,
             "ticks": ""
            },
            "type": "choropleth"
           }
          ],
          "contour": [
           {
            "colorbar": {
             "outlinewidth": 0,
             "ticks": ""
            },
            "colorscale": [
             [
              0,
              "#0d0887"
             ],
             [
              0.1111111111111111,
              "#46039f"
             ],
             [
              0.2222222222222222,
              "#7201a8"
             ],
             [
              0.3333333333333333,
              "#9c179e"
             ],
             [
              0.4444444444444444,
              "#bd3786"
             ],
             [
              0.5555555555555556,
              "#d8576b"
             ],
             [
              0.6666666666666666,
              "#ed7953"
             ],
             [
              0.7777777777777778,
              "#fb9f3a"
             ],
             [
              0.8888888888888888,
              "#fdca26"
             ],
             [
              1,
              "#f0f921"
             ]
            ],
            "type": "contour"
           }
          ],
          "contourcarpet": [
           {
            "colorbar": {
             "outlinewidth": 0,
             "ticks": ""
            },
            "type": "contourcarpet"
           }
          ],
          "heatmap": [
           {
            "colorbar": {
             "outlinewidth": 0,
             "ticks": ""
            },
            "colorscale": [
             [
              0,
              "#0d0887"
             ],
             [
              0.1111111111111111,
              "#46039f"
             ],
             [
              0.2222222222222222,
              "#7201a8"
             ],
             [
              0.3333333333333333,
              "#9c179e"
             ],
             [
              0.4444444444444444,
              "#bd3786"
             ],
             [
              0.5555555555555556,
              "#d8576b"
             ],
             [
              0.6666666666666666,
              "#ed7953"
             ],
             [
              0.7777777777777778,
              "#fb9f3a"
             ],
             [
              0.8888888888888888,
              "#fdca26"
             ],
             [
              1,
              "#f0f921"
             ]
            ],
            "type": "heatmap"
           }
          ],
          "heatmapgl": [
           {
            "colorbar": {
             "outlinewidth": 0,
             "ticks": ""
            },
            "colorscale": [
             [
              0,
              "#0d0887"
             ],
             [
              0.1111111111111111,
              "#46039f"
             ],
             [
              0.2222222222222222,
              "#7201a8"
             ],
             [
              0.3333333333333333,
              "#9c179e"
             ],
             [
              0.4444444444444444,
              "#bd3786"
             ],
             [
              0.5555555555555556,
              "#d8576b"
             ],
             [
              0.6666666666666666,
              "#ed7953"
             ],
             [
              0.7777777777777778,
              "#fb9f3a"
             ],
             [
              0.8888888888888888,
              "#fdca26"
             ],
             [
              1,
              "#f0f921"
             ]
            ],
            "type": "heatmapgl"
           }
          ],
          "histogram": [
           {
            "marker": {
             "pattern": {
              "fillmode": "overlay",
              "size": 10,
              "solidity": 0.2
             }
            },
            "type": "histogram"
           }
          ],
          "histogram2d": [
           {
            "colorbar": {
             "outlinewidth": 0,
             "ticks": ""
            },
            "colorscale": [
             [
              0,
              "#0d0887"
             ],
             [
              0.1111111111111111,
              "#46039f"
             ],
             [
              0.2222222222222222,
              "#7201a8"
             ],
             [
              0.3333333333333333,
              "#9c179e"
             ],
             [
              0.4444444444444444,
              "#bd3786"
             ],
             [
              0.5555555555555556,
              "#d8576b"
             ],
             [
              0.6666666666666666,
              "#ed7953"
             ],
             [
              0.7777777777777778,
              "#fb9f3a"
             ],
             [
              0.8888888888888888,
              "#fdca26"
             ],
             [
              1,
              "#f0f921"
             ]
            ],
            "type": "histogram2d"
           }
          ],
          "histogram2dcontour": [
           {
            "colorbar": {
             "outlinewidth": 0,
             "ticks": ""
            },
            "colorscale": [
             [
              0,
              "#0d0887"
             ],
             [
              0.1111111111111111,
              "#46039f"
             ],
             [
              0.2222222222222222,
              "#7201a8"
             ],
             [
              0.3333333333333333,
              "#9c179e"
             ],
             [
              0.4444444444444444,
              "#bd3786"
             ],
             [
              0.5555555555555556,
              "#d8576b"
             ],
             [
              0.6666666666666666,
              "#ed7953"
             ],
             [
              0.7777777777777778,
              "#fb9f3a"
             ],
             [
              0.8888888888888888,
              "#fdca26"
             ],
             [
              1,
              "#f0f921"
             ]
            ],
            "type": "histogram2dcontour"
           }
          ],
          "mesh3d": [
           {
            "colorbar": {
             "outlinewidth": 0,
             "ticks": ""
            },
            "type": "mesh3d"
           }
          ],
          "parcoords": [
           {
            "line": {
             "colorbar": {
              "outlinewidth": 0,
              "ticks": ""
             }
            },
            "type": "parcoords"
           }
          ],
          "pie": [
           {
            "automargin": true,
            "type": "pie"
           }
          ],
          "scatter": [
           {
            "fillpattern": {
             "fillmode": "overlay",
             "size": 10,
             "solidity": 0.2
            },
            "type": "scatter"
           }
          ],
          "scatter3d": [
           {
            "line": {
             "colorbar": {
              "outlinewidth": 0,
              "ticks": ""
             }
            },
            "marker": {
             "colorbar": {
              "outlinewidth": 0,
              "ticks": ""
             }
            },
            "type": "scatter3d"
           }
          ],
          "scattercarpet": [
           {
            "marker": {
             "colorbar": {
              "outlinewidth": 0,
              "ticks": ""
             }
            },
            "type": "scattercarpet"
           }
          ],
          "scattergeo": [
           {
            "marker": {
             "colorbar": {
              "outlinewidth": 0,
              "ticks": ""
             }
            },
            "type": "scattergeo"
           }
          ],
          "scattergl": [
           {
            "marker": {
             "colorbar": {
              "outlinewidth": 0,
              "ticks": ""
             }
            },
            "type": "scattergl"
           }
          ],
          "scattermapbox": [
           {
            "marker": {
             "colorbar": {
              "outlinewidth": 0,
              "ticks": ""
             }
            },
            "type": "scattermapbox"
           }
          ],
          "scatterpolar": [
           {
            "marker": {
             "colorbar": {
              "outlinewidth": 0,
              "ticks": ""
             }
            },
            "type": "scatterpolar"
           }
          ],
          "scatterpolargl": [
           {
            "marker": {
             "colorbar": {
              "outlinewidth": 0,
              "ticks": ""
             }
            },
            "type": "scatterpolargl"
           }
          ],
          "scatterternary": [
           {
            "marker": {
             "colorbar": {
              "outlinewidth": 0,
              "ticks": ""
             }
            },
            "type": "scatterternary"
           }
          ],
          "surface": [
           {
            "colorbar": {
             "outlinewidth": 0,
             "ticks": ""
            },
            "colorscale": [
             [
              0,
              "#0d0887"
             ],
             [
              0.1111111111111111,
              "#46039f"
             ],
             [
              0.2222222222222222,
              "#7201a8"
             ],
             [
              0.3333333333333333,
              "#9c179e"
             ],
             [
              0.4444444444444444,
              "#bd3786"
             ],
             [
              0.5555555555555556,
              "#d8576b"
             ],
             [
              0.6666666666666666,
              "#ed7953"
             ],
             [
              0.7777777777777778,
              "#fb9f3a"
             ],
             [
              0.8888888888888888,
              "#fdca26"
             ],
             [
              1,
              "#f0f921"
             ]
            ],
            "type": "surface"
           }
          ],
          "table": [
           {
            "cells": {
             "fill": {
              "color": "#EBF0F8"
             },
             "line": {
              "color": "white"
             }
            },
            "header": {
             "fill": {
              "color": "#C8D4E3"
             },
             "line": {
              "color": "white"
             }
            },
            "type": "table"
           }
          ]
         },
         "layout": {
          "annotationdefaults": {
           "arrowcolor": "#2a3f5f",
           "arrowhead": 0,
           "arrowwidth": 1
          },
          "autotypenumbers": "strict",
          "coloraxis": {
           "colorbar": {
            "outlinewidth": 0,
            "ticks": ""
           }
          },
          "colorscale": {
           "diverging": [
            [
             0,
             "#8e0152"
            ],
            [
             0.1,
             "#c51b7d"
            ],
            [
             0.2,
             "#de77ae"
            ],
            [
             0.3,
             "#f1b6da"
            ],
            [
             0.4,
             "#fde0ef"
            ],
            [
             0.5,
             "#f7f7f7"
            ],
            [
             0.6,
             "#e6f5d0"
            ],
            [
             0.7,
             "#b8e186"
            ],
            [
             0.8,
             "#7fbc41"
            ],
            [
             0.9,
             "#4d9221"
            ],
            [
             1,
             "#276419"
            ]
           ],
           "sequential": [
            [
             0,
             "#0d0887"
            ],
            [
             0.1111111111111111,
             "#46039f"
            ],
            [
             0.2222222222222222,
             "#7201a8"
            ],
            [
             0.3333333333333333,
             "#9c179e"
            ],
            [
             0.4444444444444444,
             "#bd3786"
            ],
            [
             0.5555555555555556,
             "#d8576b"
            ],
            [
             0.6666666666666666,
             "#ed7953"
            ],
            [
             0.7777777777777778,
             "#fb9f3a"
            ],
            [
             0.8888888888888888,
             "#fdca26"
            ],
            [
             1,
             "#f0f921"
            ]
           ],
           "sequentialminus": [
            [
             0,
             "#0d0887"
            ],
            [
             0.1111111111111111,
             "#46039f"
            ],
            [
             0.2222222222222222,
             "#7201a8"
            ],
            [
             0.3333333333333333,
             "#9c179e"
            ],
            [
             0.4444444444444444,
             "#bd3786"
            ],
            [
             0.5555555555555556,
             "#d8576b"
            ],
            [
             0.6666666666666666,
             "#ed7953"
            ],
            [
             0.7777777777777778,
             "#fb9f3a"
            ],
            [
             0.8888888888888888,
             "#fdca26"
            ],
            [
             1,
             "#f0f921"
            ]
           ]
          },
          "colorway": [
           "#636efa",
           "#EF553B",
           "#00cc96",
           "#ab63fa",
           "#FFA15A",
           "#19d3f3",
           "#FF6692",
           "#B6E880",
           "#FF97FF",
           "#FECB52"
          ],
          "font": {
           "color": "#2a3f5f"
          },
          "geo": {
           "bgcolor": "white",
           "lakecolor": "white",
           "landcolor": "#E5ECF6",
           "showlakes": true,
           "showland": true,
           "subunitcolor": "white"
          },
          "hoverlabel": {
           "align": "left"
          },
          "hovermode": "closest",
          "mapbox": {
           "style": "light"
          },
          "paper_bgcolor": "white",
          "plot_bgcolor": "#E5ECF6",
          "polar": {
           "angularaxis": {
            "gridcolor": "white",
            "linecolor": "white",
            "ticks": ""
           },
           "bgcolor": "#E5ECF6",
           "radialaxis": {
            "gridcolor": "white",
            "linecolor": "white",
            "ticks": ""
           }
          },
          "scene": {
           "xaxis": {
            "backgroundcolor": "#E5ECF6",
            "gridcolor": "white",
            "gridwidth": 2,
            "linecolor": "white",
            "showbackground": true,
            "ticks": "",
            "zerolinecolor": "white"
           },
           "yaxis": {
            "backgroundcolor": "#E5ECF6",
            "gridcolor": "white",
            "gridwidth": 2,
            "linecolor": "white",
            "showbackground": true,
            "ticks": "",
            "zerolinecolor": "white"
           },
           "zaxis": {
            "backgroundcolor": "#E5ECF6",
            "gridcolor": "white",
            "gridwidth": 2,
            "linecolor": "white",
            "showbackground": true,
            "ticks": "",
            "zerolinecolor": "white"
           }
          },
          "shapedefaults": {
           "line": {
            "color": "#2a3f5f"
           }
          },
          "ternary": {
           "aaxis": {
            "gridcolor": "white",
            "linecolor": "white",
            "ticks": ""
           },
           "baxis": {
            "gridcolor": "white",
            "linecolor": "white",
            "ticks": ""
           },
           "bgcolor": "#E5ECF6",
           "caxis": {
            "gridcolor": "white",
            "linecolor": "white",
            "ticks": ""
           }
          },
          "title": {
           "x": 0.05
          },
          "xaxis": {
           "automargin": true,
           "gridcolor": "white",
           "linecolor": "white",
           "ticks": "",
           "title": {
            "standoff": 15
           },
           "zerolinecolor": "white",
           "zerolinewidth": 2
          },
          "yaxis": {
           "automargin": true,
           "gridcolor": "white",
           "linecolor": "white",
           "ticks": "",
           "title": {
            "standoff": 15
           },
           "zerolinecolor": "white",
           "zerolinewidth": 2
          }
         }
        },
        "title": {
         "text": "PCA visualization of x-ray stats by tillage and fertilizer"
        },
        "xaxis": {
         "anchor": "y",
         "domain": [
          0,
          1
         ],
         "gridcolor": "lightgray",
         "showgrid": true,
         "title": {
          "text": "First pca"
         }
        },
        "yaxis": {
         "anchor": "x",
         "domain": [
          0,
          1
         ],
         "gridcolor": "lightgray",
         "showgrid": true,
         "title": {
          "text": "Second pca"
         }
        }
       }
      },
      "text/html": [
       "<div>                            <div id=\"b6c07dee-a29a-4e42-bf50-39ccb2b31f3b\" class=\"plotly-graph-div\" style=\"height:525px; width:100%;\"></div>            <script type=\"text/javascript\">                require([\"plotly\"], function(Plotly) {                    window.PLOTLYENV=window.PLOTLYENV || {};                                    if (document.getElementById(\"b6c07dee-a29a-4e42-bf50-39ccb2b31f3b\")) {                    Plotly.newPlot(                        \"b6c07dee-a29a-4e42-bf50-39ccb2b31f3b\",                        [{\"hovertemplate\":\"color=NP<br>symbol=NP<br>x=%{x}<br>y=%{y}<br>size=%{marker.size}<extra></extra>\",\"legendgroup\":\"NP, NP\",\"marker\":{\"color\":\"#636efa\",\"size\":[1,1,1,1,1,1],\"sizemode\":\"area\",\"sizeref\":0.0044444444444444444,\"symbol\":\"circle\",\"line\":{\"width\":1},\"opacity\":1},\"mode\":\"markers\",\"name\":\"NP, NP\",\"orientation\":\"v\",\"showlegend\":true,\"x\":[3.31897370340076,2.660342560118444,2.1622482918196004,4.278916430836446,2.3748509094019763,4.876120633059187],\"xaxis\":\"x\",\"y\":[-1.566303638050752,-0.7955337306620843,-0.2562874446764096,-1.8626540313934998,-0.9457662551877024,-1.9525652923307726],\"yaxis\":\"y\",\"type\":\"scatter\"},{\"hovertemplate\":\"color=NT<br>symbol=HM<br>x=%{x}<br>y=%{y}<br>size=%{marker.size}<extra></extra>\",\"legendgroup\":\"NT, HM\",\"marker\":{\"color\":\"#EF553B\",\"size\":[1,1,1,1,1,1,1,1,1,1,1,1],\"sizemode\":\"area\",\"sizeref\":0.0044444444444444444,\"symbol\":\"square\",\"line\":{\"width\":1},\"opacity\":1},\"mode\":\"markers\",\"name\":\"NT, HM\",\"orientation\":\"v\",\"showlegend\":true,\"x\":[-0.41628240104275727,0.8537996605257339,0.28639816335267687,-0.858940243727458,0.46100022694053877,0.3932602966697759,-0.521154136190461,-0.0655723670195868,0.16295216023669182,0.2318330185981956,-0.19957991677895492,-1.5411695656690065],\"xaxis\":\"x\",\"y\":[2.6287021908703867,2.6826394183840074,2.2936046569173727,1.6880493880201612,2.038768352599457,2.968478306812332,2.655538818114114,2.459156127259042,1.1201534182294488,1.8404381123783888,2.113144482016848,1.8835365011138696],\"yaxis\":\"y\",\"type\":\"scatter\"},{\"hovertemplate\":\"color=NT<br>symbol=HF<br>x=%{x}<br>y=%{y}<br>size=%{marker.size}<extra></extra>\",\"legendgroup\":\"NT, HF\",\"marker\":{\"color\":\"#EF553B\",\"size\":[1,1,1,1,1,1,1,1,1,1,1,1],\"sizemode\":\"area\",\"sizeref\":0.0044444444444444444,\"symbol\":\"cross\",\"line\":{\"width\":1},\"opacity\":1},\"mode\":\"markers\",\"name\":\"NT, HF\",\"orientation\":\"v\",\"showlegend\":true,\"x\":[-0.6585953313418268,-2.3889084355281027,0.28514649467729253,-1.3040736564672066,-1.178511869102714,-3.251320863546531,0.2088452879589673,-2.118732930481488,-1.7394309693579806,-2.083422187786773,-2.4706806851474488,-2.409826762473993],\"xaxis\":\"x\",\"y\":[-0.28219368798371924,-1.4715928260880924,-0.6529178954514724,0.45917168593972907,0.5760135894948712,-1.2554078549233796,-2.5453803458863145,-1.6376222898022177,-2.0770557353517383,-2.0397986354870437,-0.5832268089580137,1.2916635919527777],\"yaxis\":\"y\",\"type\":\"scatter\"},{\"hovertemplate\":\"color=T<br>symbol=HM<br>x=%{x}<br>y=%{y}<br>size=%{marker.size}<extra></extra>\",\"legendgroup\":\"T, HM\",\"marker\":{\"color\":\"#00cc96\",\"size\":[1,1,1,1,1,1,1,1,1,1,1,1],\"sizemode\":\"area\",\"sizeref\":0.0044444444444444444,\"symbol\":\"square\",\"line\":{\"width\":1},\"opacity\":1},\"mode\":\"markers\",\"name\":\"T, HM\",\"orientation\":\"v\",\"showlegend\":true,\"x\":[-1.8567427810673927,0.570675479829627,0.193512378993747,2.325840297974436,1.4503367187283027,-0.6912237111911466,0.46054081777016004,4.058082688798694,1.6183988376268155,-0.13506309182719678,0.8363841257142592,0.07613491648753302],\"xaxis\":\"x\",\"y\":[-0.05612340033136259,0.8378138678738428,0.7865522537718567,1.0821201505040505,0.446678809249171,0.9543201454066512,-0.48768800639893406,0.6125712731307822,0.173523153961982,0.06708953554989912,0.3149213705999385,1.6189238918677593],\"yaxis\":\"y\",\"type\":\"scatter\"},{\"hovertemplate\":\"color=T<br>symbol=HF<br>x=%{x}<br>y=%{y}<br>size=%{marker.size}<extra></extra>\",\"legendgroup\":\"T, HF\",\"marker\":{\"color\":\"#00cc96\",\"size\":[1,1,1,1,1,1,1,1,1,1,1,1],\"sizemode\":\"area\",\"sizeref\":0.0044444444444444444,\"symbol\":\"cross\",\"line\":{\"width\":1},\"opacity\":1},\"mode\":\"markers\",\"name\":\"T, HF\",\"orientation\":\"v\",\"showlegend\":true,\"x\":[-0.3711890447134967,-1.1051850140443904,-0.6235546675221557,-2.6980004711186143,-1.5435202949843636,-1.9582798671907427,1.9256203519208555,-0.028467416900788828,-0.833406435383834,-2.143565667082288,-0.95838674048097,2.082573073728956],\"xaxis\":\"x\",\"y\":[-0.19164692827141372,0.5322815645880417,-1.3497404719349093,-2.1781428756171186,-2.182087770796595,-1.513989952178817,-2.2995441278738538,-2.5205867271889564,-0.8004715471964259,-1.3694272911430396,0.46822847601988454,-1.7203275614620288],\"yaxis\":\"y\",\"type\":\"scatter\"}],                        {\"template\":{\"data\":{\"histogram2dcontour\":[{\"type\":\"histogram2dcontour\",\"colorbar\":{\"outlinewidth\":0,\"ticks\":\"\"},\"colorscale\":[[0.0,\"#0d0887\"],[0.1111111111111111,\"#46039f\"],[0.2222222222222222,\"#7201a8\"],[0.3333333333333333,\"#9c179e\"],[0.4444444444444444,\"#bd3786\"],[0.5555555555555556,\"#d8576b\"],[0.6666666666666666,\"#ed7953\"],[0.7777777777777778,\"#fb9f3a\"],[0.8888888888888888,\"#fdca26\"],[1.0,\"#f0f921\"]]}],\"choropleth\":[{\"type\":\"choropleth\",\"colorbar\":{\"outlinewidth\":0,\"ticks\":\"\"}}],\"histogram2d\":[{\"type\":\"histogram2d\",\"colorbar\":{\"outlinewidth\":0,\"ticks\":\"\"},\"colorscale\":[[0.0,\"#0d0887\"],[0.1111111111111111,\"#46039f\"],[0.2222222222222222,\"#7201a8\"],[0.3333333333333333,\"#9c179e\"],[0.4444444444444444,\"#bd3786\"],[0.5555555555555556,\"#d8576b\"],[0.6666666666666666,\"#ed7953\"],[0.7777777777777778,\"#fb9f3a\"],[0.8888888888888888,\"#fdca26\"],[1.0,\"#f0f921\"]]}],\"heatmap\":[{\"type\":\"heatmap\",\"colorbar\":{\"outlinewidth\":0,\"ticks\":\"\"},\"colorscale\":[[0.0,\"#0d0887\"],[0.1111111111111111,\"#46039f\"],[0.2222222222222222,\"#7201a8\"],[0.3333333333333333,\"#9c179e\"],[0.4444444444444444,\"#bd3786\"],[0.5555555555555556,\"#d8576b\"],[0.6666666666666666,\"#ed7953\"],[0.7777777777777778,\"#fb9f3a\"],[0.8888888888888888,\"#fdca26\"],[1.0,\"#f0f921\"]]}],\"heatmapgl\":[{\"type\":\"heatmapgl\",\"colorbar\":{\"outlinewidth\":0,\"ticks\":\"\"},\"colorscale\":[[0.0,\"#0d0887\"],[0.1111111111111111,\"#46039f\"],[0.2222222222222222,\"#7201a8\"],[0.3333333333333333,\"#9c179e\"],[0.4444444444444444,\"#bd3786\"],[0.5555555555555556,\"#d8576b\"],[0.6666666666666666,\"#ed7953\"],[0.7777777777777778,\"#fb9f3a\"],[0.8888888888888888,\"#fdca26\"],[1.0,\"#f0f921\"]]}],\"contourcarpet\":[{\"type\":\"contourcarpet\",\"colorbar\":{\"outlinewidth\":0,\"ticks\":\"\"}}],\"contour\":[{\"type\":\"contour\",\"colorbar\":{\"outlinewidth\":0,\"ticks\":\"\"},\"colorscale\":[[0.0,\"#0d0887\"],[0.1111111111111111,\"#46039f\"],[0.2222222222222222,\"#7201a8\"],[0.3333333333333333,\"#9c179e\"],[0.4444444444444444,\"#bd3786\"],[0.5555555555555556,\"#d8576b\"],[0.6666666666666666,\"#ed7953\"],[0.7777777777777778,\"#fb9f3a\"],[0.8888888888888888,\"#fdca26\"],[1.0,\"#f0f921\"]]}],\"surface\":[{\"type\":\"surface\",\"colorbar\":{\"outlinewidth\":0,\"ticks\":\"\"},\"colorscale\":[[0.0,\"#0d0887\"],[0.1111111111111111,\"#46039f\"],[0.2222222222222222,\"#7201a8\"],[0.3333333333333333,\"#9c179e\"],[0.4444444444444444,\"#bd3786\"],[0.5555555555555556,\"#d8576b\"],[0.6666666666666666,\"#ed7953\"],[0.7777777777777778,\"#fb9f3a\"],[0.8888888888888888,\"#fdca26\"],[1.0,\"#f0f921\"]]}],\"mesh3d\":[{\"type\":\"mesh3d\",\"colorbar\":{\"outlinewidth\":0,\"ticks\":\"\"}}],\"scatter\":[{\"fillpattern\":{\"fillmode\":\"overlay\",\"size\":10,\"solidity\":0.2},\"type\":\"scatter\"}],\"parcoords\":[{\"type\":\"parcoords\",\"line\":{\"colorbar\":{\"outlinewidth\":0,\"ticks\":\"\"}}}],\"scatterpolargl\":[{\"type\":\"scatterpolargl\",\"marker\":{\"colorbar\":{\"outlinewidth\":0,\"ticks\":\"\"}}}],\"bar\":[{\"error_x\":{\"color\":\"#2a3f5f\"},\"error_y\":{\"color\":\"#2a3f5f\"},\"marker\":{\"line\":{\"color\":\"#E5ECF6\",\"width\":0.5},\"pattern\":{\"fillmode\":\"overlay\",\"size\":10,\"solidity\":0.2}},\"type\":\"bar\"}],\"scattergeo\":[{\"type\":\"scattergeo\",\"marker\":{\"colorbar\":{\"outlinewidth\":0,\"ticks\":\"\"}}}],\"scatterpolar\":[{\"type\":\"scatterpolar\",\"marker\":{\"colorbar\":{\"outlinewidth\":0,\"ticks\":\"\"}}}],\"histogram\":[{\"marker\":{\"pattern\":{\"fillmode\":\"overlay\",\"size\":10,\"solidity\":0.2}},\"type\":\"histogram\"}],\"scattergl\":[{\"type\":\"scattergl\",\"marker\":{\"colorbar\":{\"outlinewidth\":0,\"ticks\":\"\"}}}],\"scatter3d\":[{\"type\":\"scatter3d\",\"line\":{\"colorbar\":{\"outlinewidth\":0,\"ticks\":\"\"}},\"marker\":{\"colorbar\":{\"outlinewidth\":0,\"ticks\":\"\"}}}],\"scattermapbox\":[{\"type\":\"scattermapbox\",\"marker\":{\"colorbar\":{\"outlinewidth\":0,\"ticks\":\"\"}}}],\"scatterternary\":[{\"type\":\"scatterternary\",\"marker\":{\"colorbar\":{\"outlinewidth\":0,\"ticks\":\"\"}}}],\"scattercarpet\":[{\"type\":\"scattercarpet\",\"marker\":{\"colorbar\":{\"outlinewidth\":0,\"ticks\":\"\"}}}],\"carpet\":[{\"aaxis\":{\"endlinecolor\":\"#2a3f5f\",\"gridcolor\":\"white\",\"linecolor\":\"white\",\"minorgridcolor\":\"white\",\"startlinecolor\":\"#2a3f5f\"},\"baxis\":{\"endlinecolor\":\"#2a3f5f\",\"gridcolor\":\"white\",\"linecolor\":\"white\",\"minorgridcolor\":\"white\",\"startlinecolor\":\"#2a3f5f\"},\"type\":\"carpet\"}],\"table\":[{\"cells\":{\"fill\":{\"color\":\"#EBF0F8\"},\"line\":{\"color\":\"white\"}},\"header\":{\"fill\":{\"color\":\"#C8D4E3\"},\"line\":{\"color\":\"white\"}},\"type\":\"table\"}],\"barpolar\":[{\"marker\":{\"line\":{\"color\":\"#E5ECF6\",\"width\":0.5},\"pattern\":{\"fillmode\":\"overlay\",\"size\":10,\"solidity\":0.2}},\"type\":\"barpolar\"}],\"pie\":[{\"automargin\":true,\"type\":\"pie\"}]},\"layout\":{\"autotypenumbers\":\"strict\",\"colorway\":[\"#636efa\",\"#EF553B\",\"#00cc96\",\"#ab63fa\",\"#FFA15A\",\"#19d3f3\",\"#FF6692\",\"#B6E880\",\"#FF97FF\",\"#FECB52\"],\"font\":{\"color\":\"#2a3f5f\"},\"hovermode\":\"closest\",\"hoverlabel\":{\"align\":\"left\"},\"paper_bgcolor\":\"white\",\"plot_bgcolor\":\"#E5ECF6\",\"polar\":{\"bgcolor\":\"#E5ECF6\",\"angularaxis\":{\"gridcolor\":\"white\",\"linecolor\":\"white\",\"ticks\":\"\"},\"radialaxis\":{\"gridcolor\":\"white\",\"linecolor\":\"white\",\"ticks\":\"\"}},\"ternary\":{\"bgcolor\":\"#E5ECF6\",\"aaxis\":{\"gridcolor\":\"white\",\"linecolor\":\"white\",\"ticks\":\"\"},\"baxis\":{\"gridcolor\":\"white\",\"linecolor\":\"white\",\"ticks\":\"\"},\"caxis\":{\"gridcolor\":\"white\",\"linecolor\":\"white\",\"ticks\":\"\"}},\"coloraxis\":{\"colorbar\":{\"outlinewidth\":0,\"ticks\":\"\"}},\"colorscale\":{\"sequential\":[[0.0,\"#0d0887\"],[0.1111111111111111,\"#46039f\"],[0.2222222222222222,\"#7201a8\"],[0.3333333333333333,\"#9c179e\"],[0.4444444444444444,\"#bd3786\"],[0.5555555555555556,\"#d8576b\"],[0.6666666666666666,\"#ed7953\"],[0.7777777777777778,\"#fb9f3a\"],[0.8888888888888888,\"#fdca26\"],[1.0,\"#f0f921\"]],\"sequentialminus\":[[0.0,\"#0d0887\"],[0.1111111111111111,\"#46039f\"],[0.2222222222222222,\"#7201a8\"],[0.3333333333333333,\"#9c179e\"],[0.4444444444444444,\"#bd3786\"],[0.5555555555555556,\"#d8576b\"],[0.6666666666666666,\"#ed7953\"],[0.7777777777777778,\"#fb9f3a\"],[0.8888888888888888,\"#fdca26\"],[1.0,\"#f0f921\"]],\"diverging\":[[0,\"#8e0152\"],[0.1,\"#c51b7d\"],[0.2,\"#de77ae\"],[0.3,\"#f1b6da\"],[0.4,\"#fde0ef\"],[0.5,\"#f7f7f7\"],[0.6,\"#e6f5d0\"],[0.7,\"#b8e186\"],[0.8,\"#7fbc41\"],[0.9,\"#4d9221\"],[1,\"#276419\"]]},\"xaxis\":{\"gridcolor\":\"white\",\"linecolor\":\"white\",\"ticks\":\"\",\"title\":{\"standoff\":15},\"zerolinecolor\":\"white\",\"automargin\":true,\"zerolinewidth\":2},\"yaxis\":{\"gridcolor\":\"white\",\"linecolor\":\"white\",\"ticks\":\"\",\"title\":{\"standoff\":15},\"zerolinecolor\":\"white\",\"automargin\":true,\"zerolinewidth\":2},\"scene\":{\"xaxis\":{\"backgroundcolor\":\"#E5ECF6\",\"gridcolor\":\"white\",\"linecolor\":\"white\",\"showbackground\":true,\"ticks\":\"\",\"zerolinecolor\":\"white\",\"gridwidth\":2},\"yaxis\":{\"backgroundcolor\":\"#E5ECF6\",\"gridcolor\":\"white\",\"linecolor\":\"white\",\"showbackground\":true,\"ticks\":\"\",\"zerolinecolor\":\"white\",\"gridwidth\":2},\"zaxis\":{\"backgroundcolor\":\"#E5ECF6\",\"gridcolor\":\"white\",\"linecolor\":\"white\",\"showbackground\":true,\"ticks\":\"\",\"zerolinecolor\":\"white\",\"gridwidth\":2}},\"shapedefaults\":{\"line\":{\"color\":\"#2a3f5f\"}},\"annotationdefaults\":{\"arrowcolor\":\"#2a3f5f\",\"arrowhead\":0,\"arrowwidth\":1},\"geo\":{\"bgcolor\":\"white\",\"landcolor\":\"#E5ECF6\",\"subunitcolor\":\"white\",\"showland\":true,\"showlakes\":true,\"lakecolor\":\"white\"},\"title\":{\"x\":0.05},\"mapbox\":{\"style\":\"light\"}}},\"xaxis\":{\"anchor\":\"y\",\"domain\":[0.0,1.0],\"title\":{\"text\":\"First pca\"},\"showgrid\":true,\"gridcolor\":\"lightgray\"},\"yaxis\":{\"anchor\":\"x\",\"domain\":[0.0,1.0],\"title\":{\"text\":\"Second pca\"},\"showgrid\":true,\"gridcolor\":\"lightgray\"},\"legend\":{\"title\":{\"text\":\"color, symbol\"},\"tracegroupgap\":0,\"itemsizing\":\"constant\"},\"margin\":{\"t\":60},\"title\":{\"text\":\"PCA visualization of x-ray stats by tillage and fertilizer\"},\"plot_bgcolor\":\"white\"},                        {\"responsive\": true}                    ).then(function(){\n",
       "                            \n",
       "var gd = document.getElementById('b6c07dee-a29a-4e42-bf50-39ccb2b31f3b');\n",
       "var x = new MutationObserver(function (mutations, observer) {{\n",
       "        var display = window.getComputedStyle(gd).display;\n",
       "        if (!display || display === 'none') {{\n",
       "            console.log([gd, 'removed!']);\n",
       "            Plotly.purge(gd);\n",
       "            observer.disconnect();\n",
       "        }}\n",
       "}});\n",
       "\n",
       "// Listen for the removal of the full notebook cells\n",
       "var notebookContainer = gd.closest('#notebook-container');\n",
       "if (notebookContainer) {{\n",
       "    x.observe(notebookContainer, {childList: true});\n",
       "}}\n",
       "\n",
       "// Listen for the clearing of the current output cell\n",
       "var outputEl = gd.closest('.output');\n",
       "if (outputEl) {{\n",
       "    x.observe(outputEl, {childList: true});\n",
       "}}\n",
       "\n",
       "                        })                };                });            </script>        </div>"
      ]
     },
     "metadata": {},
     "output_type": "display_data"
    },
    {
     "name": "stdout",
     "output_type": "stream",
     "text": [
      "ANOVA ON FIRST PCA\n",
      "                            df     sum_sq    mean_sq          F        PR(>F)\n",
      "C(fertilizer)              2.0  98.162052  49.081026  32.930505  8.621336e-10\n",
      "C(tillage)                 2.0  10.764630   5.382315   3.611219  3.443633e-02\n",
      "C(fertilizer):C(tillage)   4.0   0.344747   0.086187   0.057826  9.935925e-01\n",
      "Residual                  49.0  73.031686   1.490443        NaN           NaN\n",
      "ANOVA ON SECOND PCA\n",
      "                            df     sum_sq    mean_sq          F        PR(>F)\n",
      "C(fertilizer)              2.0  80.454268  40.227134  53.576474  4.653979e-13\n",
      "C(tillage)                 2.0  13.168624   6.584312   8.769310  5.552595e-04\n",
      "C(fertilizer):C(tillage)   4.0   5.510975   1.377744   1.834947  1.371611e-01\n",
      "Residual                  49.0  36.790954   0.750836        NaN           NaN\n",
      "Component Mapping Table:\n",
      "       skew_mean_mean_0.0  skew_mean_mean_3.51  \\\n",
      "PCA 1            0.236149             0.343760   \n",
      "PCA 2            0.165926             0.224527   \n",
      "\n",
      "       skew_mean_mean_6.824999999999999  skew_mean_mean_10.14  \\\n",
      "PCA 1                          0.168455              0.104062   \n",
      "PCA 2                          0.331950              0.311003   \n",
      "\n",
      "       kurt_mean_mean_0.0  kurt_mean_mean_3.51  \\\n",
      "PCA 1           -0.332415            -0.352511   \n",
      "PCA 2           -0.099906            -0.039936   \n",
      "\n",
      "       kurt_mean_mean_6.824999999999999  kurt_mean_mean_10.14  \\\n",
      "PCA 1                         -0.402037             -0.280062   \n",
      "PCA 2                         -0.120006             -0.266095   \n",
      "\n",
      "       edge_mean_mean_0.0  edge_mean_mean_3.51  \\\n",
      "PCA 1            0.038514             0.341918   \n",
      "PCA 2           -0.417953            -0.306564   \n",
      "\n",
      "       edge_mean_mean_6.824999999999999  edge_mean_mean_10.14  \n",
      "PCA 1                          0.376562              0.227671  \n",
      "PCA 2                         -0.425979             -0.410163  \n"
     ]
    }
   ],
   "source": [
    "pca = PCA(n_components=2)\n",
    "scaler = RobustScaler()\n",
    "X_scaled = scaler.fit_transform(X)\n",
    "X_pca = pca.fit_transform(X_scaled)\n",
    "fig = px.scatter(x=X_pca[:, 0], y=X_pca[:, 1], color=yt, size=np.full(len(X_pca), 1),size_max=15,symbol=yf,symbol_sequence=custom_symbols)\n",
    "\n",
    "fig.update_layout(\n",
    "    title=\"PCA visualization of x-ray stats by tillage and fertilizer\",\n",
    "    xaxis_title=\"First pca\",\n",
    "    yaxis_title=\"Second pca\",\n",
    "    xaxis=dict(showgrid=True, gridcolor='lightgray'),  # Customize x-axis grid lines\n",
    "    yaxis=dict(showgrid=True, gridcolor='lightgray'),  # Customize y-axis grid lines\n",
    "    plot_bgcolor='white'  # Set the background color to white \n",
    ")\n",
    "fig.update_traces(marker=dict(opacity=1, line=dict(width=1)))\n",
    "fig.show()\n",
    "df = pd.DataFrame({'x': X_pca[:, 0],\n",
    "                   'y': X_pca[:, 1], \n",
    "                   'fertilizer': yf,\n",
    "                   'tillage': yt})\n",
    "modelx = ols('x ~ C(fertilizer) + C(tillage) + C(fertilizer):C(tillage)', data=df).fit()\n",
    "modely = ols('y ~ C(fertilizer) + C(tillage) + C(fertilizer):C(tillage)', data=df).fit()\n",
    "\n",
    "# Perform ANOVA test\n",
    "anovax = anova_lm(modelx)\n",
    "anovay = anova_lm(modely)\n",
    "print('ANOVA ON FIRST PCA')\n",
    "print(anovax)\n",
    "print('ANOVA ON SECOND PCA')\n",
    "print(anovay)\n",
    "component_mapping = pca.components_\n",
    "\n",
    "# Create a DataFrame to display the table\n",
    "component_mapping_table = pd.DataFrame(component_mapping, columns=X.columns, index=['PCA 1', 'PCA 2'])\n",
    "\n",
    "print(\"Component Mapping Table:\")\n",
    "print(component_mapping_table)"
   ]
  },
  {
   "cell_type": "markdown",
   "id": "bca73d8b",
   "metadata": {},
   "source": [
    "### Classification with SVM model\n",
    "Here we evaluate the ability of our selected metrics to be good predictors for classifying soil treatment using a support vector machine (SVM). An SVM model is a useful classification tool for this dataset because it can effectively handle high-dimensional feature spaces, making it suitable for scenarios where there are numerous features or metrics. Additionally, SVMs are known for their versatility in handling both linear and non-linear classification tasks, allowing us to capture complex relationships within the data. "
   ]
  },
  {
   "cell_type": "code",
   "execution_count": 64,
   "id": "2b072e4d",
   "metadata": {},
   "outputs": [],
   "source": [
    "def evaluate_svn(train, cols, target, ids):\n",
    "    X = train[cols]\n",
    "    y = target\n",
    "    \n",
    "    folds = 5\n",
    "    kfold = StratifiedGroupKFold(n_splits=folds, shuffle=True, random_state=1)\n",
    "    scores = np.full((folds), np.nan)\n",
    "    \n",
    "    i = 0\n",
    "    execution_time = 0\n",
    "    \n",
    "    for train_ix, valid_ix in kfold.split(X, y, ids):\n",
    "        start_time = time.perf_counter()\n",
    "        X_train, X_valid = X.iloc[train_ix], X.iloc[valid_ix]\n",
    "        \n",
    "        # Normalize each row using StandardScaler\n",
    "        scaler = RobustScaler()\n",
    "        X_train = scaler.fit_transform(X_train)\n",
    "        X_valid = scaler.transform(X_valid)\n",
    "        \n",
    "        y_train, y_valid = y[train_ix], y[valid_ix]\n",
    "        # Create the SVM classifier with the OvR strategy (default in scikit-learn for multi-class classification)\n",
    "        svm_classifier = SVC(kernel='linear', C=1)\n",
    "\n",
    "        # Train the classifier on the training data\n",
    "        svm_classifier.fit(X_train, y_train)\n",
    "\n",
    "        # Make predictions on the test data\n",
    "        y_pred = svm_classifier.predict(X_valid)\n",
    "        \n",
    "        # Calculate the accuracy of the classifier\n",
    "        score = accuracy_score(y_valid, y_pred)\n",
    "        #print(\"Fold \" + str(i) + \": {:.2f}\".format(score))\n",
    "        scores[i] = score\n",
    "        \n",
    "        end_time = time.perf_counter()\n",
    "        execution_time += (end_time - start_time)\n",
    "        i = i+1\n",
    "    \n",
    "    \n",
    "    execution_time /= folds\n",
    "    scoresmean = np.nanmean(scores, axis=0)\n",
    "    return scores, scoresmean, execution_time"
   ]
  },
  {
   "cell_type": "code",
   "execution_count": 76,
   "id": "79f8f564",
   "metadata": {},
   "outputs": [
    {
     "data": {
      "text/html": [
       "<div>\n",
       "<style scoped>\n",
       "    .dataframe tbody tr th:only-of-type {\n",
       "        vertical-align: middle;\n",
       "    }\n",
       "\n",
       "    .dataframe tbody tr th {\n",
       "        vertical-align: top;\n",
       "    }\n",
       "\n",
       "    .dataframe thead th {\n",
       "        text-align: right;\n",
       "    }\n",
       "</style>\n",
       "<table border=\"1\" class=\"dataframe\">\n",
       "  <thead>\n",
       "    <tr style=\"text-align: right;\">\n",
       "      <th></th>\n",
       "      <th>Fold</th>\n",
       "      <th>Tillage-Fertilizer Classification</th>\n",
       "      <th>Tillage Classification</th>\n",
       "      <th>Fertilizer Classification</th>\n",
       "    </tr>\n",
       "  </thead>\n",
       "  <tbody>\n",
       "    <tr>\n",
       "      <th>0</th>\n",
       "      <td>1</td>\n",
       "      <td>0.818182</td>\n",
       "      <td>0.909091</td>\n",
       "      <td>0.818182</td>\n",
       "    </tr>\n",
       "    <tr>\n",
       "      <th>1</th>\n",
       "      <td>2</td>\n",
       "      <td>0.727273</td>\n",
       "      <td>0.909091</td>\n",
       "      <td>0.909091</td>\n",
       "    </tr>\n",
       "    <tr>\n",
       "      <th>2</th>\n",
       "      <td>3</td>\n",
       "      <td>1.000000</td>\n",
       "      <td>0.900000</td>\n",
       "      <td>0.818182</td>\n",
       "    </tr>\n",
       "    <tr>\n",
       "      <th>3</th>\n",
       "      <td>4</td>\n",
       "      <td>0.727273</td>\n",
       "      <td>0.818182</td>\n",
       "      <td>0.909091</td>\n",
       "    </tr>\n",
       "    <tr>\n",
       "      <th>4</th>\n",
       "      <td>5</td>\n",
       "      <td>0.909091</td>\n",
       "      <td>0.727273</td>\n",
       "      <td>0.900000</td>\n",
       "    </tr>\n",
       "    <tr>\n",
       "      <th>5</th>\n",
       "      <td>Average</td>\n",
       "      <td>0.836364</td>\n",
       "      <td>0.852727</td>\n",
       "      <td>0.870909</td>\n",
       "    </tr>\n",
       "  </tbody>\n",
       "</table>\n",
       "</div>"
      ],
      "text/plain": [
       "      Fold  Tillage-Fertilizer Classification  Tillage Classification  \\\n",
       "0        1                           0.818182                0.909091   \n",
       "1        2                           0.727273                0.909091   \n",
       "2        3                           1.000000                0.900000   \n",
       "3        4                           0.727273                0.818182   \n",
       "4        5                           0.909091                0.727273   \n",
       "5  Average                           0.836364                0.852727   \n",
       "\n",
       "   Fertilizer Classification  \n",
       "0                   0.818182  \n",
       "1                   0.909091  \n",
       "2                   0.818182  \n",
       "3                   0.909091  \n",
       "4                   0.900000  \n",
       "5                   0.870909  "
      ]
     },
     "execution_count": 76,
     "metadata": {},
     "output_type": "execute_result"
    }
   ],
   "source": [
    "# Collect features\n",
    "X,y,scan = get_features(2)\n",
    "y_split = y.str.split(\"-\", expand=True)\n",
    "yt = y_split[0]\n",
    "yf = y_split[1]\n",
    "\n",
    "scorestf, scoresmeantf, execution_time = evaluate_svn(X,X.columns,y,scan)\n",
    "scorest, scoresmeant, execution_time = evaluate_svn(X,X.columns,yt,scan)\n",
    "scoresf, scoresmeanf, execution_time = evaluate_svn(X,X.columns,yf,scan)\n",
    "\n",
    "scores = {'Fold': ['1', '2', '3', '4', '5', 'Average'],\n",
    "        'Tillage-Fertilizer Classification': np.append(scorestf, scoresmeantf),\n",
    "        'Tillage Classification': np.append(scorest, scoresmeant),\n",
    "        'Fertilizer Classification': np.append(scoresf, scoresmeanf)}\n",
    "df_scores = pd.DataFrame(scores)\n",
    "df_scores"
   ]
  },
  {
   "cell_type": "markdown",
   "id": "aee24dd3",
   "metadata": {},
   "source": [
    "To determine the accuracy of the SVM model, I used cross-validation with 5 folds (for each fold, the model was trained on 80% of the scans to predict the soil type of other 20% of the scans), and compared the accuracy of the predictions.\n",
    "I used stratified group k-folds to preserve the distribution of each soil type in the folds. **Accuracy = total correct predictions / total predictions**. While the results differ slightly than what is presented in the accompanying slides, the conclusion is the same: **Skew, Kurtosis, and Sobel edge seem to be good metrics to differentiate soils.** Slight improvements can be observed in fertilizer classification accuracy by using some of the features with the highest mutual information, although accuracy is reduced when classifying by tillage or tillage-fertilizer."
   ]
  },
  {
   "cell_type": "code",
   "execution_count": 134,
   "id": "325b5593",
   "metadata": {},
   "outputs": [
    {
     "name": "stdout",
     "output_type": "stream",
     "text": [
      "['skew_p95_median_6.824999999999999' 'kurt_p5_median_6.824999999999999'\n",
      " 'edge_median_mean_0.0' 'skew_p95_median_3.51' 'skew_p95_mean_3.51'\n",
      " 'skew_p95_mean_6.824999999999999' 'kurt_p95_median_6.824999999999999'\n",
      " 'kurt_p95_mean_6.824999999999999' 'edge_p95_mean_0.0'\n",
      " 'edge_p95_median_3.51' 'edge_std_mean_0.0' 'edge_median_median_0.0']\n"
     ]
    },
    {
     "data": {
      "text/html": [
       "<div>\n",
       "<style scoped>\n",
       "    .dataframe tbody tr th:only-of-type {\n",
       "        vertical-align: middle;\n",
       "    }\n",
       "\n",
       "    .dataframe tbody tr th {\n",
       "        vertical-align: top;\n",
       "    }\n",
       "\n",
       "    .dataframe thead th {\n",
       "        text-align: right;\n",
       "    }\n",
       "</style>\n",
       "<table border=\"1\" class=\"dataframe\">\n",
       "  <thead>\n",
       "    <tr style=\"text-align: right;\">\n",
       "      <th></th>\n",
       "      <th>Fold</th>\n",
       "      <th>Tillage-Fertilizer Classification</th>\n",
       "      <th>Tillage Classification</th>\n",
       "      <th>Fertilizer Classification</th>\n",
       "    </tr>\n",
       "  </thead>\n",
       "  <tbody>\n",
       "    <tr>\n",
       "      <th>0</th>\n",
       "      <td>1</td>\n",
       "      <td>0.909091</td>\n",
       "      <td>0.818182</td>\n",
       "      <td>1.000000</td>\n",
       "    </tr>\n",
       "    <tr>\n",
       "      <th>1</th>\n",
       "      <td>2</td>\n",
       "      <td>0.818182</td>\n",
       "      <td>1.000000</td>\n",
       "      <td>1.000000</td>\n",
       "    </tr>\n",
       "    <tr>\n",
       "      <th>2</th>\n",
       "      <td>3</td>\n",
       "      <td>0.800000</td>\n",
       "      <td>1.000000</td>\n",
       "      <td>0.909091</td>\n",
       "    </tr>\n",
       "    <tr>\n",
       "      <th>3</th>\n",
       "      <td>4</td>\n",
       "      <td>0.727273</td>\n",
       "      <td>0.636364</td>\n",
       "      <td>1.000000</td>\n",
       "    </tr>\n",
       "    <tr>\n",
       "      <th>4</th>\n",
       "      <td>5</td>\n",
       "      <td>0.727273</td>\n",
       "      <td>0.636364</td>\n",
       "      <td>0.900000</td>\n",
       "    </tr>\n",
       "    <tr>\n",
       "      <th>5</th>\n",
       "      <td>Average</td>\n",
       "      <td>0.796364</td>\n",
       "      <td>0.818182</td>\n",
       "      <td>0.961818</td>\n",
       "    </tr>\n",
       "  </tbody>\n",
       "</table>\n",
       "</div>"
      ],
      "text/plain": [
       "      Fold  Tillage-Fertilizer Classification  Tillage Classification  \\\n",
       "0        1                           0.909091                0.818182   \n",
       "1        2                           0.818182                1.000000   \n",
       "2        3                           0.800000                1.000000   \n",
       "3        4                           0.727273                0.636364   \n",
       "4        5                           0.727273                0.636364   \n",
       "5  Average                           0.796364                0.818182   \n",
       "\n",
       "   Fertilizer Classification  \n",
       "0                   1.000000  \n",
       "1                   1.000000  \n",
       "2                   0.909091  \n",
       "3                   1.000000  \n",
       "4                   0.900000  \n",
       "5                   0.961818  "
      ]
     },
     "execution_count": 134,
     "metadata": {},
     "output_type": "execute_result"
    }
   ],
   "source": [
    "a = np.array(feature_importance.loc[[1,2,3,5,6,7,9,10,11,12,13,14],'Feature'])\n",
    "\n",
    "# Collect features\n",
    "X,y,scan = get_features(3)\n",
    "\n",
    "y_split = y.str.split(\"-\", expand=True)\n",
    "yt = y_split[0]\n",
    "yf = y_split[1]\n",
    "\n",
    "scorestf, scoresmeantf, execution_time = evaluate_svn(X,a,y,scan)\n",
    "scorest, scoresmeant, execution_time = evaluate_svn(X,a,yt,scan)\n",
    "scoresf, scoresmeanf, execution_time = evaluate_svn(X,a,yf,scan)\n",
    "\n",
    "scores = {'Fold': ['1', '2', '3', '4', '5', 'Average'],\n",
    "        'Tillage-Fertilizer Classification': np.append(scorestf, scoresmeantf),\n",
    "        'Tillage Classification': np.append(scorest, scoresmeant),\n",
    "        'Fertilizer Classification': np.append(scoresf, scoresmeanf)}\n",
    "df_scores = pd.DataFrame(scores)\n",
    "print(a)\n",
    "df_scores"
   ]
  },
  {
   "cell_type": "markdown",
   "id": "3f55bed6",
   "metadata": {},
   "source": [
    "There are a variety of combinations of metrics that can result in similarly predictive classifications. However, as was observed during the dimensionality reduction analysis, it's likely that most of the useful information about the metrics aree shared across the various metrics, and that only a few select metrics at certain depths are necessary for good/representative classification predictions.\n",
    "\n",
    "In the below cell, we observe the correlations between the top metrics as determined by mutual information with tillage-fertilizer (analyzed earlier in this notebook)."
   ]
  },
  {
   "cell_type": "code",
   "execution_count": 135,
   "id": "975d56dc",
   "metadata": {},
   "outputs": [
    {
     "data": {
      "text/html": [
       "<div>\n",
       "<style scoped>\n",
       "    .dataframe tbody tr th:only-of-type {\n",
       "        vertical-align: middle;\n",
       "    }\n",
       "\n",
       "    .dataframe tbody tr th {\n",
       "        vertical-align: top;\n",
       "    }\n",
       "\n",
       "    .dataframe thead th {\n",
       "        text-align: right;\n",
       "    }\n",
       "</style>\n",
       "<table border=\"1\" class=\"dataframe\">\n",
       "  <thead>\n",
       "    <tr style=\"text-align: right;\">\n",
       "      <th></th>\n",
       "      <th>skew_p95_median_6.824999999999999</th>\n",
       "      <th>kurt_p5_median_6.824999999999999</th>\n",
       "      <th>edge_median_mean_0.0</th>\n",
       "      <th>img_std_norm (g/cm3)_mean_6.824999999999999</th>\n",
       "      <th>skew_p95_median_3.51</th>\n",
       "      <th>skew_p95_mean_3.51</th>\n",
       "      <th>skew_p95_mean_6.824999999999999</th>\n",
       "      <th>img_std_norm (g/cm3)_median_6.824999999999999</th>\n",
       "      <th>kurt_p95_median_6.824999999999999</th>\n",
       "      <th>kurt_p95_mean_6.824999999999999</th>\n",
       "      <th>edge_p95_mean_0.0</th>\n",
       "      <th>edge_p95_median_3.51</th>\n",
       "      <th>edge_std_mean_0.0</th>\n",
       "      <th>edge_median_median_0.0</th>\n",
       "      <th>kurt_p5_mean_6.824999999999999</th>\n",
       "    </tr>\n",
       "  </thead>\n",
       "  <tbody>\n",
       "    <tr>\n",
       "      <th>skew_p95_median_6.824999999999999</th>\n",
       "      <td>1.000000</td>\n",
       "      <td>0.510125</td>\n",
       "      <td>0.724389</td>\n",
       "      <td>0.249432</td>\n",
       "      <td>0.834886</td>\n",
       "      <td>0.832558</td>\n",
       "      <td>0.996273</td>\n",
       "      <td>0.090600</td>\n",
       "      <td>0.153175</td>\n",
       "      <td>0.162858</td>\n",
       "      <td>0.652158</td>\n",
       "      <td>0.416088</td>\n",
       "      <td>0.647981</td>\n",
       "      <td>0.690748</td>\n",
       "      <td>0.547765</td>\n",
       "    </tr>\n",
       "    <tr>\n",
       "      <th>kurt_p5_median_6.824999999999999</th>\n",
       "      <td>0.510125</td>\n",
       "      <td>1.000000</td>\n",
       "      <td>0.328346</td>\n",
       "      <td>0.876615</td>\n",
       "      <td>0.566943</td>\n",
       "      <td>0.562021</td>\n",
       "      <td>0.493258</td>\n",
       "      <td>0.155758</td>\n",
       "      <td>0.726412</td>\n",
       "      <td>0.734718</td>\n",
       "      <td>0.307443</td>\n",
       "      <td>0.392338</td>\n",
       "      <td>0.302081</td>\n",
       "      <td>0.221943</td>\n",
       "      <td>0.982133</td>\n",
       "    </tr>\n",
       "    <tr>\n",
       "      <th>edge_median_mean_0.0</th>\n",
       "      <td>0.724389</td>\n",
       "      <td>0.328346</td>\n",
       "      <td>1.000000</td>\n",
       "      <td>0.151699</td>\n",
       "      <td>0.710809</td>\n",
       "      <td>0.713476</td>\n",
       "      <td>0.737978</td>\n",
       "      <td>0.170983</td>\n",
       "      <td>0.118849</td>\n",
       "      <td>0.097563</td>\n",
       "      <td>0.922119</td>\n",
       "      <td>0.499554</td>\n",
       "      <td>0.905294</td>\n",
       "      <td>0.956430</td>\n",
       "      <td>0.355926</td>\n",
       "    </tr>\n",
       "    <tr>\n",
       "      <th>img_std_norm (g/cm3)_mean_6.824999999999999</th>\n",
       "      <td>0.249432</td>\n",
       "      <td>0.876615</td>\n",
       "      <td>0.151699</td>\n",
       "      <td>1.000000</td>\n",
       "      <td>0.326508</td>\n",
       "      <td>0.315996</td>\n",
       "      <td>0.237705</td>\n",
       "      <td>0.979538</td>\n",
       "      <td>0.731032</td>\n",
       "      <td>0.735670</td>\n",
       "      <td>0.147621</td>\n",
       "      <td>0.587511</td>\n",
       "      <td>0.151629</td>\n",
       "      <td>0.049764</td>\n",
       "      <td>0.858321</td>\n",
       "    </tr>\n",
       "    <tr>\n",
       "      <th>skew_p95_median_3.51</th>\n",
       "      <td>0.834886</td>\n",
       "      <td>0.566943</td>\n",
       "      <td>0.710809</td>\n",
       "      <td>0.326508</td>\n",
       "      <td>1.000000</td>\n",
       "      <td>0.994575</td>\n",
       "      <td>0.836975</td>\n",
       "      <td>0.154557</td>\n",
       "      <td>0.280613</td>\n",
       "      <td>0.284436</td>\n",
       "      <td>0.634629</td>\n",
       "      <td>0.186829</td>\n",
       "      <td>0.626066</td>\n",
       "      <td>0.616216</td>\n",
       "      <td>0.589455</td>\n",
       "    </tr>\n",
       "    <tr>\n",
       "      <th>skew_p95_mean_3.51</th>\n",
       "      <td>0.832558</td>\n",
       "      <td>0.562021</td>\n",
       "      <td>0.713476</td>\n",
       "      <td>0.315996</td>\n",
       "      <td>0.994575</td>\n",
       "      <td>1.000000</td>\n",
       "      <td>0.835003</td>\n",
       "      <td>0.167099</td>\n",
       "      <td>0.290558</td>\n",
       "      <td>0.295455</td>\n",
       "      <td>0.640683</td>\n",
       "      <td>0.185812</td>\n",
       "      <td>0.632299</td>\n",
       "      <td>0.623911</td>\n",
       "      <td>0.584025</td>\n",
       "    </tr>\n",
       "    <tr>\n",
       "      <th>skew_p95_mean_6.824999999999999</th>\n",
       "      <td>0.996273</td>\n",
       "      <td>0.493258</td>\n",
       "      <td>0.737978</td>\n",
       "      <td>0.237705</td>\n",
       "      <td>0.836975</td>\n",
       "      <td>0.835003</td>\n",
       "      <td>1.000000</td>\n",
       "      <td>0.084273</td>\n",
       "      <td>0.129722</td>\n",
       "      <td>0.140232</td>\n",
       "      <td>0.665152</td>\n",
       "      <td>0.437030</td>\n",
       "      <td>0.661890</td>\n",
       "      <td>0.706139</td>\n",
       "      <td>0.535315</td>\n",
       "    </tr>\n",
       "    <tr>\n",
       "      <th>img_std_norm (g/cm3)_median_6.824999999999999</th>\n",
       "      <td>0.090600</td>\n",
       "      <td>0.155758</td>\n",
       "      <td>0.170983</td>\n",
       "      <td>0.979538</td>\n",
       "      <td>0.154557</td>\n",
       "      <td>0.167099</td>\n",
       "      <td>0.084273</td>\n",
       "      <td>1.000000</td>\n",
       "      <td>0.200215</td>\n",
       "      <td>0.176654</td>\n",
       "      <td>0.214099</td>\n",
       "      <td>0.204473</td>\n",
       "      <td>0.238647</td>\n",
       "      <td>0.152955</td>\n",
       "      <td>0.137552</td>\n",
       "    </tr>\n",
       "    <tr>\n",
       "      <th>kurt_p95_median_6.824999999999999</th>\n",
       "      <td>0.153175</td>\n",
       "      <td>0.726412</td>\n",
       "      <td>0.118849</td>\n",
       "      <td>0.731032</td>\n",
       "      <td>0.280613</td>\n",
       "      <td>0.290558</td>\n",
       "      <td>0.129722</td>\n",
       "      <td>0.200215</td>\n",
       "      <td>1.000000</td>\n",
       "      <td>0.986529</td>\n",
       "      <td>0.056559</td>\n",
       "      <td>0.599574</td>\n",
       "      <td>0.043934</td>\n",
       "      <td>0.180862</td>\n",
       "      <td>0.715130</td>\n",
       "    </tr>\n",
       "    <tr>\n",
       "      <th>kurt_p95_mean_6.824999999999999</th>\n",
       "      <td>0.162858</td>\n",
       "      <td>0.734718</td>\n",
       "      <td>0.097563</td>\n",
       "      <td>0.735670</td>\n",
       "      <td>0.284436</td>\n",
       "      <td>0.295455</td>\n",
       "      <td>0.140232</td>\n",
       "      <td>0.176654</td>\n",
       "      <td>0.986529</td>\n",
       "      <td>1.000000</td>\n",
       "      <td>0.042562</td>\n",
       "      <td>0.592722</td>\n",
       "      <td>0.026979</td>\n",
       "      <td>0.169812</td>\n",
       "      <td>0.730918</td>\n",
       "    </tr>\n",
       "    <tr>\n",
       "      <th>edge_p95_mean_0.0</th>\n",
       "      <td>0.652158</td>\n",
       "      <td>0.307443</td>\n",
       "      <td>0.922119</td>\n",
       "      <td>0.147621</td>\n",
       "      <td>0.634629</td>\n",
       "      <td>0.640683</td>\n",
       "      <td>0.665152</td>\n",
       "      <td>0.214099</td>\n",
       "      <td>0.056559</td>\n",
       "      <td>0.042562</td>\n",
       "      <td>1.000000</td>\n",
       "      <td>0.490120</td>\n",
       "      <td>0.996770</td>\n",
       "      <td>0.905998</td>\n",
       "      <td>0.330057</td>\n",
       "    </tr>\n",
       "    <tr>\n",
       "      <th>edge_p95_median_3.51</th>\n",
       "      <td>0.416088</td>\n",
       "      <td>0.392338</td>\n",
       "      <td>0.499554</td>\n",
       "      <td>0.587511</td>\n",
       "      <td>0.186829</td>\n",
       "      <td>0.185812</td>\n",
       "      <td>0.437030</td>\n",
       "      <td>0.204473</td>\n",
       "      <td>0.599574</td>\n",
       "      <td>0.592722</td>\n",
       "      <td>0.490120</td>\n",
       "      <td>1.000000</td>\n",
       "      <td>0.490959</td>\n",
       "      <td>0.605211</td>\n",
       "      <td>0.360655</td>\n",
       "    </tr>\n",
       "    <tr>\n",
       "      <th>edge_std_mean_0.0</th>\n",
       "      <td>0.647981</td>\n",
       "      <td>0.302081</td>\n",
       "      <td>0.905294</td>\n",
       "      <td>0.151629</td>\n",
       "      <td>0.626066</td>\n",
       "      <td>0.632299</td>\n",
       "      <td>0.661890</td>\n",
       "      <td>0.238647</td>\n",
       "      <td>0.043934</td>\n",
       "      <td>0.026979</td>\n",
       "      <td>0.996770</td>\n",
       "      <td>0.490959</td>\n",
       "      <td>1.000000</td>\n",
       "      <td>0.892407</td>\n",
       "      <td>0.326318</td>\n",
       "    </tr>\n",
       "    <tr>\n",
       "      <th>edge_median_median_0.0</th>\n",
       "      <td>0.690748</td>\n",
       "      <td>0.221943</td>\n",
       "      <td>0.956430</td>\n",
       "      <td>0.049764</td>\n",
       "      <td>0.616216</td>\n",
       "      <td>0.623911</td>\n",
       "      <td>0.706139</td>\n",
       "      <td>0.152955</td>\n",
       "      <td>0.180862</td>\n",
       "      <td>0.169812</td>\n",
       "      <td>0.905998</td>\n",
       "      <td>0.605211</td>\n",
       "      <td>0.892407</td>\n",
       "      <td>1.000000</td>\n",
       "      <td>0.247737</td>\n",
       "    </tr>\n",
       "    <tr>\n",
       "      <th>kurt_p5_mean_6.824999999999999</th>\n",
       "      <td>0.547765</td>\n",
       "      <td>0.982133</td>\n",
       "      <td>0.355926</td>\n",
       "      <td>0.858321</td>\n",
       "      <td>0.589455</td>\n",
       "      <td>0.584025</td>\n",
       "      <td>0.535315</td>\n",
       "      <td>0.137552</td>\n",
       "      <td>0.715130</td>\n",
       "      <td>0.730918</td>\n",
       "      <td>0.330057</td>\n",
       "      <td>0.360655</td>\n",
       "      <td>0.326318</td>\n",
       "      <td>0.247737</td>\n",
       "      <td>1.000000</td>\n",
       "    </tr>\n",
       "  </tbody>\n",
       "</table>\n",
       "</div>"
      ],
      "text/plain": [
       "                                               skew_p95_median_6.824999999999999  \\\n",
       "skew_p95_median_6.824999999999999                                       1.000000   \n",
       "kurt_p5_median_6.824999999999999                                        0.510125   \n",
       "edge_median_mean_0.0                                                    0.724389   \n",
       "img_std_norm (g/cm3)_mean_6.824999999999999                             0.249432   \n",
       "skew_p95_median_3.51                                                    0.834886   \n",
       "skew_p95_mean_3.51                                                      0.832558   \n",
       "skew_p95_mean_6.824999999999999                                         0.996273   \n",
       "img_std_norm (g/cm3)_median_6.824999999999999                           0.090600   \n",
       "kurt_p95_median_6.824999999999999                                       0.153175   \n",
       "kurt_p95_mean_6.824999999999999                                         0.162858   \n",
       "edge_p95_mean_0.0                                                       0.652158   \n",
       "edge_p95_median_3.51                                                    0.416088   \n",
       "edge_std_mean_0.0                                                       0.647981   \n",
       "edge_median_median_0.0                                                  0.690748   \n",
       "kurt_p5_mean_6.824999999999999                                          0.547765   \n",
       "\n",
       "                                               kurt_p5_median_6.824999999999999  \\\n",
       "skew_p95_median_6.824999999999999                                      0.510125   \n",
       "kurt_p5_median_6.824999999999999                                       1.000000   \n",
       "edge_median_mean_0.0                                                   0.328346   \n",
       "img_std_norm (g/cm3)_mean_6.824999999999999                            0.876615   \n",
       "skew_p95_median_3.51                                                   0.566943   \n",
       "skew_p95_mean_3.51                                                     0.562021   \n",
       "skew_p95_mean_6.824999999999999                                        0.493258   \n",
       "img_std_norm (g/cm3)_median_6.824999999999999                          0.155758   \n",
       "kurt_p95_median_6.824999999999999                                      0.726412   \n",
       "kurt_p95_mean_6.824999999999999                                        0.734718   \n",
       "edge_p95_mean_0.0                                                      0.307443   \n",
       "edge_p95_median_3.51                                                   0.392338   \n",
       "edge_std_mean_0.0                                                      0.302081   \n",
       "edge_median_median_0.0                                                 0.221943   \n",
       "kurt_p5_mean_6.824999999999999                                         0.982133   \n",
       "\n",
       "                                               edge_median_mean_0.0  \\\n",
       "skew_p95_median_6.824999999999999                          0.724389   \n",
       "kurt_p5_median_6.824999999999999                           0.328346   \n",
       "edge_median_mean_0.0                                       1.000000   \n",
       "img_std_norm (g/cm3)_mean_6.824999999999999                0.151699   \n",
       "skew_p95_median_3.51                                       0.710809   \n",
       "skew_p95_mean_3.51                                         0.713476   \n",
       "skew_p95_mean_6.824999999999999                            0.737978   \n",
       "img_std_norm (g/cm3)_median_6.824999999999999              0.170983   \n",
       "kurt_p95_median_6.824999999999999                          0.118849   \n",
       "kurt_p95_mean_6.824999999999999                            0.097563   \n",
       "edge_p95_mean_0.0                                          0.922119   \n",
       "edge_p95_median_3.51                                       0.499554   \n",
       "edge_std_mean_0.0                                          0.905294   \n",
       "edge_median_median_0.0                                     0.956430   \n",
       "kurt_p5_mean_6.824999999999999                             0.355926   \n",
       "\n",
       "                                               img_std_norm (g/cm3)_mean_6.824999999999999  \\\n",
       "skew_p95_median_6.824999999999999                                                 0.249432   \n",
       "kurt_p5_median_6.824999999999999                                                  0.876615   \n",
       "edge_median_mean_0.0                                                              0.151699   \n",
       "img_std_norm (g/cm3)_mean_6.824999999999999                                       1.000000   \n",
       "skew_p95_median_3.51                                                              0.326508   \n",
       "skew_p95_mean_3.51                                                                0.315996   \n",
       "skew_p95_mean_6.824999999999999                                                   0.237705   \n",
       "img_std_norm (g/cm3)_median_6.824999999999999                                     0.979538   \n",
       "kurt_p95_median_6.824999999999999                                                 0.731032   \n",
       "kurt_p95_mean_6.824999999999999                                                   0.735670   \n",
       "edge_p95_mean_0.0                                                                 0.147621   \n",
       "edge_p95_median_3.51                                                              0.587511   \n",
       "edge_std_mean_0.0                                                                 0.151629   \n",
       "edge_median_median_0.0                                                            0.049764   \n",
       "kurt_p5_mean_6.824999999999999                                                    0.858321   \n",
       "\n",
       "                                               skew_p95_median_3.51  \\\n",
       "skew_p95_median_6.824999999999999                          0.834886   \n",
       "kurt_p5_median_6.824999999999999                           0.566943   \n",
       "edge_median_mean_0.0                                       0.710809   \n",
       "img_std_norm (g/cm3)_mean_6.824999999999999                0.326508   \n",
       "skew_p95_median_3.51                                       1.000000   \n",
       "skew_p95_mean_3.51                                         0.994575   \n",
       "skew_p95_mean_6.824999999999999                            0.836975   \n",
       "img_std_norm (g/cm3)_median_6.824999999999999              0.154557   \n",
       "kurt_p95_median_6.824999999999999                          0.280613   \n",
       "kurt_p95_mean_6.824999999999999                            0.284436   \n",
       "edge_p95_mean_0.0                                          0.634629   \n",
       "edge_p95_median_3.51                                       0.186829   \n",
       "edge_std_mean_0.0                                          0.626066   \n",
       "edge_median_median_0.0                                     0.616216   \n",
       "kurt_p5_mean_6.824999999999999                             0.589455   \n",
       "\n",
       "                                               skew_p95_mean_3.51  \\\n",
       "skew_p95_median_6.824999999999999                        0.832558   \n",
       "kurt_p5_median_6.824999999999999                         0.562021   \n",
       "edge_median_mean_0.0                                     0.713476   \n",
       "img_std_norm (g/cm3)_mean_6.824999999999999              0.315996   \n",
       "skew_p95_median_3.51                                     0.994575   \n",
       "skew_p95_mean_3.51                                       1.000000   \n",
       "skew_p95_mean_6.824999999999999                          0.835003   \n",
       "img_std_norm (g/cm3)_median_6.824999999999999            0.167099   \n",
       "kurt_p95_median_6.824999999999999                        0.290558   \n",
       "kurt_p95_mean_6.824999999999999                          0.295455   \n",
       "edge_p95_mean_0.0                                        0.640683   \n",
       "edge_p95_median_3.51                                     0.185812   \n",
       "edge_std_mean_0.0                                        0.632299   \n",
       "edge_median_median_0.0                                   0.623911   \n",
       "kurt_p5_mean_6.824999999999999                           0.584025   \n",
       "\n",
       "                                               skew_p95_mean_6.824999999999999  \\\n",
       "skew_p95_median_6.824999999999999                                     0.996273   \n",
       "kurt_p5_median_6.824999999999999                                      0.493258   \n",
       "edge_median_mean_0.0                                                  0.737978   \n",
       "img_std_norm (g/cm3)_mean_6.824999999999999                           0.237705   \n",
       "skew_p95_median_3.51                                                  0.836975   \n",
       "skew_p95_mean_3.51                                                    0.835003   \n",
       "skew_p95_mean_6.824999999999999                                       1.000000   \n",
       "img_std_norm (g/cm3)_median_6.824999999999999                         0.084273   \n",
       "kurt_p95_median_6.824999999999999                                     0.129722   \n",
       "kurt_p95_mean_6.824999999999999                                       0.140232   \n",
       "edge_p95_mean_0.0                                                     0.665152   \n",
       "edge_p95_median_3.51                                                  0.437030   \n",
       "edge_std_mean_0.0                                                     0.661890   \n",
       "edge_median_median_0.0                                                0.706139   \n",
       "kurt_p5_mean_6.824999999999999                                        0.535315   \n",
       "\n",
       "                                               img_std_norm (g/cm3)_median_6.824999999999999  \\\n",
       "skew_p95_median_6.824999999999999                                                   0.090600   \n",
       "kurt_p5_median_6.824999999999999                                                    0.155758   \n",
       "edge_median_mean_0.0                                                                0.170983   \n",
       "img_std_norm (g/cm3)_mean_6.824999999999999                                         0.979538   \n",
       "skew_p95_median_3.51                                                                0.154557   \n",
       "skew_p95_mean_3.51                                                                  0.167099   \n",
       "skew_p95_mean_6.824999999999999                                                     0.084273   \n",
       "img_std_norm (g/cm3)_median_6.824999999999999                                       1.000000   \n",
       "kurt_p95_median_6.824999999999999                                                   0.200215   \n",
       "kurt_p95_mean_6.824999999999999                                                     0.176654   \n",
       "edge_p95_mean_0.0                                                                   0.214099   \n",
       "edge_p95_median_3.51                                                                0.204473   \n",
       "edge_std_mean_0.0                                                                   0.238647   \n",
       "edge_median_median_0.0                                                              0.152955   \n",
       "kurt_p5_mean_6.824999999999999                                                      0.137552   \n",
       "\n",
       "                                               kurt_p95_median_6.824999999999999  \\\n",
       "skew_p95_median_6.824999999999999                                       0.153175   \n",
       "kurt_p5_median_6.824999999999999                                        0.726412   \n",
       "edge_median_mean_0.0                                                    0.118849   \n",
       "img_std_norm (g/cm3)_mean_6.824999999999999                             0.731032   \n",
       "skew_p95_median_3.51                                                    0.280613   \n",
       "skew_p95_mean_3.51                                                      0.290558   \n",
       "skew_p95_mean_6.824999999999999                                         0.129722   \n",
       "img_std_norm (g/cm3)_median_6.824999999999999                           0.200215   \n",
       "kurt_p95_median_6.824999999999999                                       1.000000   \n",
       "kurt_p95_mean_6.824999999999999                                         0.986529   \n",
       "edge_p95_mean_0.0                                                       0.056559   \n",
       "edge_p95_median_3.51                                                    0.599574   \n",
       "edge_std_mean_0.0                                                       0.043934   \n",
       "edge_median_median_0.0                                                  0.180862   \n",
       "kurt_p5_mean_6.824999999999999                                          0.715130   \n",
       "\n",
       "                                               kurt_p95_mean_6.824999999999999  \\\n",
       "skew_p95_median_6.824999999999999                                     0.162858   \n",
       "kurt_p5_median_6.824999999999999                                      0.734718   \n",
       "edge_median_mean_0.0                                                  0.097563   \n",
       "img_std_norm (g/cm3)_mean_6.824999999999999                           0.735670   \n",
       "skew_p95_median_3.51                                                  0.284436   \n",
       "skew_p95_mean_3.51                                                    0.295455   \n",
       "skew_p95_mean_6.824999999999999                                       0.140232   \n",
       "img_std_norm (g/cm3)_median_6.824999999999999                         0.176654   \n",
       "kurt_p95_median_6.824999999999999                                     0.986529   \n",
       "kurt_p95_mean_6.824999999999999                                       1.000000   \n",
       "edge_p95_mean_0.0                                                     0.042562   \n",
       "edge_p95_median_3.51                                                  0.592722   \n",
       "edge_std_mean_0.0                                                     0.026979   \n",
       "edge_median_median_0.0                                                0.169812   \n",
       "kurt_p5_mean_6.824999999999999                                        0.730918   \n",
       "\n",
       "                                               edge_p95_mean_0.0  \\\n",
       "skew_p95_median_6.824999999999999                       0.652158   \n",
       "kurt_p5_median_6.824999999999999                        0.307443   \n",
       "edge_median_mean_0.0                                    0.922119   \n",
       "img_std_norm (g/cm3)_mean_6.824999999999999             0.147621   \n",
       "skew_p95_median_3.51                                    0.634629   \n",
       "skew_p95_mean_3.51                                      0.640683   \n",
       "skew_p95_mean_6.824999999999999                         0.665152   \n",
       "img_std_norm (g/cm3)_median_6.824999999999999           0.214099   \n",
       "kurt_p95_median_6.824999999999999                       0.056559   \n",
       "kurt_p95_mean_6.824999999999999                         0.042562   \n",
       "edge_p95_mean_0.0                                       1.000000   \n",
       "edge_p95_median_3.51                                    0.490120   \n",
       "edge_std_mean_0.0                                       0.996770   \n",
       "edge_median_median_0.0                                  0.905998   \n",
       "kurt_p5_mean_6.824999999999999                          0.330057   \n",
       "\n",
       "                                               edge_p95_median_3.51  \\\n",
       "skew_p95_median_6.824999999999999                          0.416088   \n",
       "kurt_p5_median_6.824999999999999                           0.392338   \n",
       "edge_median_mean_0.0                                       0.499554   \n",
       "img_std_norm (g/cm3)_mean_6.824999999999999                0.587511   \n",
       "skew_p95_median_3.51                                       0.186829   \n",
       "skew_p95_mean_3.51                                         0.185812   \n",
       "skew_p95_mean_6.824999999999999                            0.437030   \n",
       "img_std_norm (g/cm3)_median_6.824999999999999              0.204473   \n",
       "kurt_p95_median_6.824999999999999                          0.599574   \n",
       "kurt_p95_mean_6.824999999999999                            0.592722   \n",
       "edge_p95_mean_0.0                                          0.490120   \n",
       "edge_p95_median_3.51                                       1.000000   \n",
       "edge_std_mean_0.0                                          0.490959   \n",
       "edge_median_median_0.0                                     0.605211   \n",
       "kurt_p5_mean_6.824999999999999                             0.360655   \n",
       "\n",
       "                                               edge_std_mean_0.0  \\\n",
       "skew_p95_median_6.824999999999999                       0.647981   \n",
       "kurt_p5_median_6.824999999999999                        0.302081   \n",
       "edge_median_mean_0.0                                    0.905294   \n",
       "img_std_norm (g/cm3)_mean_6.824999999999999             0.151629   \n",
       "skew_p95_median_3.51                                    0.626066   \n",
       "skew_p95_mean_3.51                                      0.632299   \n",
       "skew_p95_mean_6.824999999999999                         0.661890   \n",
       "img_std_norm (g/cm3)_median_6.824999999999999           0.238647   \n",
       "kurt_p95_median_6.824999999999999                       0.043934   \n",
       "kurt_p95_mean_6.824999999999999                         0.026979   \n",
       "edge_p95_mean_0.0                                       0.996770   \n",
       "edge_p95_median_3.51                                    0.490959   \n",
       "edge_std_mean_0.0                                       1.000000   \n",
       "edge_median_median_0.0                                  0.892407   \n",
       "kurt_p5_mean_6.824999999999999                          0.326318   \n",
       "\n",
       "                                               edge_median_median_0.0  \\\n",
       "skew_p95_median_6.824999999999999                            0.690748   \n",
       "kurt_p5_median_6.824999999999999                             0.221943   \n",
       "edge_median_mean_0.0                                         0.956430   \n",
       "img_std_norm (g/cm3)_mean_6.824999999999999                  0.049764   \n",
       "skew_p95_median_3.51                                         0.616216   \n",
       "skew_p95_mean_3.51                                           0.623911   \n",
       "skew_p95_mean_6.824999999999999                              0.706139   \n",
       "img_std_norm (g/cm3)_median_6.824999999999999                0.152955   \n",
       "kurt_p95_median_6.824999999999999                            0.180862   \n",
       "kurt_p95_mean_6.824999999999999                              0.169812   \n",
       "edge_p95_mean_0.0                                            0.905998   \n",
       "edge_p95_median_3.51                                         0.605211   \n",
       "edge_std_mean_0.0                                            0.892407   \n",
       "edge_median_median_0.0                                       1.000000   \n",
       "kurt_p5_mean_6.824999999999999                               0.247737   \n",
       "\n",
       "                                               kurt_p5_mean_6.824999999999999  \n",
       "skew_p95_median_6.824999999999999                                    0.547765  \n",
       "kurt_p5_median_6.824999999999999                                     0.982133  \n",
       "edge_median_mean_0.0                                                 0.355926  \n",
       "img_std_norm (g/cm3)_mean_6.824999999999999                          0.858321  \n",
       "skew_p95_median_3.51                                                 0.589455  \n",
       "skew_p95_mean_3.51                                                   0.584025  \n",
       "skew_p95_mean_6.824999999999999                                      0.535315  \n",
       "img_std_norm (g/cm3)_median_6.824999999999999                        0.137552  \n",
       "kurt_p95_median_6.824999999999999                                    0.715130  \n",
       "kurt_p95_mean_6.824999999999999                                      0.730918  \n",
       "edge_p95_mean_0.0                                                    0.330057  \n",
       "edge_p95_median_3.51                                                 0.360655  \n",
       "edge_std_mean_0.0                                                    0.326318  \n",
       "edge_median_median_0.0                                               0.247737  \n",
       "kurt_p5_mean_6.824999999999999                                       1.000000  "
      ]
     },
     "execution_count": 135,
     "metadata": {},
     "output_type": "execute_result"
    }
   ],
   "source": [
    "X,y,scan = get_features(3)\n",
    "X = X[feature_importance.loc[0:15,'Feature']]\n",
    "correlation_matrix = abs(X.corr())\n",
    "correlation_matrix"
   ]
  },
  {
   "cell_type": "markdown",
   "id": "907865aa",
   "metadata": {},
   "source": [
    "From this selection of features, if we choose just three features with relatively low correlation with each other (they share minimal information), and use them rather than a set of 12 features, we can still get relatively decent prediction accuracy (especially for prediction of fertilizer, although all around not as accurate as using previously selected sets of 12 features)."
   ]
  },
  {
   "cell_type": "code",
   "execution_count": 136,
   "id": "68bc7de6",
   "metadata": {},
   "outputs": [
    {
     "data": {
      "text/html": [
       "<div>\n",
       "<style scoped>\n",
       "    .dataframe tbody tr th:only-of-type {\n",
       "        vertical-align: middle;\n",
       "    }\n",
       "\n",
       "    .dataframe tbody tr th {\n",
       "        vertical-align: top;\n",
       "    }\n",
       "\n",
       "    .dataframe thead th {\n",
       "        text-align: right;\n",
       "    }\n",
       "</style>\n",
       "<table border=\"1\" class=\"dataframe\">\n",
       "  <thead>\n",
       "    <tr style=\"text-align: right;\">\n",
       "      <th></th>\n",
       "      <th>Fold</th>\n",
       "      <th>Tillage-Fertilizer Classification</th>\n",
       "      <th>Tillage Classification</th>\n",
       "      <th>Fertilizer Classification</th>\n",
       "    </tr>\n",
       "  </thead>\n",
       "  <tbody>\n",
       "    <tr>\n",
       "      <th>0</th>\n",
       "      <td>1</td>\n",
       "      <td>0.909091</td>\n",
       "      <td>0.909091</td>\n",
       "      <td>1.000000</td>\n",
       "    </tr>\n",
       "    <tr>\n",
       "      <th>1</th>\n",
       "      <td>2</td>\n",
       "      <td>0.636364</td>\n",
       "      <td>0.727273</td>\n",
       "      <td>1.000000</td>\n",
       "    </tr>\n",
       "    <tr>\n",
       "      <th>2</th>\n",
       "      <td>3</td>\n",
       "      <td>0.800000</td>\n",
       "      <td>0.900000</td>\n",
       "      <td>0.909091</td>\n",
       "    </tr>\n",
       "    <tr>\n",
       "      <th>3</th>\n",
       "      <td>4</td>\n",
       "      <td>0.545455</td>\n",
       "      <td>0.636364</td>\n",
       "      <td>1.000000</td>\n",
       "    </tr>\n",
       "    <tr>\n",
       "      <th>4</th>\n",
       "      <td>5</td>\n",
       "      <td>0.727273</td>\n",
       "      <td>0.636364</td>\n",
       "      <td>0.800000</td>\n",
       "    </tr>\n",
       "    <tr>\n",
       "      <th>5</th>\n",
       "      <td>Average</td>\n",
       "      <td>0.723636</td>\n",
       "      <td>0.761818</td>\n",
       "      <td>0.941818</td>\n",
       "    </tr>\n",
       "  </tbody>\n",
       "</table>\n",
       "</div>"
      ],
      "text/plain": [
       "      Fold  Tillage-Fertilizer Classification  Tillage Classification  \\\n",
       "0        1                           0.909091                0.909091   \n",
       "1        2                           0.636364                0.727273   \n",
       "2        3                           0.800000                0.900000   \n",
       "3        4                           0.545455                0.636364   \n",
       "4        5                           0.727273                0.636364   \n",
       "5  Average                           0.723636                0.761818   \n",
       "\n",
       "   Fertilizer Classification  \n",
       "0                   1.000000  \n",
       "1                   1.000000  \n",
       "2                   0.909091  \n",
       "3                   1.000000  \n",
       "4                   0.800000  \n",
       "5                   0.941818  "
      ]
     },
     "execution_count": 136,
     "metadata": {},
     "output_type": "execute_result"
    }
   ],
   "source": [
    "# Collect features\n",
    "X,y,scan = get_features(3)\n",
    "y_split = y.str.split(\"-\", expand=True)\n",
    "yt = y_split[0]\n",
    "yf = y_split[1]\n",
    "\n",
    "a = ['skew_p95_median_6.824999999999999', 'kurt_p95_median_6.824999999999999', 'edge_p95_median_3.51']\n",
    "\n",
    "scorestf, scoresmeantf, execution_time = evaluate_svn(X,a,y,scan)\n",
    "scorest, scoresmeant, execution_time = evaluate_svn(X,a,yt,scan)\n",
    "scoresf, scoresmeanf, execution_time = evaluate_svn(X,a,yf,scan)\n",
    "\n",
    "scores = {'Fold': ['1', '2', '3', '4', '5', 'Average'],\n",
    "        'Tillage-Fertilizer Classification': np.append(scorestf, scoresmeantf),\n",
    "        'Tillage Classification': np.append(scorest, scoresmeant),\n",
    "        'Fertilizer Classification': np.append(scoresf, scoresmeanf)}\n",
    "df_scores = pd.DataFrame(scores)\n",
    "df_scores"
   ]
  },
  {
   "cell_type": "markdown",
   "id": "e0470ee3",
   "metadata": {},
   "source": [
    "## Conclusions:\n",
    "Skew, Kurtosis, and Sobel edge seem to be good metrics to differentiate soils. Changes in skew and kurtosis seem indicative of fertilizer vs manure, while changes in edges seems indicative of tillage differences. Depth affects which metrics are most important, especially to differentiate tillage of high fertilizer soils\n",
    "\n",
    "Future directions:\n",
    "- How do these metrics connect with physical metrics like drainage, nutrient transport, etc? More experiments required.\n",
    "- How do these metrics connect to pore structure metrics?\n",
    "- How do bulk density measurements compare to x-ray calculated values?\n"
   ]
  },
  {
   "cell_type": "code",
   "execution_count": null,
   "id": "ecfc484d",
   "metadata": {},
   "outputs": [],
   "source": []
  }
 ],
 "metadata": {
  "kernelspec": {
   "display_name": "Python 3 (ipykernel)",
   "language": "python",
   "name": "python3"
  },
  "language_info": {
   "codemirror_mode": {
    "name": "ipython",
    "version": 3
   },
   "file_extension": ".py",
   "mimetype": "text/x-python",
   "name": "python",
   "nbconvert_exporter": "python",
   "pygments_lexer": "ipython3",
   "version": "3.7.4"
  }
 },
 "nbformat": 4,
 "nbformat_minor": 5
}
