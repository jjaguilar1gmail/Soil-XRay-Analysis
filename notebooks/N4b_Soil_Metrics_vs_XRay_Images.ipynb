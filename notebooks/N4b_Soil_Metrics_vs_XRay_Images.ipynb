{
 "cells": [
  {
   "cell_type": "code",
   "execution_count": 7,
   "id": "b79e15fc",
   "metadata": {},
   "outputs": [],
   "source": [
    "import pandas as pd\n",
    "import numpy as np\n",
    "from xray_stats import load_process as lp\n",
    "\n",
    "import os\n",
    "from PIL import Image\n",
    "\n",
    "import plotly.graph_objects as go\n",
    "from ipywidgets import Output, VBox\n",
    "from IPython.display import display"
   ]
  },
  {
   "cell_type": "markdown",
   "id": "fbbbff01",
   "metadata": {},
   "source": [
    "## Comparing key soil metrics to corresponding X-Ray images\n",
    "To get an intuition of what different regions of kurtosis/skewness/sobel space look like, in this notebook I provide a script that interactively lets you select individual plotted points of horizontal slices and see the x-ray image of that slice.\n",
    "\n",
    "\n",
    "### Locally store smaller file size images\n",
    "These select slices have been predecimated and saved as a part of this analysis package (so no need to access the entire raw x-ray dataset, see ../data/sample_images/). While these images are already provided, in this first code cell below, I provide the code that generates these decimated horizontal slices. You can skip to next cell to see the visual comparison."
   ]
  },
  {
   "cell_type": "code",
   "execution_count": null,
   "id": "26a428c9",
   "metadata": {},
   "outputs": [],
   "source": [
    "sample_image_write_path = \"../data/sample_images_recompute\"\n",
    "\n",
    "def get_center_image(path_to_tiff_stack, filename):\n",
    "    xc, yc, r = lp.estimate_circle_from_image(path_to_tiff_stack, filename)\n",
    "    img = Image.open(os.path.join(path_to_tiff_stack, filename))\n",
    "    img_center = np.array(img)\n",
    "    img_center = img_center[(int(yc)-400):(int(yc)+400),(int(xc)-400):(int(xc)+400)]\n",
    "    return img_center\n",
    "def write_center_image(tiff_index,stack_index,tiff_files_sorted, path_to_tiff_stack,output_path,outer_median,container_median):\n",
    "        \n",
    "    # Get center image\n",
    "    img_center = get_center_image(path_to_tiff_stack, tiff_files_sorted[tiff_index])\n",
    "    # Normalize based on outer intensity and container intensity\n",
    "    img_center = ((img_center-outer_median)/(container_median-outer_median)*1.022/2.5*255)\n",
    "    img_center[img_center<0]=0\n",
    "    img_center[img_center>255]=255\n",
    "    img_center = img_center.astype(np.uint8)\n",
    "    # Decimate the image (e.g., take every second pixel)\n",
    "    decimation_factor = 4\n",
    "    img_center_decimated = img_center[::decimation_factor, ::decimation_factor]\n",
    "    \n",
    "    # Create an output filename\n",
    "    output_filename = f\"t_{tiff_index}_s_{stack_index}.png\"\n",
    "    output_full_path = os.path.join(output_path, output_filename)\n",
    "    \n",
    "    # Convert and save the center image as PNG\n",
    "    img_center_pil = Image.fromarray(img_center_decimated)\n",
    "    img_center_pil.save(output_full_path, format=\"PNG\")\n",
    "    \n",
    "stacks = list(range(54)) \n",
    "stacks = [x + 1 for x in stacks]\n",
    "tiffskips = 50\n",
    "\n",
    "datas = []\n",
    "for stack in stacks:\n",
    "    # For the purposes of this analysis, I ignore scan 30, \n",
    "    # since it does not have container or air pixels to \n",
    "    # normalize to density like I do for the other images.\n",
    "    if stack != 30:\n",
    "        # Build the array of tiff indices to sample.\n",
    "        total_images, tiff_files_sorted, path_to_tiff_stack = lp.get_tiff_stack(stack)\n",
    "        outer_noise_attenuation = [];\n",
    "        container_attenuation = [];\n",
    "        i = 0;\n",
    "        # Subsample the tiffs to get average of background noise and container density\n",
    "        for tiff_index in np.linspace(0, total_images - 1, num=50, dtype=int): \n",
    "            i = i+1\n",
    "            try:\n",
    "                image = Image.open(os.path.join(path_to_tiff_stack, tiff_files_sorted[tiff_index]))\n",
    "                image = (np.array(image))\n",
    "                mask_container, mask_outside, mask_core = lp.get_masks_pre(image)\n",
    "\n",
    "                outer_noise_attenuation.append(np.nanmean(image[mask_outside]))\n",
    "                container_attenuation.append(np.nanmean(image[mask_container]))\n",
    "                lp.print_progress(i, 50)\n",
    "            except Exception as error:\n",
    "                print(f\"An error occurred while calculating container and air attenuation: {error}\")\n",
    "        outer_median = np.median(outer_noise_attenuation)\n",
    "        container_median = np.median(container_attenuation) \n",
    "        tiffs = np.arange(0, total_images, tiffskips)\n",
    "        for tiff in tiffs:\n",
    "            lp.print_and_flush(f\"Stack: {stack}, Tiff: {tiff}\")\n",
    "            try:\n",
    "                write_center_image(tiff,stack,tiff_files_sorted,path_to_tiff_stack,sample_image_write_path,outer_median,container_median)\n",
    "            except Exception as error:\n",
    "                print(f\"An error occurred during image writing: {error}\")"
   ]
  },
  {
   "cell_type": "markdown",
   "id": "493a8e32",
   "metadata": {},
   "source": [
    "### Interactive comparison\n",
    "Run the below code to see how different values of average sliding window (50px window size) skewness, kurtosis, and sobel edges affects the visuals of the horizontal xray slice. Marker color is currently based on depth of the horizontal slice (brighter is deeper)."
   ]
  },
  {
   "cell_type": "code",
   "execution_count": 8,
   "id": "eadc49c5",
   "metadata": {
    "scrolled": true
   },
   "outputs": [
    {
     "data": {
      "application/vnd.jupyter.widget-view+json": {
       "model_id": "277cb1a60ea74b6c8cfb8cf94c714a43",
       "version_major": 2,
       "version_minor": 0
      },
      "text/plain": [
       "VBox(children=(FigureWidget({\n",
       "    'data': [{'marker': {'color': array([ 0.   ,  0.195,  0.39 , ..., 12.48 , 12…"
      ]
     },
     "execution_count": 8,
     "metadata": {},
     "output_type": "execute_result"
    }
   ],
   "source": [
    "# Create FigureWidget\n",
    "fig = go.FigureWidget() \n",
    "\n",
    "# Load the data\n",
    "df = pd.read_csv('../data/precomputed_soil_stats.csv')\n",
    "df = df[(df[\"window_size\"] == 50) & (df[\"stack_index\"] != 30)]\n",
    "df = df.reset_index()\n",
    "\n",
    "# Add trace\n",
    "fig.add_trace(go.Scatter3d(\n",
    "  x=df[\"skew_mean\"],\n",
    "  y=df[\"kurt_mean\"], \n",
    "  z=df[\"edge_mean\"],\n",
    "  marker_color=df[\"depth\"],\n",
    "  marker_size = df[\"skew_mean\"]*0+7,\n",
    "  mode='markers'\n",
    "))\n",
    "fig.data[0].update(marker=dict(opacity=1, line=dict(width=0)))\n",
    "def display_image(trace, points, selector):\n",
    "    \n",
    "    idx = points.point_inds[0] # Use point_inds\n",
    "    tiff = df.loc[idx, 'tiff_index']\n",
    "    stack = df.loc[idx, 'stack_index']\n",
    "    img_name = '../data/sample_images/t_'+str(int(tiff))+'_s_'+str(int(stack))+'.png'\n",
    "    # Add image to figure\n",
    "    fig.add_layout_image(\n",
    "    dict(\n",
    "    source=img_name,\n",
    "    xref=\"paper\",\n",
    "    yref=\"paper\",\n",
    "    sizex=0.7,\n",
    "    sizey=0.7,\n",
    "    xanchor='left', \n",
    "    yanchor='bottom'\n",
    "    )\n",
    "    )\n",
    "# Register click handler  \n",
    "fig.data[0].on_hover(display_image)\n",
    "\n",
    "# Update axis labels\n",
    "fig.update_layout(scene=dict(\n",
    "    xaxis_title=\"Skew Mean\",\n",
    "    yaxis_title=\"Kurt Mean\",\n",
    "    zaxis_title=\"Edge Mean\"\n",
    "))\n",
    "\n",
    "# Display figure\n",
    "VBox([fig])"
   ]
  },
  {
   "cell_type": "code",
   "execution_count": null,
   "id": "8fca47a6",
   "metadata": {},
   "outputs": [],
   "source": []
  }
 ],
 "metadata": {
  "kernelspec": {
   "display_name": "Python 3",
   "language": "python",
   "name": "python3"
  },
  "language_info": {
   "codemirror_mode": {
    "name": "ipython",
    "version": 3
   },
   "file_extension": ".py",
   "mimetype": "text/x-python",
   "name": "python",
   "nbconvert_exporter": "python",
   "pygments_lexer": "ipython3",
   "version": "3.7.4"
  }
 },
 "nbformat": 4,
 "nbformat_minor": 5
}
